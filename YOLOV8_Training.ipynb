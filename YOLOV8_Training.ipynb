{
  "nbformat": 4,
  "nbformat_minor": 0,
  "metadata": {
    "colab": {
      "provenance": [],
      "gpuType": "T4"
    },
    "kernelspec": {
      "name": "python3",
      "display_name": "Python 3"
    },
    "language_info": {
      "name": "python"
    },
    "accelerator": "GPU"
  },
  "cells": [
    {
      "cell_type": "code",
      "execution_count": null,
      "metadata": {
        "id": "c9c5n9WCMtME"
      },
      "outputs": [],
      "source": [
        "#install yolo and tensorboard to trace indicators\n",
        "!pip install ultralytics\n",
        "!pip install tensorboard"
      ]
    },
    {
      "cell_type": "code",
      "source": [
        "from ultralytics import YOLO\n",
        "import torch"
      ],
      "metadata": {
        "id": "cGQCK8DRM7YH"
      },
      "execution_count": null,
      "outputs": []
    },
    {
      "cell_type": "code",
      "source": [
        "model = YOLO('yolov8m.pt')"
      ],
      "metadata": {
        "id": "A8Bqw2SJNEuN"
      },
      "execution_count": null,
      "outputs": []
    },
    {
      "cell_type": "code",
      "source": [
        "!pip install gdown"
      ],
      "metadata": {
        "id": "K01IPwyXNkTZ"
      },
      "execution_count": null,
      "outputs": []
    },
    {
      "cell_type": "code",
      "source": [
        "import gdown\n",
        "\n",
        "#download dataset into colab\n",
        "url = 'https://drive.google.com/uc?id=1yyINNxACBG6fwzc41pq74ldwsJ6HdwCr'\n",
        "output_path = '/content/dataset.zip'\n",
        "gdown.download(url, output_path, quiet=False)\n",
        "\n",
        "import zipfile\n",
        "\n",
        "with zipfile.ZipFile(output_path, 'r') as zip_ref:\n",
        "    zip_ref.extractall('/content/dataset')"
      ],
      "metadata": {
        "id": "8gPhwZAQPE1j"
      },
      "execution_count": null,
      "outputs": []
    },
    {
      "cell_type": "code",
      "source": [
        "model.train(\n",
        "    data='/content/dataset/data.yaml',\n",
        "    project='pretrained',\n",
        "    name='augmented_epoch20',\n",
        "    epochs=20,\n",
        "    batch=16,\n",
        "    imgsz=640,\n",
        "    lr0=0.01, #initial learning rate\n",
        "    lrf=0.1, #final learning rate\n",
        "    momentum=0.937,\n",
        "    weight_decay=0.0005, #prevent overfitting\n",
        "    optimizer='SGD'\n",
        ")"
      ],
      "metadata": {
        "id": "F5v1g8-EWBxU"
      },
      "execution_count": null,
      "outputs": []
    },
    {
      "cell_type": "code",
      "source": [
        "#validation\n",
        "model.val(data='/content/dataset/data.yaml')"
      ],
      "metadata": {
        "id": "hsZiSfJJslCd"
      },
      "execution_count": null,
      "outputs": []
    },
    {
      "cell_type": "code",
      "source": [
        "import shutil\n",
        "from google.colab import files\n",
        "\n",
        "#download training data\n",
        "folder_path = '/content/pretrained'\n",
        "shutil.make_archive('/content/original_epoch20', 'zip', folder_path)\n",
        "files.download('/content/original_epoch20.zip')"
      ],
      "metadata": {
        "id": "n4tjT-s9s_rb"
      },
      "execution_count": null,
      "outputs": []
    }
  ]
}