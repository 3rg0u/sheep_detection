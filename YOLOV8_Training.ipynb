{
  "nbformat": 4,
  "nbformat_minor": 0,
  "metadata": {
    "colab": {
      "provenance": [],
      "gpuType": "T4"
    },
    "kernelspec": {
      "name": "python3",
      "display_name": "Python 3"
    },
    "language_info": {
      "name": "python"
    },
    "accelerator": "GPU"
  },
  "cells": [
    {
      "cell_type": "code",
      "execution_count": null,
      "metadata": {
        "id": "c9c5n9WCMtME"
      },
      "outputs": [],
      "source": [
        "#install yolo and tensorboard to trace indicators\n",
        "!pip install ultralytics\n",
        "!pip install tensorboard"
      ]
    },
    {
      "cell_type": "code",
      "source": [
        "from ultralytics import YOLO\n",
        "import torch"
      ],
      "metadata": {
        "id": "cGQCK8DRM7YH",
        "colab": {
          "base_uri": "https://localhost:8080/"
        },
        "outputId": "12a2150f-a204-43e8-acd2-f580be68f902"
      },
      "execution_count": 2,
      "outputs": [
        {
          "output_type": "stream",
          "name": "stdout",
          "text": [
            "Creating new Ultralytics Settings v0.0.6 file ✅ \n",
            "View Ultralytics Settings with 'yolo settings' or at '/root/.config/Ultralytics/settings.json'\n",
            "Update Settings with 'yolo settings key=value', i.e. 'yolo settings runs_dir=path/to/dir'. For help see https://docs.ultralytics.com/quickstart/#ultralytics-settings.\n"
          ]
        }
      ]
    },
    {
      "cell_type": "code",
      "source": [
        "model = YOLO('yolov8m.pt')"
      ],
      "metadata": {
        "id": "A8Bqw2SJNEuN",
        "colab": {
          "base_uri": "https://localhost:8080/"
        },
        "outputId": "a9e50a69-40a7-435e-ae95-0d8e6f34c369"
      },
      "execution_count": 3,
      "outputs": [
        {
          "output_type": "stream",
          "name": "stdout",
          "text": [
            "Downloading https://github.com/ultralytics/assets/releases/download/v8.3.0/yolov8m.pt to 'yolov8m.pt'...\n"
          ]
        },
        {
          "output_type": "stream",
          "name": "stderr",
          "text": [
            "100%|██████████| 49.7M/49.7M [00:00<00:00, 306MB/s]\n"
          ]
        }
      ]
    },
    {
      "cell_type": "code",
      "source": [
        "!pip install gdown"
      ],
      "metadata": {
        "id": "K01IPwyXNkTZ"
      },
      "execution_count": null,
      "outputs": []
    },
    {
      "cell_type": "code",
      "source": [
        "import gdown\n",
        "\n",
        "#download dataset into colab\n",
        "url = 'https://drive.google.com/uc?id=1yyINNxACBG6fwzc41pq74ldwsJ6HdwCr'\n",
        "output_path = '/content/dataset.zip'\n",
        "gdown.download(url, output_path, quiet=False)\n",
        "\n",
        "import zipfile\n",
        "\n",
        "with zipfile.ZipFile(output_path, 'r') as zip_ref:\n",
        "    zip_ref.extractall('/content/dataset')"
      ],
      "metadata": {
        "id": "8gPhwZAQPE1j",
        "colab": {
          "base_uri": "https://localhost:8080/"
        },
        "outputId": "81ed1a22-f221-4d27-ef95-ed298e89d494"
      },
      "execution_count": 5,
      "outputs": [
        {
          "output_type": "stream",
          "name": "stderr",
          "text": [
            "Downloading...\n",
            "From (original): https://drive.google.com/uc?id=1yyINNxACBG6fwzc41pq74ldwsJ6HdwCr\n",
            "From (redirected): https://drive.google.com/uc?id=1yyINNxACBG6fwzc41pq74ldwsJ6HdwCr&confirm=t&uuid=4370590a-fd6a-4a13-9852-4374a08e93ad\n",
            "To: /content/dataset.zip\n",
            "100%|██████████| 140M/140M [00:05<00:00, 26.1MB/s]\n"
          ]
        }
      ]
    },
    {
      "cell_type": "code",
      "source": [
        "model.train(\n",
        "    data='/content/dataset/data.yaml',\n",
        "    project='pretrained',\n",
        "    name='augmented_epoch20',\n",
        "    epochs=20,\n",
        "    batch=16,\n",
        "    imgsz=640,\n",
        "    lr0=0.01, #initial learning rate\n",
        "    lrf=0.1, #final learning rate\n",
        "    momentum=0.937,\n",
        "    weight_decay=0.0005, #prevent overfitting\n",
        "    optimizer='SGD'\n",
        ")"
      ],
      "metadata": {
        "id": "F5v1g8-EWBxU",
        "colab": {
          "base_uri": "https://localhost:8080/"
        },
        "outputId": "9ff2b6c0-0911-45a7-ce95-8d525d2e4229"
      },
      "execution_count": 6,
      "outputs": [
        {
          "output_type": "stream",
          "name": "stdout",
          "text": [
            "Ultralytics 8.3.40 🚀 Python-3.10.12 torch-2.5.1+cu121 CUDA:0 (Tesla T4, 15102MiB)\n",
            "\u001b[34m\u001b[1mengine/trainer: \u001b[0mtask=detect, mode=train, model=yolov8m.pt, data=/content/dataset/data.yaml, epochs=20, time=None, patience=100, batch=16, imgsz=640, save=True, save_period=-1, cache=False, device=None, workers=8, project=pretrained, name=augmented_epoch20, exist_ok=False, pretrained=True, optimizer=SGD, verbose=True, seed=0, deterministic=True, single_cls=False, rect=False, cos_lr=False, close_mosaic=10, resume=False, amp=True, fraction=1.0, profile=False, freeze=None, multi_scale=False, overlap_mask=True, mask_ratio=4, dropout=0.0, val=True, split=val, save_json=False, save_hybrid=False, conf=None, iou=0.7, max_det=300, half=False, dnn=False, plots=True, source=None, vid_stride=1, stream_buffer=False, visualize=False, augment=False, agnostic_nms=False, classes=None, retina_masks=False, embed=None, show=False, save_frames=False, save_txt=False, save_conf=False, save_crop=False, show_labels=True, show_conf=True, show_boxes=True, line_width=None, format=torchscript, keras=False, optimize=False, int8=False, dynamic=False, simplify=True, opset=None, workspace=None, nms=False, lr0=0.01, lrf=0.1, momentum=0.937, weight_decay=0.0005, warmup_epochs=3.0, warmup_momentum=0.8, warmup_bias_lr=0.1, box=7.5, cls=0.5, dfl=1.5, pose=12.0, kobj=1.0, nbs=64, hsv_h=0.015, hsv_s=0.7, hsv_v=0.4, degrees=0.0, translate=0.1, scale=0.5, shear=0.0, perspective=0.0, flipud=0.0, fliplr=0.5, bgr=0.0, mosaic=1.0, mixup=0.0, copy_paste=0.0, copy_paste_mode=flip, auto_augment=randaugment, erasing=0.4, crop_fraction=1.0, cfg=None, tracker=botsort.yaml, save_dir=pretrained/augmented_epoch20\n",
            "Downloading https://ultralytics.com/assets/Arial.ttf to '/root/.config/Ultralytics/Arial.ttf'...\n"
          ]
        },
        {
          "output_type": "stream",
          "name": "stderr",
          "text": [
            "100%|██████████| 755k/755k [00:00<00:00, 21.8MB/s]\n"
          ]
        },
        {
          "output_type": "stream",
          "name": "stdout",
          "text": [
            "Overriding model.yaml nc=80 with nc=1\n",
            "\n",
            "                   from  n    params  module                                       arguments                     \n",
            "  0                  -1  1      1392  ultralytics.nn.modules.conv.Conv             [3, 48, 3, 2]                 \n",
            "  1                  -1  1     41664  ultralytics.nn.modules.conv.Conv             [48, 96, 3, 2]                \n",
            "  2                  -1  2    111360  ultralytics.nn.modules.block.C2f             [96, 96, 2, True]             \n",
            "  3                  -1  1    166272  ultralytics.nn.modules.conv.Conv             [96, 192, 3, 2]               \n",
            "  4                  -1  4    813312  ultralytics.nn.modules.block.C2f             [192, 192, 4, True]           \n",
            "  5                  -1  1    664320  ultralytics.nn.modules.conv.Conv             [192, 384, 3, 2]              \n",
            "  6                  -1  4   3248640  ultralytics.nn.modules.block.C2f             [384, 384, 4, True]           \n",
            "  7                  -1  1   1991808  ultralytics.nn.modules.conv.Conv             [384, 576, 3, 2]              \n",
            "  8                  -1  2   3985920  ultralytics.nn.modules.block.C2f             [576, 576, 2, True]           \n",
            "  9                  -1  1    831168  ultralytics.nn.modules.block.SPPF            [576, 576, 5]                 \n",
            " 10                  -1  1         0  torch.nn.modules.upsampling.Upsample         [None, 2, 'nearest']          \n",
            " 11             [-1, 6]  1         0  ultralytics.nn.modules.conv.Concat           [1]                           \n",
            " 12                  -1  2   1993728  ultralytics.nn.modules.block.C2f             [960, 384, 2]                 \n",
            " 13                  -1  1         0  torch.nn.modules.upsampling.Upsample         [None, 2, 'nearest']          \n",
            " 14             [-1, 4]  1         0  ultralytics.nn.modules.conv.Concat           [1]                           \n",
            " 15                  -1  2    517632  ultralytics.nn.modules.block.C2f             [576, 192, 2]                 \n",
            " 16                  -1  1    332160  ultralytics.nn.modules.conv.Conv             [192, 192, 3, 2]              \n",
            " 17            [-1, 12]  1         0  ultralytics.nn.modules.conv.Concat           [1]                           \n",
            " 18                  -1  2   1846272  ultralytics.nn.modules.block.C2f             [576, 384, 2]                 \n",
            " 19                  -1  1   1327872  ultralytics.nn.modules.conv.Conv             [384, 384, 3, 2]              \n",
            " 20             [-1, 9]  1         0  ultralytics.nn.modules.conv.Concat           [1]                           \n",
            " 21                  -1  2   4207104  ultralytics.nn.modules.block.C2f             [960, 576, 2]                 \n",
            " 22        [15, 18, 21]  1   3776275  ultralytics.nn.modules.head.Detect           [1, [192, 384, 576]]          \n",
            "Model summary: 295 layers, 25,856,899 parameters, 25,856,883 gradients, 79.1 GFLOPs\n",
            "\n",
            "Transferred 469/475 items from pretrained weights\n",
            "\u001b[34m\u001b[1mTensorBoard: \u001b[0mStart with 'tensorboard --logdir pretrained/augmented_epoch20', view at http://localhost:6006/\n",
            "Freezing layer 'model.22.dfl.conv.weight'\n",
            "\u001b[34m\u001b[1mAMP: \u001b[0mrunning Automatic Mixed Precision (AMP) checks...\n",
            "Downloading https://github.com/ultralytics/assets/releases/download/v8.3.0/yolo11n.pt to 'yolo11n.pt'...\n"
          ]
        },
        {
          "output_type": "stream",
          "name": "stderr",
          "text": [
            "100%|██████████| 5.35M/5.35M [00:00<00:00, 96.3MB/s]\n"
          ]
        },
        {
          "output_type": "stream",
          "name": "stdout",
          "text": [
            "\u001b[34m\u001b[1mAMP: \u001b[0mchecks passed ✅\n"
          ]
        },
        {
          "output_type": "stream",
          "name": "stderr",
          "text": [
            "\u001b[34m\u001b[1mtrain: \u001b[0mScanning /content/dataset/train/labels... 1970 images, 0 backgrounds, 0 corrupt: 100%|██████████| 1970/1970 [00:01<00:00, 1744.11it/s]"
          ]
        },
        {
          "output_type": "stream",
          "name": "stdout",
          "text": [
            "\u001b[34m\u001b[1mtrain: \u001b[0mNew cache created: /content/dataset/train/labels.cache\n"
          ]
        },
        {
          "output_type": "stream",
          "name": "stderr",
          "text": [
            "\n"
          ]
        },
        {
          "output_type": "stream",
          "name": "stdout",
          "text": [
            "\u001b[34m\u001b[1malbumentations: \u001b[0mBlur(p=0.01, blur_limit=(3, 7)), MedianBlur(p=0.01, blur_limit=(3, 7)), ToGray(p=0.01, num_output_channels=3, method='weighted_average'), CLAHE(p=0.01, clip_limit=(1.0, 4.0), tile_grid_size=(8, 8))\n"
          ]
        },
        {
          "output_type": "stream",
          "name": "stderr",
          "text": [
            "/usr/local/lib/python3.10/dist-packages/albumentations/__init__.py:24: UserWarning: A new version of Albumentations is available: 1.4.21 (you have 1.4.20). Upgrade using: pip install -U albumentations. To disable automatic update checks, set the environment variable NO_ALBUMENTATIONS_UPDATE to 1.\n",
            "  check_for_updates()\n",
            "\u001b[34m\u001b[1mval: \u001b[0mScanning /content/dataset/valid/labels... 283 images, 0 backgrounds, 0 corrupt: 100%|██████████| 283/283 [00:00<00:00, 910.99it/s]"
          ]
        },
        {
          "output_type": "stream",
          "name": "stdout",
          "text": [
            "\u001b[34m\u001b[1mval: \u001b[0mNew cache created: /content/dataset/valid/labels.cache\n"
          ]
        },
        {
          "output_type": "stream",
          "name": "stderr",
          "text": [
            "\n"
          ]
        },
        {
          "output_type": "stream",
          "name": "stdout",
          "text": [
            "Plotting labels to pretrained/augmented_epoch20/labels.jpg... \n",
            "\u001b[34m\u001b[1moptimizer:\u001b[0m SGD(lr=0.01, momentum=0.937) with parameter groups 77 weight(decay=0.0), 84 weight(decay=0.0005), 83 bias(decay=0.0)\n",
            "\u001b[34m\u001b[1mTensorBoard: \u001b[0mmodel graph visualization added ✅\n",
            "Image sizes 640 train, 640 val\n",
            "Using 2 dataloader workers\n",
            "Logging results to \u001b[1mpretrained/augmented_epoch20\u001b[0m\n",
            "Starting training for 20 epochs...\n",
            "\n",
            "      Epoch    GPU_mem   box_loss   cls_loss   dfl_loss  Instances       Size\n"
          ]
        },
        {
          "output_type": "stream",
          "name": "stderr",
          "text": [
            "       1/20      6.86G      1.534      1.496      1.668          6        640: 100%|██████████| 124/124 [01:09<00:00,  1.80it/s]\n",
            "                 Class     Images  Instances      Box(P          R      mAP50  mAP50-95): 100%|██████████| 9/9 [00:05<00:00,  1.76it/s]"
          ]
        },
        {
          "output_type": "stream",
          "name": "stdout",
          "text": [
            "                   all        283        713      0.918      0.881      0.946      0.615\n"
          ]
        },
        {
          "output_type": "stream",
          "name": "stderr",
          "text": [
            "\n"
          ]
        },
        {
          "output_type": "stream",
          "name": "stdout",
          "text": [
            "\n",
            "      Epoch    GPU_mem   box_loss   cls_loss   dfl_loss  Instances       Size\n"
          ]
        },
        {
          "output_type": "stream",
          "name": "stderr",
          "text": [
            "       2/20      6.78G      1.279     0.8344       1.36          5        640: 100%|██████████| 124/124 [01:07<00:00,  1.84it/s]\n",
            "                 Class     Images  Instances      Box(P          R      mAP50  mAP50-95): 100%|██████████| 9/9 [00:04<00:00,  2.09it/s]"
          ]
        },
        {
          "output_type": "stream",
          "name": "stdout",
          "text": [
            "                   all        283        713      0.931      0.908      0.959      0.628\n"
          ]
        },
        {
          "output_type": "stream",
          "name": "stderr",
          "text": [
            "\n"
          ]
        },
        {
          "output_type": "stream",
          "name": "stdout",
          "text": [
            "\n",
            "      Epoch    GPU_mem   box_loss   cls_loss   dfl_loss  Instances       Size\n"
          ]
        },
        {
          "output_type": "stream",
          "name": "stderr",
          "text": [
            "       3/20      6.78G      1.305     0.8456      1.349          6        640: 100%|██████████| 124/124 [01:06<00:00,  1.85it/s]\n",
            "                 Class     Images  Instances      Box(P          R      mAP50  mAP50-95): 100%|██████████| 9/9 [00:05<00:00,  1.70it/s]"
          ]
        },
        {
          "output_type": "stream",
          "name": "stdout",
          "text": [
            "                   all        283        713      0.877      0.856      0.915       0.57\n"
          ]
        },
        {
          "output_type": "stream",
          "name": "stderr",
          "text": [
            "\n"
          ]
        },
        {
          "output_type": "stream",
          "name": "stdout",
          "text": [
            "\n",
            "      Epoch    GPU_mem   box_loss   cls_loss   dfl_loss  Instances       Size\n"
          ]
        },
        {
          "output_type": "stream",
          "name": "stderr",
          "text": [
            "       4/20      6.76G      1.311     0.8775      1.369         15        640: 100%|██████████| 124/124 [01:06<00:00,  1.86it/s]\n",
            "                 Class     Images  Instances      Box(P          R      mAP50  mAP50-95): 100%|██████████| 9/9 [00:04<00:00,  2.09it/s]"
          ]
        },
        {
          "output_type": "stream",
          "name": "stdout",
          "text": [
            "                   all        283        713      0.887      0.875      0.939      0.597\n"
          ]
        },
        {
          "output_type": "stream",
          "name": "stderr",
          "text": [
            "\n"
          ]
        },
        {
          "output_type": "stream",
          "name": "stdout",
          "text": [
            "\n",
            "      Epoch    GPU_mem   box_loss   cls_loss   dfl_loss  Instances       Size\n"
          ]
        },
        {
          "output_type": "stream",
          "name": "stderr",
          "text": [
            "       5/20      6.79G      1.319     0.8423      1.349          5        640: 100%|██████████| 124/124 [01:06<00:00,  1.86it/s]\n",
            "                 Class     Images  Instances      Box(P          R      mAP50  mAP50-95): 100%|██████████| 9/9 [00:03<00:00,  2.35it/s]"
          ]
        },
        {
          "output_type": "stream",
          "name": "stdout",
          "text": [
            "                   all        283        713      0.891      0.896      0.939      0.605\n"
          ]
        },
        {
          "output_type": "stream",
          "name": "stderr",
          "text": [
            "\n"
          ]
        },
        {
          "output_type": "stream",
          "name": "stdout",
          "text": [
            "\n",
            "      Epoch    GPU_mem   box_loss   cls_loss   dfl_loss  Instances       Size\n"
          ]
        },
        {
          "output_type": "stream",
          "name": "stderr",
          "text": [
            "       6/20      6.76G      1.288     0.8093      1.349          9        640: 100%|██████████| 124/124 [01:06<00:00,  1.87it/s]\n",
            "                 Class     Images  Instances      Box(P          R      mAP50  mAP50-95): 100%|██████████| 9/9 [00:03<00:00,  2.37it/s]"
          ]
        },
        {
          "output_type": "stream",
          "name": "stdout",
          "text": [
            "                   all        283        713      0.943       0.88      0.951      0.613\n"
          ]
        },
        {
          "output_type": "stream",
          "name": "stderr",
          "text": [
            "\n"
          ]
        },
        {
          "output_type": "stream",
          "name": "stdout",
          "text": [
            "\n",
            "      Epoch    GPU_mem   box_loss   cls_loss   dfl_loss  Instances       Size\n"
          ]
        },
        {
          "output_type": "stream",
          "name": "stderr",
          "text": [
            "       7/20      6.76G      1.288     0.8052      1.357          8        640: 100%|██████████| 124/124 [01:06<00:00,  1.86it/s]\n",
            "                 Class     Images  Instances      Box(P          R      mAP50  mAP50-95): 100%|██████████| 9/9 [00:04<00:00,  2.08it/s]"
          ]
        },
        {
          "output_type": "stream",
          "name": "stdout",
          "text": [
            "                   all        283        713      0.931      0.902      0.955      0.609\n"
          ]
        },
        {
          "output_type": "stream",
          "name": "stderr",
          "text": [
            "\n"
          ]
        },
        {
          "output_type": "stream",
          "name": "stdout",
          "text": [
            "\n",
            "      Epoch    GPU_mem   box_loss   cls_loss   dfl_loss  Instances       Size\n"
          ]
        },
        {
          "output_type": "stream",
          "name": "stderr",
          "text": [
            "       8/20      6.75G      1.272     0.7624      1.352         17        640: 100%|██████████| 124/124 [01:06<00:00,  1.86it/s]\n",
            "                 Class     Images  Instances      Box(P          R      mAP50  mAP50-95): 100%|██████████| 9/9 [00:04<00:00,  1.85it/s]"
          ]
        },
        {
          "output_type": "stream",
          "name": "stdout",
          "text": [
            "                   all        283        713       0.94      0.882      0.951      0.629\n"
          ]
        },
        {
          "output_type": "stream",
          "name": "stderr",
          "text": [
            "\n"
          ]
        },
        {
          "output_type": "stream",
          "name": "stdout",
          "text": [
            "\n",
            "      Epoch    GPU_mem   box_loss   cls_loss   dfl_loss  Instances       Size\n"
          ]
        },
        {
          "output_type": "stream",
          "name": "stderr",
          "text": [
            "       9/20      6.78G      1.247     0.7251      1.324          9        640: 100%|██████████| 124/124 [01:06<00:00,  1.87it/s]\n",
            "                 Class     Images  Instances      Box(P          R      mAP50  mAP50-95): 100%|██████████| 9/9 [00:03<00:00,  2.35it/s]"
          ]
        },
        {
          "output_type": "stream",
          "name": "stdout",
          "text": [
            "                   all        283        713      0.956      0.888      0.968      0.626\n"
          ]
        },
        {
          "output_type": "stream",
          "name": "stderr",
          "text": [
            "\n"
          ]
        },
        {
          "output_type": "stream",
          "name": "stdout",
          "text": [
            "\n",
            "      Epoch    GPU_mem   box_loss   cls_loss   dfl_loss  Instances       Size\n"
          ]
        },
        {
          "output_type": "stream",
          "name": "stderr",
          "text": [
            "      10/20      6.78G      1.228     0.6968      1.312         14        640: 100%|██████████| 124/124 [01:06<00:00,  1.88it/s]\n",
            "                 Class     Images  Instances      Box(P          R      mAP50  mAP50-95): 100%|██████████| 9/9 [00:03<00:00,  2.37it/s]"
          ]
        },
        {
          "output_type": "stream",
          "name": "stdout",
          "text": [
            "                   all        283        713      0.953      0.912      0.971      0.637\n"
          ]
        },
        {
          "output_type": "stream",
          "name": "stderr",
          "text": [
            "\n"
          ]
        },
        {
          "output_type": "stream",
          "name": "stdout",
          "text": [
            "Closing dataloader mosaic\n",
            "\u001b[34m\u001b[1malbumentations: \u001b[0mBlur(p=0.01, blur_limit=(3, 7)), MedianBlur(p=0.01, blur_limit=(3, 7)), ToGray(p=0.01, num_output_channels=3, method='weighted_average'), CLAHE(p=0.01, clip_limit=(1.0, 4.0), tile_grid_size=(8, 8))\n",
            "\n",
            "      Epoch    GPU_mem   box_loss   cls_loss   dfl_loss  Instances       Size\n"
          ]
        },
        {
          "output_type": "stream",
          "name": "stderr",
          "text": [
            "      11/20      6.77G      1.224     0.5996      1.338          5        640: 100%|██████████| 124/124 [01:08<00:00,  1.81it/s]\n",
            "                 Class     Images  Instances      Box(P          R      mAP50  mAP50-95): 100%|██████████| 9/9 [00:04<00:00,  2.09it/s]"
          ]
        },
        {
          "output_type": "stream",
          "name": "stdout",
          "text": [
            "                   all        283        713      0.944      0.903      0.962      0.633\n"
          ]
        },
        {
          "output_type": "stream",
          "name": "stderr",
          "text": [
            "\n"
          ]
        },
        {
          "output_type": "stream",
          "name": "stdout",
          "text": [
            "\n",
            "      Epoch    GPU_mem   box_loss   cls_loss   dfl_loss  Instances       Size\n"
          ]
        },
        {
          "output_type": "stream",
          "name": "stderr",
          "text": [
            "      12/20      6.73G      1.204     0.5777      1.309          4        640: 100%|██████████| 124/124 [01:05<00:00,  1.89it/s]\n",
            "                 Class     Images  Instances      Box(P          R      mAP50  mAP50-95): 100%|██████████| 9/9 [00:04<00:00,  1.91it/s]"
          ]
        },
        {
          "output_type": "stream",
          "name": "stdout",
          "text": [
            "                   all        283        713      0.936      0.938      0.974      0.661\n"
          ]
        },
        {
          "output_type": "stream",
          "name": "stderr",
          "text": [
            "\n"
          ]
        },
        {
          "output_type": "stream",
          "name": "stdout",
          "text": [
            "\n",
            "      Epoch    GPU_mem   box_loss   cls_loss   dfl_loss  Instances       Size\n"
          ]
        },
        {
          "output_type": "stream",
          "name": "stderr",
          "text": [
            "      13/20      6.73G      1.189      0.558      1.292          5        640: 100%|██████████| 124/124 [01:06<00:00,  1.87it/s]\n",
            "                 Class     Images  Instances      Box(P          R      mAP50  mAP50-95): 100%|██████████| 9/9 [00:03<00:00,  2.32it/s]"
          ]
        },
        {
          "output_type": "stream",
          "name": "stdout",
          "text": [
            "                   all        283        713      0.957      0.932      0.978      0.656\n"
          ]
        },
        {
          "output_type": "stream",
          "name": "stderr",
          "text": [
            "\n"
          ]
        },
        {
          "output_type": "stream",
          "name": "stdout",
          "text": [
            "\n",
            "      Epoch    GPU_mem   box_loss   cls_loss   dfl_loss  Instances       Size\n"
          ]
        },
        {
          "output_type": "stream",
          "name": "stderr",
          "text": [
            "      14/20      6.73G      1.162     0.5352      1.279          4        640: 100%|██████████| 124/124 [01:06<00:00,  1.87it/s]\n",
            "                 Class     Images  Instances      Box(P          R      mAP50  mAP50-95): 100%|██████████| 9/9 [00:03<00:00,  2.37it/s]"
          ]
        },
        {
          "output_type": "stream",
          "name": "stdout",
          "text": [
            "                   all        283        713      0.962      0.928      0.976      0.675\n"
          ]
        },
        {
          "output_type": "stream",
          "name": "stderr",
          "text": [
            "\n"
          ]
        },
        {
          "output_type": "stream",
          "name": "stdout",
          "text": [
            "\n",
            "      Epoch    GPU_mem   box_loss   cls_loss   dfl_loss  Instances       Size\n"
          ]
        },
        {
          "output_type": "stream",
          "name": "stderr",
          "text": [
            "      15/20      6.74G       1.14     0.5064      1.253         14        640: 100%|██████████| 124/124 [01:06<00:00,  1.87it/s]\n",
            "                 Class     Images  Instances      Box(P          R      mAP50  mAP50-95): 100%|██████████| 9/9 [00:03<00:00,  2.37it/s]"
          ]
        },
        {
          "output_type": "stream",
          "name": "stdout",
          "text": [
            "                   all        283        713      0.962      0.925      0.977      0.673\n"
          ]
        },
        {
          "output_type": "stream",
          "name": "stderr",
          "text": [
            "\n"
          ]
        },
        {
          "output_type": "stream",
          "name": "stdout",
          "text": [
            "\n",
            "      Epoch    GPU_mem   box_loss   cls_loss   dfl_loss  Instances       Size\n"
          ]
        },
        {
          "output_type": "stream",
          "name": "stderr",
          "text": [
            "      16/20      6.81G      1.123     0.5033      1.246          5        640: 100%|██████████| 124/124 [01:06<00:00,  1.87it/s]\n",
            "                 Class     Images  Instances      Box(P          R      mAP50  mAP50-95): 100%|██████████| 9/9 [00:03<00:00,  2.31it/s]"
          ]
        },
        {
          "output_type": "stream",
          "name": "stdout",
          "text": [
            "                   all        283        713      0.943       0.93      0.974      0.674\n"
          ]
        },
        {
          "output_type": "stream",
          "name": "stderr",
          "text": [
            "\n"
          ]
        },
        {
          "output_type": "stream",
          "name": "stdout",
          "text": [
            "\n",
            "      Epoch    GPU_mem   box_loss   cls_loss   dfl_loss  Instances       Size\n"
          ]
        },
        {
          "output_type": "stream",
          "name": "stderr",
          "text": [
            "      17/20      6.73G      1.095     0.4795      1.227         10        640: 100%|██████████| 124/124 [01:06<00:00,  1.88it/s]\n",
            "                 Class     Images  Instances      Box(P          R      mAP50  mAP50-95): 100%|██████████| 9/9 [00:03<00:00,  2.36it/s]"
          ]
        },
        {
          "output_type": "stream",
          "name": "stdout",
          "text": [
            "                   all        283        713      0.948      0.941      0.981      0.684\n"
          ]
        },
        {
          "output_type": "stream",
          "name": "stderr",
          "text": [
            "\n"
          ]
        },
        {
          "output_type": "stream",
          "name": "stdout",
          "text": [
            "\n",
            "      Epoch    GPU_mem   box_loss   cls_loss   dfl_loss  Instances       Size\n"
          ]
        },
        {
          "output_type": "stream",
          "name": "stderr",
          "text": [
            "      18/20      6.75G      1.073     0.4547      1.219          4        640: 100%|██████████| 124/124 [01:05<00:00,  1.88it/s]\n",
            "                 Class     Images  Instances      Box(P          R      mAP50  mAP50-95): 100%|██████████| 9/9 [00:04<00:00,  1.98it/s]"
          ]
        },
        {
          "output_type": "stream",
          "name": "stdout",
          "text": [
            "                   all        283        713      0.936      0.937      0.977      0.689\n"
          ]
        },
        {
          "output_type": "stream",
          "name": "stderr",
          "text": [
            "\n"
          ]
        },
        {
          "output_type": "stream",
          "name": "stdout",
          "text": [
            "\n",
            "      Epoch    GPU_mem   box_loss   cls_loss   dfl_loss  Instances       Size\n"
          ]
        },
        {
          "output_type": "stream",
          "name": "stderr",
          "text": [
            "      19/20      6.76G      1.051     0.4413      1.185          3        640: 100%|██████████| 124/124 [01:05<00:00,  1.88it/s]\n",
            "                 Class     Images  Instances      Box(P          R      mAP50  mAP50-95): 100%|██████████| 9/9 [00:04<00:00,  1.95it/s]"
          ]
        },
        {
          "output_type": "stream",
          "name": "stdout",
          "text": [
            "                   all        283        713      0.936      0.962       0.98      0.685\n"
          ]
        },
        {
          "output_type": "stream",
          "name": "stderr",
          "text": [
            "\n"
          ]
        },
        {
          "output_type": "stream",
          "name": "stdout",
          "text": [
            "\n",
            "      Epoch    GPU_mem   box_loss   cls_loss   dfl_loss  Instances       Size\n"
          ]
        },
        {
          "output_type": "stream",
          "name": "stderr",
          "text": [
            "      20/20      6.75G       1.03     0.4242      1.181          4        640: 100%|██████████| 124/124 [01:05<00:00,  1.89it/s]\n",
            "                 Class     Images  Instances      Box(P          R      mAP50  mAP50-95): 100%|██████████| 9/9 [00:03<00:00,  2.36it/s]"
          ]
        },
        {
          "output_type": "stream",
          "name": "stdout",
          "text": [
            "                   all        283        713      0.954      0.953      0.983      0.698\n"
          ]
        },
        {
          "output_type": "stream",
          "name": "stderr",
          "text": [
            "\n"
          ]
        },
        {
          "output_type": "stream",
          "name": "stdout",
          "text": [
            "\n",
            "20 epochs completed in 0.402 hours.\n",
            "Optimizer stripped from pretrained/augmented_epoch20/weights/last.pt, 52.0MB\n",
            "Optimizer stripped from pretrained/augmented_epoch20/weights/best.pt, 52.0MB\n",
            "\n",
            "Validating pretrained/augmented_epoch20/weights/best.pt...\n",
            "Ultralytics 8.3.40 🚀 Python-3.10.12 torch-2.5.1+cu121 CUDA:0 (Tesla T4, 15102MiB)\n",
            "Model summary (fused): 218 layers, 25,840,339 parameters, 0 gradients, 78.7 GFLOPs\n"
          ]
        },
        {
          "output_type": "stream",
          "name": "stderr",
          "text": [
            "                 Class     Images  Instances      Box(P          R      mAP50  mAP50-95): 100%|██████████| 9/9 [00:05<00:00,  1.59it/s]\n"
          ]
        },
        {
          "output_type": "stream",
          "name": "stdout",
          "text": [
            "                   all        283        713      0.954      0.952      0.983      0.698\n",
            "Speed: 0.3ms preprocess, 9.6ms inference, 0.0ms loss, 2.8ms postprocess per image\n",
            "Results saved to \u001b[1mpretrained/augmented_epoch20\u001b[0m\n"
          ]
        },
        {
          "output_type": "execute_result",
          "data": {
            "text/plain": [
              "ultralytics.utils.metrics.DetMetrics object with attributes:\n",
              "\n",
              "ap_class_index: array([0])\n",
              "box: ultralytics.utils.metrics.Metric object\n",
              "confusion_matrix: <ultralytics.utils.metrics.ConfusionMatrix object at 0x783a2760a020>\n",
              "curves: ['Precision-Recall(B)', 'F1-Confidence(B)', 'Precision-Confidence(B)', 'Recall-Confidence(B)']\n",
              "curves_results: [[array([          0,    0.001001,    0.002002,    0.003003,    0.004004,    0.005005,    0.006006,    0.007007,    0.008008,    0.009009,     0.01001,    0.011011,    0.012012,    0.013013,    0.014014,    0.015015,    0.016016,    0.017017,    0.018018,    0.019019,     0.02002,    0.021021,    0.022022,    0.023023,\n",
              "          0.024024,    0.025025,    0.026026,    0.027027,    0.028028,    0.029029,     0.03003,    0.031031,    0.032032,    0.033033,    0.034034,    0.035035,    0.036036,    0.037037,    0.038038,    0.039039,     0.04004,    0.041041,    0.042042,    0.043043,    0.044044,    0.045045,    0.046046,    0.047047,\n",
              "          0.048048,    0.049049,     0.05005,    0.051051,    0.052052,    0.053053,    0.054054,    0.055055,    0.056056,    0.057057,    0.058058,    0.059059,     0.06006,    0.061061,    0.062062,    0.063063,    0.064064,    0.065065,    0.066066,    0.067067,    0.068068,    0.069069,     0.07007,    0.071071,\n",
              "          0.072072,    0.073073,    0.074074,    0.075075,    0.076076,    0.077077,    0.078078,    0.079079,     0.08008,    0.081081,    0.082082,    0.083083,    0.084084,    0.085085,    0.086086,    0.087087,    0.088088,    0.089089,     0.09009,    0.091091,    0.092092,    0.093093,    0.094094,    0.095095,\n",
              "          0.096096,    0.097097,    0.098098,    0.099099,      0.1001,      0.1011,      0.1021,      0.1031,      0.1041,     0.10511,     0.10611,     0.10711,     0.10811,     0.10911,     0.11011,     0.11111,     0.11211,     0.11311,     0.11411,     0.11512,     0.11612,     0.11712,     0.11812,     0.11912,\n",
              "           0.12012,     0.12112,     0.12212,     0.12312,     0.12412,     0.12513,     0.12613,     0.12713,     0.12813,     0.12913,     0.13013,     0.13113,     0.13213,     0.13313,     0.13413,     0.13514,     0.13614,     0.13714,     0.13814,     0.13914,     0.14014,     0.14114,     0.14214,     0.14314,\n",
              "           0.14414,     0.14515,     0.14615,     0.14715,     0.14815,     0.14915,     0.15015,     0.15115,     0.15215,     0.15315,     0.15415,     0.15516,     0.15616,     0.15716,     0.15816,     0.15916,     0.16016,     0.16116,     0.16216,     0.16316,     0.16416,     0.16517,     0.16617,     0.16717,\n",
              "           0.16817,     0.16917,     0.17017,     0.17117,     0.17217,     0.17317,     0.17417,     0.17518,     0.17618,     0.17718,     0.17818,     0.17918,     0.18018,     0.18118,     0.18218,     0.18318,     0.18418,     0.18519,     0.18619,     0.18719,     0.18819,     0.18919,     0.19019,     0.19119,\n",
              "           0.19219,     0.19319,     0.19419,      0.1952,      0.1962,      0.1972,      0.1982,      0.1992,      0.2002,      0.2012,      0.2022,      0.2032,      0.2042,     0.20521,     0.20621,     0.20721,     0.20821,     0.20921,     0.21021,     0.21121,     0.21221,     0.21321,     0.21421,     0.21522,\n",
              "           0.21622,     0.21722,     0.21822,     0.21922,     0.22022,     0.22122,     0.22222,     0.22322,     0.22422,     0.22523,     0.22623,     0.22723,     0.22823,     0.22923,     0.23023,     0.23123,     0.23223,     0.23323,     0.23423,     0.23524,     0.23624,     0.23724,     0.23824,     0.23924,\n",
              "           0.24024,     0.24124,     0.24224,     0.24324,     0.24424,     0.24525,     0.24625,     0.24725,     0.24825,     0.24925,     0.25025,     0.25125,     0.25225,     0.25325,     0.25425,     0.25526,     0.25626,     0.25726,     0.25826,     0.25926,     0.26026,     0.26126,     0.26226,     0.26326,\n",
              "           0.26426,     0.26527,     0.26627,     0.26727,     0.26827,     0.26927,     0.27027,     0.27127,     0.27227,     0.27327,     0.27427,     0.27528,     0.27628,     0.27728,     0.27828,     0.27928,     0.28028,     0.28128,     0.28228,     0.28328,     0.28428,     0.28529,     0.28629,     0.28729,\n",
              "           0.28829,     0.28929,     0.29029,     0.29129,     0.29229,     0.29329,     0.29429,      0.2953,      0.2963,      0.2973,      0.2983,      0.2993,      0.3003,      0.3013,      0.3023,      0.3033,      0.3043,     0.30531,     0.30631,     0.30731,     0.30831,     0.30931,     0.31031,     0.31131,\n",
              "           0.31231,     0.31331,     0.31431,     0.31532,     0.31632,     0.31732,     0.31832,     0.31932,     0.32032,     0.32132,     0.32232,     0.32332,     0.32432,     0.32533,     0.32633,     0.32733,     0.32833,     0.32933,     0.33033,     0.33133,     0.33233,     0.33333,     0.33433,     0.33534,\n",
              "           0.33634,     0.33734,     0.33834,     0.33934,     0.34034,     0.34134,     0.34234,     0.34334,     0.34434,     0.34535,     0.34635,     0.34735,     0.34835,     0.34935,     0.35035,     0.35135,     0.35235,     0.35335,     0.35435,     0.35536,     0.35636,     0.35736,     0.35836,     0.35936,\n",
              "           0.36036,     0.36136,     0.36236,     0.36336,     0.36436,     0.36537,     0.36637,     0.36737,     0.36837,     0.36937,     0.37037,     0.37137,     0.37237,     0.37337,     0.37437,     0.37538,     0.37638,     0.37738,     0.37838,     0.37938,     0.38038,     0.38138,     0.38238,     0.38338,\n",
              "           0.38438,     0.38539,     0.38639,     0.38739,     0.38839,     0.38939,     0.39039,     0.39139,     0.39239,     0.39339,     0.39439,      0.3954,      0.3964,      0.3974,      0.3984,      0.3994,      0.4004,      0.4014,      0.4024,      0.4034,      0.4044,     0.40541,     0.40641,     0.40741,\n",
              "           0.40841,     0.40941,     0.41041,     0.41141,     0.41241,     0.41341,     0.41441,     0.41542,     0.41642,     0.41742,     0.41842,     0.41942,     0.42042,     0.42142,     0.42242,     0.42342,     0.42442,     0.42543,     0.42643,     0.42743,     0.42843,     0.42943,     0.43043,     0.43143,\n",
              "           0.43243,     0.43343,     0.43443,     0.43544,     0.43644,     0.43744,     0.43844,     0.43944,     0.44044,     0.44144,     0.44244,     0.44344,     0.44444,     0.44545,     0.44645,     0.44745,     0.44845,     0.44945,     0.45045,     0.45145,     0.45245,     0.45345,     0.45445,     0.45546,\n",
              "           0.45646,     0.45746,     0.45846,     0.45946,     0.46046,     0.46146,     0.46246,     0.46346,     0.46446,     0.46547,     0.46647,     0.46747,     0.46847,     0.46947,     0.47047,     0.47147,     0.47247,     0.47347,     0.47447,     0.47548,     0.47648,     0.47748,     0.47848,     0.47948,\n",
              "           0.48048,     0.48148,     0.48248,     0.48348,     0.48448,     0.48549,     0.48649,     0.48749,     0.48849,     0.48949,     0.49049,     0.49149,     0.49249,     0.49349,     0.49449,      0.4955,      0.4965,      0.4975,      0.4985,      0.4995,      0.5005,      0.5015,      0.5025,      0.5035,\n",
              "            0.5045,     0.50551,     0.50651,     0.50751,     0.50851,     0.50951,     0.51051,     0.51151,     0.51251,     0.51351,     0.51451,     0.51552,     0.51652,     0.51752,     0.51852,     0.51952,     0.52052,     0.52152,     0.52252,     0.52352,     0.52452,     0.52553,     0.52653,     0.52753,\n",
              "           0.52853,     0.52953,     0.53053,     0.53153,     0.53253,     0.53353,     0.53453,     0.53554,     0.53654,     0.53754,     0.53854,     0.53954,     0.54054,     0.54154,     0.54254,     0.54354,     0.54454,     0.54555,     0.54655,     0.54755,     0.54855,     0.54955,     0.55055,     0.55155,\n",
              "           0.55255,     0.55355,     0.55455,     0.55556,     0.55656,     0.55756,     0.55856,     0.55956,     0.56056,     0.56156,     0.56256,     0.56356,     0.56456,     0.56557,     0.56657,     0.56757,     0.56857,     0.56957,     0.57057,     0.57157,     0.57257,     0.57357,     0.57457,     0.57558,\n",
              "           0.57658,     0.57758,     0.57858,     0.57958,     0.58058,     0.58158,     0.58258,     0.58358,     0.58458,     0.58559,     0.58659,     0.58759,     0.58859,     0.58959,     0.59059,     0.59159,     0.59259,     0.59359,     0.59459,      0.5956,      0.5966,      0.5976,      0.5986,      0.5996,\n",
              "            0.6006,      0.6016,      0.6026,      0.6036,      0.6046,     0.60561,     0.60661,     0.60761,     0.60861,     0.60961,     0.61061,     0.61161,     0.61261,     0.61361,     0.61461,     0.61562,     0.61662,     0.61762,     0.61862,     0.61962,     0.62062,     0.62162,     0.62262,     0.62362,\n",
              "           0.62462,     0.62563,     0.62663,     0.62763,     0.62863,     0.62963,     0.63063,     0.63163,     0.63263,     0.63363,     0.63463,     0.63564,     0.63664,     0.63764,     0.63864,     0.63964,     0.64064,     0.64164,     0.64264,     0.64364,     0.64464,     0.64565,     0.64665,     0.64765,\n",
              "           0.64865,     0.64965,     0.65065,     0.65165,     0.65265,     0.65365,     0.65465,     0.65566,     0.65666,     0.65766,     0.65866,     0.65966,     0.66066,     0.66166,     0.66266,     0.66366,     0.66466,     0.66567,     0.66667,     0.66767,     0.66867,     0.66967,     0.67067,     0.67167,\n",
              "           0.67267,     0.67367,     0.67467,     0.67568,     0.67668,     0.67768,     0.67868,     0.67968,     0.68068,     0.68168,     0.68268,     0.68368,     0.68468,     0.68569,     0.68669,     0.68769,     0.68869,     0.68969,     0.69069,     0.69169,     0.69269,     0.69369,     0.69469,      0.6957,\n",
              "            0.6967,      0.6977,      0.6987,      0.6997,      0.7007,      0.7017,      0.7027,      0.7037,      0.7047,     0.70571,     0.70671,     0.70771,     0.70871,     0.70971,     0.71071,     0.71171,     0.71271,     0.71371,     0.71471,     0.71572,     0.71672,     0.71772,     0.71872,     0.71972,\n",
              "           0.72072,     0.72172,     0.72272,     0.72372,     0.72472,     0.72573,     0.72673,     0.72773,     0.72873,     0.72973,     0.73073,     0.73173,     0.73273,     0.73373,     0.73473,     0.73574,     0.73674,     0.73774,     0.73874,     0.73974,     0.74074,     0.74174,     0.74274,     0.74374,\n",
              "           0.74474,     0.74575,     0.74675,     0.74775,     0.74875,     0.74975,     0.75075,     0.75175,     0.75275,     0.75375,     0.75475,     0.75576,     0.75676,     0.75776,     0.75876,     0.75976,     0.76076,     0.76176,     0.76276,     0.76376,     0.76476,     0.76577,     0.76677,     0.76777,\n",
              "           0.76877,     0.76977,     0.77077,     0.77177,     0.77277,     0.77377,     0.77477,     0.77578,     0.77678,     0.77778,     0.77878,     0.77978,     0.78078,     0.78178,     0.78278,     0.78378,     0.78478,     0.78579,     0.78679,     0.78779,     0.78879,     0.78979,     0.79079,     0.79179,\n",
              "           0.79279,     0.79379,     0.79479,      0.7958,      0.7968,      0.7978,      0.7988,      0.7998,      0.8008,      0.8018,      0.8028,      0.8038,      0.8048,     0.80581,     0.80681,     0.80781,     0.80881,     0.80981,     0.81081,     0.81181,     0.81281,     0.81381,     0.81481,     0.81582,\n",
              "           0.81682,     0.81782,     0.81882,     0.81982,     0.82082,     0.82182,     0.82282,     0.82382,     0.82482,     0.82583,     0.82683,     0.82783,     0.82883,     0.82983,     0.83083,     0.83183,     0.83283,     0.83383,     0.83483,     0.83584,     0.83684,     0.83784,     0.83884,     0.83984,\n",
              "           0.84084,     0.84184,     0.84284,     0.84384,     0.84484,     0.84585,     0.84685,     0.84785,     0.84885,     0.84985,     0.85085,     0.85185,     0.85285,     0.85385,     0.85485,     0.85586,     0.85686,     0.85786,     0.85886,     0.85986,     0.86086,     0.86186,     0.86286,     0.86386,\n",
              "           0.86486,     0.86587,     0.86687,     0.86787,     0.86887,     0.86987,     0.87087,     0.87187,     0.87287,     0.87387,     0.87487,     0.87588,     0.87688,     0.87788,     0.87888,     0.87988,     0.88088,     0.88188,     0.88288,     0.88388,     0.88488,     0.88589,     0.88689,     0.88789,\n",
              "           0.88889,     0.88989,     0.89089,     0.89189,     0.89289,     0.89389,     0.89489,      0.8959,      0.8969,      0.8979,      0.8989,      0.8999,      0.9009,      0.9019,      0.9029,      0.9039,      0.9049,     0.90591,     0.90691,     0.90791,     0.90891,     0.90991,     0.91091,     0.91191,\n",
              "           0.91291,     0.91391,     0.91491,     0.91592,     0.91692,     0.91792,     0.91892,     0.91992,     0.92092,     0.92192,     0.92292,     0.92392,     0.92492,     0.92593,     0.92693,     0.92793,     0.92893,     0.92993,     0.93093,     0.93193,     0.93293,     0.93393,     0.93493,     0.93594,\n",
              "           0.93694,     0.93794,     0.93894,     0.93994,     0.94094,     0.94194,     0.94294,     0.94394,     0.94494,     0.94595,     0.94695,     0.94795,     0.94895,     0.94995,     0.95095,     0.95195,     0.95295,     0.95395,     0.95495,     0.95596,     0.95696,     0.95796,     0.95896,     0.95996,\n",
              "           0.96096,     0.96196,     0.96296,     0.96396,     0.96496,     0.96597,     0.96697,     0.96797,     0.96897,     0.96997,     0.97097,     0.97197,     0.97297,     0.97397,     0.97497,     0.97598,     0.97698,     0.97798,     0.97898,     0.97998,     0.98098,     0.98198,     0.98298,     0.98398,\n",
              "           0.98498,     0.98599,     0.98699,     0.98799,     0.98899,     0.98999,     0.99099,     0.99199,     0.99299,     0.99399,     0.99499,       0.996,       0.997,       0.998,       0.999,           1]), array([[          1,           1,           1,           1,           1,           1,           1,           1,           1,           1,           1,           1,           1,           1,           1,           1,           1,           1,           1,           1,           1,           1,           1,\n",
              "                  1,           1,           1,           1,           1,           1,           1,           1,           1,           1,           1,           1,           1,           1,           1,           1,           1,           1,           1,           1,           1,           1,           1,\n",
              "                  1,           1,           1,           1,           1,           1,           1,           1,           1,           1,           1,           1,           1,           1,           1,           1,           1,           1,           1,           1,           1,           1,           1,\n",
              "                  1,           1,           1,           1,           1,           1,           1,           1,           1,           1,           1,           1,           1,           1,           1,           1,           1,           1,           1,           1,           1,           1,           1,\n",
              "                  1,           1,           1,           1,           1,           1,           1,           1,           1,           1,           1,           1,           1,           1,           1,           1,           1,           1,           1,           1,           1,           1,           1,\n",
              "                  1,           1,           1,           1,           1,           1,           1,           1,           1,           1,           1,           1,           1,           1,           1,           1,           1,           1,           1,           1,           1,           1,           1,\n",
              "                  1,           1,           1,           1,           1,           1,           1,           1,           1,           1,           1,           1,           1,           1,           1,           1,           1,           1,           1,           1,           1,           1,           1,\n",
              "                  1,           1,           1,           1,           1,           1,           1,           1,           1,           1,           1,           1,           1,           1,           1,           1,           1,           1,           1,           1,           1,           1,           1,\n",
              "                  1,           1,           1,           1,           1,           1,           1,           1,           1,           1,           1,           1,           1,           1,           1,           1,           1,           1,           1,           1,           1,           1,           1,\n",
              "                  1,           1,           1,           1,           1,           1,           1,           1,           1,           1,           1,           1,           1,           1,           1,           1,           1,           1,           1,           1,           1,           1,           1,\n",
              "                  1,           1,           1,           1,           1,           1,           1,           1,           1,           1,           1,           1,           1,           1,           1,           1,           1,           1,           1,           1,           1,           1,           1,\n",
              "                  1,           1,           1,           1,           1,           1,           1,           1,           1,           1,           1,           1,           1,           1,           1,           1,           1,           1,           1,           1,           1,           1,           1,\n",
              "                  1,           1,           1,           1,           1,           1,           1,           1,           1,           1,           1,           1,           1,           1,           1,           1,           1,           1,           1,           1,           1,           1,           1,\n",
              "                  1,           1,           1,           1,           1,           1,           1,           1,           1,           1,           1,           1,           1,           1,           1,           1,           1,           1,           1,           1,           1,           1,           1,\n",
              "                  1,           1,           1,           1,           1,           1,           1,           1,           1,           1,           1,           1,           1,           1,           1,           1,           1,           1,           1,           1,           1,           1,           1,\n",
              "                  1,           1,           1,           1,           1,           1,           1,           1,           1,           1,           1,           1,           1,           1,           1,           1,           1,           1,           1,           1,           1,           1,           1,\n",
              "                  1,           1,           1,           1,           1,           1,           1,           1,           1,           1,           1,           1,           1,           1,           1,           1,           1,           1,           1,           1,           1,           1,           1,\n",
              "                  1,           1,           1,           1,           1,           1,           1,           1,           1,           1,           1,           1,           1,           1,     0.99712,     0.99712,     0.99712,     0.99712,     0.99712,     0.99712,     0.99712,     0.99712,     0.99712,\n",
              "            0.99712,     0.99712,     0.99712,     0.99712,     0.99712,     0.99712,     0.99712,     0.99712,     0.99712,     0.99712,     0.99712,     0.99712,     0.99712,     0.99712,     0.99712,     0.99712,     0.99712,     0.99712,     0.99712,     0.99712,     0.99712,     0.99712,     0.99712,\n",
              "            0.99712,     0.99712,     0.99712,     0.99712,     0.99712,     0.99712,     0.99712,     0.99712,     0.99712,     0.99712,     0.99712,     0.99712,     0.99712,     0.99712,     0.99712,     0.99712,     0.99712,     0.99712,     0.99712,     0.99712,     0.99712,     0.99712,     0.99712,\n",
              "            0.99712,     0.99712,     0.99712,     0.99712,     0.99712,     0.99712,     0.99712,     0.99712,     0.99712,     0.99712,     0.99712,     0.99712,     0.99712,     0.99712,     0.99712,     0.99712,     0.99712,     0.99712,     0.99712,     0.99712,     0.99712,     0.99712,     0.99712,\n",
              "            0.99712,     0.99712,     0.99515,     0.99515,     0.99515,     0.99515,     0.99515,     0.99515,     0.99515,     0.99515,     0.99515,     0.99515,     0.99515,     0.99515,     0.99515,     0.99515,     0.99515,     0.99515,     0.99515,     0.99515,     0.99515,     0.99515,     0.99515,\n",
              "            0.99515,     0.99515,     0.99515,     0.99515,     0.99515,     0.99515,     0.99515,     0.99515,     0.99515,     0.99515,     0.99515,     0.99515,     0.99515,     0.99515,     0.99515,     0.99515,     0.99515,     0.99515,     0.99515,     0.99515,     0.99515,     0.99515,     0.99515,\n",
              "            0.99515,     0.99515,     0.99515,     0.99515,     0.99515,     0.99515,     0.99515,     0.99515,     0.99515,     0.99515,     0.99515,     0.99515,     0.99515,     0.99515,     0.99515,     0.99515,     0.99515,     0.99515,     0.99515,     0.99515,     0.99515,     0.99515,     0.99515,\n",
              "            0.99515,     0.99515,     0.99515,     0.99515,     0.99515,     0.99515,     0.99515,     0.99515,     0.99515,     0.99515,     0.99515,     0.99515,     0.99515,     0.99515,     0.99515,     0.99515,     0.99515,     0.99515,     0.99515,     0.99515,     0.99515,     0.99515,     0.99515,\n",
              "            0.99339,     0.99339,     0.99339,     0.99339,     0.99339,     0.99339,     0.99339,     0.99339,     0.99339,     0.99339,     0.99339,     0.99339,     0.99339,     0.99339,     0.99339,     0.99339,     0.99339,     0.99339,     0.99339,     0.99339,     0.99339,     0.99339,     0.99339,\n",
              "            0.99339,     0.99339,     0.99339,     0.99339,     0.99339,     0.99339,     0.99339,     0.99339,     0.99339,     0.99339,     0.99339,     0.99339,     0.99339,     0.99339,     0.99339,     0.99339,     0.99339,     0.99339,     0.99339,     0.99339,     0.99339,     0.99339,     0.99339,\n",
              "            0.99339,     0.99339,     0.99339,     0.99339,     0.99339,     0.99339,     0.99339,     0.99339,     0.99339,     0.99339,     0.99339,     0.99323,     0.99323,     0.99323,     0.99323,     0.99323,     0.99323,     0.99323,     0.99323,     0.99323,     0.99323,     0.99323,     0.99323,\n",
              "            0.99323,     0.99323,     0.99323,     0.99323,     0.99323,     0.99323,     0.99323,     0.99323,     0.99323,     0.99323,     0.99323,     0.99323,     0.99323,     0.99323,     0.99323,     0.99323,     0.99323,     0.99323,     0.99323,     0.99323,     0.99323,     0.99323,     0.99323,\n",
              "            0.99323,     0.99323,     0.99323,     0.99323,     0.99323,     0.99323,     0.99323,     0.99323,     0.99323,     0.99323,     0.99323,     0.99323,     0.99323,     0.99323,     0.99323,     0.99323,     0.99323,     0.99323,     0.99323,     0.99323,     0.99323,     0.99323,     0.99323,\n",
              "            0.99323,     0.99323,     0.99323,     0.99323,     0.99323,     0.99323,     0.99323,     0.99323,     0.99323,     0.99323,     0.99323,     0.99323,     0.99323,     0.99323,     0.99323,     0.99323,     0.99323,     0.99323,     0.99323,     0.99323,     0.99323,     0.99323,     0.99323,\n",
              "            0.99323,     0.99323,     0.99323,     0.99323,     0.99323,     0.99323,     0.99323,     0.99323,     0.99323,     0.99323,     0.99323,     0.99323,     0.99323,     0.99323,     0.99323,     0.99323,     0.99323,     0.99323,     0.99323,     0.99323,     0.99323,     0.99323,     0.99323,\n",
              "            0.99323,     0.99323,     0.99323,     0.99323,     0.99323,     0.99323,     0.99323,     0.99323,     0.99323,     0.99323,     0.99323,     0.99323,     0.99323,     0.99323,     0.99323,     0.99323,     0.99323,     0.99323,     0.99323,     0.99323,     0.99323,     0.99323,     0.99323,\n",
              "            0.99323,     0.99323,     0.99323,     0.99323,     0.99323,     0.99323,     0.99323,     0.99323,     0.99323,     0.99323,     0.99323,     0.99323,     0.99323,     0.99323,     0.99323,     0.99323,     0.99323,     0.99323,     0.99323,     0.99323,     0.99323,     0.99323,     0.99323,\n",
              "            0.99323,     0.99323,     0.99323,     0.99323,     0.99323,     0.99323,     0.99323,     0.99323,     0.99323,     0.99323,     0.99323,     0.99323,     0.99323,     0.99323,     0.99323,     0.99323,     0.99323,     0.99323,     0.99323,     0.99323,     0.99323,     0.99323,     0.99323,\n",
              "            0.99323,     0.99323,     0.99323,     0.99323,     0.99323,     0.99323,     0.99323,     0.99323,     0.99323,     0.99323,     0.99323,     0.99323,     0.99323,     0.99323,     0.99323,     0.99323,     0.99323,     0.99323,     0.99204,     0.99204,     0.99204,     0.99204,     0.99204,\n",
              "            0.99204,     0.99204,     0.99204,     0.99204,     0.99204,     0.99204,     0.99204,     0.99204,     0.99204,     0.99204,     0.99204,     0.99204,     0.99204,     0.99204,     0.99204,     0.99204,     0.99204,     0.99204,     0.99204,     0.99204,     0.99204,     0.99204,     0.99204,\n",
              "            0.99204,     0.99204,     0.99204,     0.99204,     0.99204,     0.99204,     0.99204,     0.99204,     0.99204,     0.99204,     0.99204,     0.99204,     0.99204,     0.99204,     0.99204,     0.99204,     0.99204,     0.99204,     0.99204,     0.99204,     0.99204,     0.99204,     0.99057,\n",
              "            0.99057,     0.99057,     0.99057,     0.99057,     0.99057,     0.99057,     0.99057,     0.99057,     0.99057,     0.98915,     0.98915,     0.98915,     0.98915,     0.98915,     0.98915,     0.98915,     0.98915,     0.98915,     0.98915,     0.98915,     0.98769,     0.98769,     0.98769,\n",
              "            0.98769,     0.98769,     0.98769,      0.9862,     0.98478,     0.98478,     0.98478,     0.98478,     0.98478,     0.98478,     0.98338,     0.98338,     0.98338,     0.98338,     0.98338,     0.98338,     0.98198,     0.98198,     0.98198,     0.98198,     0.98057,     0.98057,     0.98057,\n",
              "            0.97194,     0.97194,     0.96916,     0.96916,     0.96916,     0.96779,     0.96779,     0.96662,     0.96662,     0.96662,     0.96662,     0.96662,     0.96662,     0.96662,     0.96537,     0.96537,     0.96537,     0.96537,     0.96143,     0.96143,     0.96143,     0.96143,     0.96143,\n",
              "            0.95875,     0.95875,     0.95745,     0.95615,     0.95615,     0.95493,     0.95493,     0.95372,     0.95372,     0.95372,     0.95245,     0.95245,     0.94722,      0.9357,      0.9357,      0.9357,     0.91578,     0.91345,     0.91345,     0.90753,      0.9042,      0.9042,      0.9042,\n",
              "            0.90314,     0.90209,     0.90209,         0.9,         0.9,     0.89562,     0.89562,     0.89562,     0.88662,     0.88662,     0.85627,     0.84709,     0.84625,     0.84625,     0.83552,     0.83552,     0.83552,     0.82491,     0.82222,     0.78571,     0.78571,      0.6858,     0.63718,\n",
              "            0.63718,     0.63295,     0.63102,     0.41934,     0.35944,     0.29953,     0.23963,     0.17972,     0.11981,    0.059906,           0]]), 'Recall', 'Precision'], [array([          0,    0.001001,    0.002002,    0.003003,    0.004004,    0.005005,    0.006006,    0.007007,    0.008008,    0.009009,     0.01001,    0.011011,    0.012012,    0.013013,    0.014014,    0.015015,    0.016016,    0.017017,    0.018018,    0.019019,     0.02002,    0.021021,    0.022022,    0.023023,\n",
              "          0.024024,    0.025025,    0.026026,    0.027027,    0.028028,    0.029029,     0.03003,    0.031031,    0.032032,    0.033033,    0.034034,    0.035035,    0.036036,    0.037037,    0.038038,    0.039039,     0.04004,    0.041041,    0.042042,    0.043043,    0.044044,    0.045045,    0.046046,    0.047047,\n",
              "          0.048048,    0.049049,     0.05005,    0.051051,    0.052052,    0.053053,    0.054054,    0.055055,    0.056056,    0.057057,    0.058058,    0.059059,     0.06006,    0.061061,    0.062062,    0.063063,    0.064064,    0.065065,    0.066066,    0.067067,    0.068068,    0.069069,     0.07007,    0.071071,\n",
              "          0.072072,    0.073073,    0.074074,    0.075075,    0.076076,    0.077077,    0.078078,    0.079079,     0.08008,    0.081081,    0.082082,    0.083083,    0.084084,    0.085085,    0.086086,    0.087087,    0.088088,    0.089089,     0.09009,    0.091091,    0.092092,    0.093093,    0.094094,    0.095095,\n",
              "          0.096096,    0.097097,    0.098098,    0.099099,      0.1001,      0.1011,      0.1021,      0.1031,      0.1041,     0.10511,     0.10611,     0.10711,     0.10811,     0.10911,     0.11011,     0.11111,     0.11211,     0.11311,     0.11411,     0.11512,     0.11612,     0.11712,     0.11812,     0.11912,\n",
              "           0.12012,     0.12112,     0.12212,     0.12312,     0.12412,     0.12513,     0.12613,     0.12713,     0.12813,     0.12913,     0.13013,     0.13113,     0.13213,     0.13313,     0.13413,     0.13514,     0.13614,     0.13714,     0.13814,     0.13914,     0.14014,     0.14114,     0.14214,     0.14314,\n",
              "           0.14414,     0.14515,     0.14615,     0.14715,     0.14815,     0.14915,     0.15015,     0.15115,     0.15215,     0.15315,     0.15415,     0.15516,     0.15616,     0.15716,     0.15816,     0.15916,     0.16016,     0.16116,     0.16216,     0.16316,     0.16416,     0.16517,     0.16617,     0.16717,\n",
              "           0.16817,     0.16917,     0.17017,     0.17117,     0.17217,     0.17317,     0.17417,     0.17518,     0.17618,     0.17718,     0.17818,     0.17918,     0.18018,     0.18118,     0.18218,     0.18318,     0.18418,     0.18519,     0.18619,     0.18719,     0.18819,     0.18919,     0.19019,     0.19119,\n",
              "           0.19219,     0.19319,     0.19419,      0.1952,      0.1962,      0.1972,      0.1982,      0.1992,      0.2002,      0.2012,      0.2022,      0.2032,      0.2042,     0.20521,     0.20621,     0.20721,     0.20821,     0.20921,     0.21021,     0.21121,     0.21221,     0.21321,     0.21421,     0.21522,\n",
              "           0.21622,     0.21722,     0.21822,     0.21922,     0.22022,     0.22122,     0.22222,     0.22322,     0.22422,     0.22523,     0.22623,     0.22723,     0.22823,     0.22923,     0.23023,     0.23123,     0.23223,     0.23323,     0.23423,     0.23524,     0.23624,     0.23724,     0.23824,     0.23924,\n",
              "           0.24024,     0.24124,     0.24224,     0.24324,     0.24424,     0.24525,     0.24625,     0.24725,     0.24825,     0.24925,     0.25025,     0.25125,     0.25225,     0.25325,     0.25425,     0.25526,     0.25626,     0.25726,     0.25826,     0.25926,     0.26026,     0.26126,     0.26226,     0.26326,\n",
              "           0.26426,     0.26527,     0.26627,     0.26727,     0.26827,     0.26927,     0.27027,     0.27127,     0.27227,     0.27327,     0.27427,     0.27528,     0.27628,     0.27728,     0.27828,     0.27928,     0.28028,     0.28128,     0.28228,     0.28328,     0.28428,     0.28529,     0.28629,     0.28729,\n",
              "           0.28829,     0.28929,     0.29029,     0.29129,     0.29229,     0.29329,     0.29429,      0.2953,      0.2963,      0.2973,      0.2983,      0.2993,      0.3003,      0.3013,      0.3023,      0.3033,      0.3043,     0.30531,     0.30631,     0.30731,     0.30831,     0.30931,     0.31031,     0.31131,\n",
              "           0.31231,     0.31331,     0.31431,     0.31532,     0.31632,     0.31732,     0.31832,     0.31932,     0.32032,     0.32132,     0.32232,     0.32332,     0.32432,     0.32533,     0.32633,     0.32733,     0.32833,     0.32933,     0.33033,     0.33133,     0.33233,     0.33333,     0.33433,     0.33534,\n",
              "           0.33634,     0.33734,     0.33834,     0.33934,     0.34034,     0.34134,     0.34234,     0.34334,     0.34434,     0.34535,     0.34635,     0.34735,     0.34835,     0.34935,     0.35035,     0.35135,     0.35235,     0.35335,     0.35435,     0.35536,     0.35636,     0.35736,     0.35836,     0.35936,\n",
              "           0.36036,     0.36136,     0.36236,     0.36336,     0.36436,     0.36537,     0.36637,     0.36737,     0.36837,     0.36937,     0.37037,     0.37137,     0.37237,     0.37337,     0.37437,     0.37538,     0.37638,     0.37738,     0.37838,     0.37938,     0.38038,     0.38138,     0.38238,     0.38338,\n",
              "           0.38438,     0.38539,     0.38639,     0.38739,     0.38839,     0.38939,     0.39039,     0.39139,     0.39239,     0.39339,     0.39439,      0.3954,      0.3964,      0.3974,      0.3984,      0.3994,      0.4004,      0.4014,      0.4024,      0.4034,      0.4044,     0.40541,     0.40641,     0.40741,\n",
              "           0.40841,     0.40941,     0.41041,     0.41141,     0.41241,     0.41341,     0.41441,     0.41542,     0.41642,     0.41742,     0.41842,     0.41942,     0.42042,     0.42142,     0.42242,     0.42342,     0.42442,     0.42543,     0.42643,     0.42743,     0.42843,     0.42943,     0.43043,     0.43143,\n",
              "           0.43243,     0.43343,     0.43443,     0.43544,     0.43644,     0.43744,     0.43844,     0.43944,     0.44044,     0.44144,     0.44244,     0.44344,     0.44444,     0.44545,     0.44645,     0.44745,     0.44845,     0.44945,     0.45045,     0.45145,     0.45245,     0.45345,     0.45445,     0.45546,\n",
              "           0.45646,     0.45746,     0.45846,     0.45946,     0.46046,     0.46146,     0.46246,     0.46346,     0.46446,     0.46547,     0.46647,     0.46747,     0.46847,     0.46947,     0.47047,     0.47147,     0.47247,     0.47347,     0.47447,     0.47548,     0.47648,     0.47748,     0.47848,     0.47948,\n",
              "           0.48048,     0.48148,     0.48248,     0.48348,     0.48448,     0.48549,     0.48649,     0.48749,     0.48849,     0.48949,     0.49049,     0.49149,     0.49249,     0.49349,     0.49449,      0.4955,      0.4965,      0.4975,      0.4985,      0.4995,      0.5005,      0.5015,      0.5025,      0.5035,\n",
              "            0.5045,     0.50551,     0.50651,     0.50751,     0.50851,     0.50951,     0.51051,     0.51151,     0.51251,     0.51351,     0.51451,     0.51552,     0.51652,     0.51752,     0.51852,     0.51952,     0.52052,     0.52152,     0.52252,     0.52352,     0.52452,     0.52553,     0.52653,     0.52753,\n",
              "           0.52853,     0.52953,     0.53053,     0.53153,     0.53253,     0.53353,     0.53453,     0.53554,     0.53654,     0.53754,     0.53854,     0.53954,     0.54054,     0.54154,     0.54254,     0.54354,     0.54454,     0.54555,     0.54655,     0.54755,     0.54855,     0.54955,     0.55055,     0.55155,\n",
              "           0.55255,     0.55355,     0.55455,     0.55556,     0.55656,     0.55756,     0.55856,     0.55956,     0.56056,     0.56156,     0.56256,     0.56356,     0.56456,     0.56557,     0.56657,     0.56757,     0.56857,     0.56957,     0.57057,     0.57157,     0.57257,     0.57357,     0.57457,     0.57558,\n",
              "           0.57658,     0.57758,     0.57858,     0.57958,     0.58058,     0.58158,     0.58258,     0.58358,     0.58458,     0.58559,     0.58659,     0.58759,     0.58859,     0.58959,     0.59059,     0.59159,     0.59259,     0.59359,     0.59459,      0.5956,      0.5966,      0.5976,      0.5986,      0.5996,\n",
              "            0.6006,      0.6016,      0.6026,      0.6036,      0.6046,     0.60561,     0.60661,     0.60761,     0.60861,     0.60961,     0.61061,     0.61161,     0.61261,     0.61361,     0.61461,     0.61562,     0.61662,     0.61762,     0.61862,     0.61962,     0.62062,     0.62162,     0.62262,     0.62362,\n",
              "           0.62462,     0.62563,     0.62663,     0.62763,     0.62863,     0.62963,     0.63063,     0.63163,     0.63263,     0.63363,     0.63463,     0.63564,     0.63664,     0.63764,     0.63864,     0.63964,     0.64064,     0.64164,     0.64264,     0.64364,     0.64464,     0.64565,     0.64665,     0.64765,\n",
              "           0.64865,     0.64965,     0.65065,     0.65165,     0.65265,     0.65365,     0.65465,     0.65566,     0.65666,     0.65766,     0.65866,     0.65966,     0.66066,     0.66166,     0.66266,     0.66366,     0.66466,     0.66567,     0.66667,     0.66767,     0.66867,     0.66967,     0.67067,     0.67167,\n",
              "           0.67267,     0.67367,     0.67467,     0.67568,     0.67668,     0.67768,     0.67868,     0.67968,     0.68068,     0.68168,     0.68268,     0.68368,     0.68468,     0.68569,     0.68669,     0.68769,     0.68869,     0.68969,     0.69069,     0.69169,     0.69269,     0.69369,     0.69469,      0.6957,\n",
              "            0.6967,      0.6977,      0.6987,      0.6997,      0.7007,      0.7017,      0.7027,      0.7037,      0.7047,     0.70571,     0.70671,     0.70771,     0.70871,     0.70971,     0.71071,     0.71171,     0.71271,     0.71371,     0.71471,     0.71572,     0.71672,     0.71772,     0.71872,     0.71972,\n",
              "           0.72072,     0.72172,     0.72272,     0.72372,     0.72472,     0.72573,     0.72673,     0.72773,     0.72873,     0.72973,     0.73073,     0.73173,     0.73273,     0.73373,     0.73473,     0.73574,     0.73674,     0.73774,     0.73874,     0.73974,     0.74074,     0.74174,     0.74274,     0.74374,\n",
              "           0.74474,     0.74575,     0.74675,     0.74775,     0.74875,     0.74975,     0.75075,     0.75175,     0.75275,     0.75375,     0.75475,     0.75576,     0.75676,     0.75776,     0.75876,     0.75976,     0.76076,     0.76176,     0.76276,     0.76376,     0.76476,     0.76577,     0.76677,     0.76777,\n",
              "           0.76877,     0.76977,     0.77077,     0.77177,     0.77277,     0.77377,     0.77477,     0.77578,     0.77678,     0.77778,     0.77878,     0.77978,     0.78078,     0.78178,     0.78278,     0.78378,     0.78478,     0.78579,     0.78679,     0.78779,     0.78879,     0.78979,     0.79079,     0.79179,\n",
              "           0.79279,     0.79379,     0.79479,      0.7958,      0.7968,      0.7978,      0.7988,      0.7998,      0.8008,      0.8018,      0.8028,      0.8038,      0.8048,     0.80581,     0.80681,     0.80781,     0.80881,     0.80981,     0.81081,     0.81181,     0.81281,     0.81381,     0.81481,     0.81582,\n",
              "           0.81682,     0.81782,     0.81882,     0.81982,     0.82082,     0.82182,     0.82282,     0.82382,     0.82482,     0.82583,     0.82683,     0.82783,     0.82883,     0.82983,     0.83083,     0.83183,     0.83283,     0.83383,     0.83483,     0.83584,     0.83684,     0.83784,     0.83884,     0.83984,\n",
              "           0.84084,     0.84184,     0.84284,     0.84384,     0.84484,     0.84585,     0.84685,     0.84785,     0.84885,     0.84985,     0.85085,     0.85185,     0.85285,     0.85385,     0.85485,     0.85586,     0.85686,     0.85786,     0.85886,     0.85986,     0.86086,     0.86186,     0.86286,     0.86386,\n",
              "           0.86486,     0.86587,     0.86687,     0.86787,     0.86887,     0.86987,     0.87087,     0.87187,     0.87287,     0.87387,     0.87487,     0.87588,     0.87688,     0.87788,     0.87888,     0.87988,     0.88088,     0.88188,     0.88288,     0.88388,     0.88488,     0.88589,     0.88689,     0.88789,\n",
              "           0.88889,     0.88989,     0.89089,     0.89189,     0.89289,     0.89389,     0.89489,      0.8959,      0.8969,      0.8979,      0.8989,      0.8999,      0.9009,      0.9019,      0.9029,      0.9039,      0.9049,     0.90591,     0.90691,     0.90791,     0.90891,     0.90991,     0.91091,     0.91191,\n",
              "           0.91291,     0.91391,     0.91491,     0.91592,     0.91692,     0.91792,     0.91892,     0.91992,     0.92092,     0.92192,     0.92292,     0.92392,     0.92492,     0.92593,     0.92693,     0.92793,     0.92893,     0.92993,     0.93093,     0.93193,     0.93293,     0.93393,     0.93493,     0.93594,\n",
              "           0.93694,     0.93794,     0.93894,     0.93994,     0.94094,     0.94194,     0.94294,     0.94394,     0.94494,     0.94595,     0.94695,     0.94795,     0.94895,     0.94995,     0.95095,     0.95195,     0.95295,     0.95395,     0.95495,     0.95596,     0.95696,     0.95796,     0.95896,     0.95996,\n",
              "           0.96096,     0.96196,     0.96296,     0.96396,     0.96496,     0.96597,     0.96697,     0.96797,     0.96897,     0.96997,     0.97097,     0.97197,     0.97297,     0.97397,     0.97497,     0.97598,     0.97698,     0.97798,     0.97898,     0.97998,     0.98098,     0.98198,     0.98298,     0.98398,\n",
              "           0.98498,     0.98599,     0.98699,     0.98799,     0.98899,     0.98999,     0.99099,     0.99199,     0.99299,     0.99399,     0.99499,       0.996,       0.997,       0.998,       0.999,           1]), array([[       0.59,        0.59,     0.67878,     0.72241,     0.74643,      0.7694,     0.78356,     0.79433,     0.80299,     0.80967,     0.81828,     0.82431,     0.83216,     0.83832,     0.84062,     0.84405,     0.84846,     0.85347,     0.85544,     0.85741,     0.85854,     0.86083,     0.86342,\n",
              "            0.86653,     0.86751,     0.86963,     0.87327,     0.87679,     0.87885,     0.88054,     0.88091,     0.88462,     0.88732,     0.89048,     0.89157,     0.89358,     0.89524,     0.89587,     0.89657,     0.89761,     0.89817,     0.89846,     0.89882,     0.89996,     0.90151,     0.90241,\n",
              "            0.90272,     0.90332,      0.9032,     0.90375,     0.90411,     0.90504,     0.90538,      0.9062,     0.90641,     0.90663,     0.90695,     0.90739,     0.90784,      0.9079,     0.90792,     0.90871,     0.91006,     0.91156,     0.91197,     0.91228,     0.91245,     0.91374,      0.9152,\n",
              "            0.91644,     0.91716,     0.91745,     0.91772,     0.91798,     0.91886,     0.91931,     0.92011,     0.92027,     0.92043,     0.92059,     0.92124,     0.92148,     0.92171,     0.92254,     0.92281,      0.9243,     0.92555,     0.92578,     0.92601,     0.92673,     0.92724,     0.92803,\n",
              "            0.92811,     0.92819,     0.92827,     0.92835,     0.92843,     0.92851,     0.92859,     0.92922,     0.92874,     0.92878,     0.92916,     0.92924,     0.92933,     0.92941,      0.9295,     0.92958,     0.92966,     0.92975,     0.93009,     0.93078,     0.93116,     0.93134,     0.93152,\n",
              "            0.93166,     0.93174,     0.93182,     0.93189,     0.93197,     0.93205,     0.93212,      0.9322,     0.93228,     0.93241,     0.93253,     0.93265,     0.93277,     0.93289,     0.93298,     0.93307,     0.93315,     0.93324,     0.93333,     0.93342,      0.9335,      0.9321,     0.93271,\n",
              "            0.93285,     0.93298,     0.93312,     0.93325,     0.93337,     0.93344,     0.93352,     0.93359,     0.93367,     0.93374,     0.93382,      0.9339,     0.93399,     0.93424,     0.93449,     0.93438,     0.93402,     0.93347,     0.93379,      0.9339,     0.93401,     0.93412,     0.93423,\n",
              "            0.93434,     0.93422,     0.93377,     0.93417,     0.93392,      0.9342,     0.93412,     0.93404,     0.93396,     0.93389,     0.93381,     0.93373,     0.93365,     0.93357,     0.93341,     0.93299,     0.93284,     0.93292,       0.933,     0.93309,     0.93317,     0.93325,     0.93334,\n",
              "            0.93342,     0.93379,     0.93408,     0.93417,     0.93426,     0.93435,     0.93444,     0.93452,     0.93461,     0.93468,     0.93448,     0.93428,     0.93408,     0.93409,     0.93438,     0.93462,     0.93467,     0.93472,     0.93477,     0.93482,     0.93487,     0.93492,     0.93498,\n",
              "            0.93503,     0.93508,     0.93513,     0.93518,     0.93523,     0.93531,      0.9354,     0.93549,     0.93558,     0.93567,     0.93576,     0.93584,      0.9367,     0.93701,     0.93654,     0.93657,     0.93673,     0.93688,     0.93704,     0.93732,     0.93765,     0.93755,     0.93734,\n",
              "            0.93714,     0.93727,     0.93773,     0.93788,     0.93803,     0.93818,     0.93833,     0.93848,     0.93863,     0.93878,     0.93895,     0.93921,     0.93948,     0.93973,     0.93999,     0.94022,     0.94033,     0.94044,     0.94055,     0.94066,     0.94077,     0.94153,     0.94163,\n",
              "            0.94172,     0.94182,     0.94192,     0.94202,     0.94212,     0.94276,     0.94346,     0.94352,     0.94358,     0.94364,      0.9437,     0.94377,     0.94383,     0.94389,     0.94395,     0.94401,     0.94407,     0.94415,     0.94424,     0.94434,     0.94443,     0.94453,     0.94462,\n",
              "            0.94472,      0.9452,     0.94542,     0.94545,     0.94547,      0.9455,     0.94552,     0.94555,     0.94557,      0.9456,     0.94562,     0.94564,     0.94567,     0.94569,     0.94572,     0.94574,     0.94577,     0.94579,     0.94582,     0.94584,     0.94587,     0.94589,     0.94592,\n",
              "            0.94594,     0.94597,     0.94599,     0.94602,     0.94604,     0.94629,     0.94675,     0.94687,     0.94698,     0.94709,      0.9472,     0.94731,     0.94711,     0.94663,     0.94641,      0.9462,     0.94599,     0.94672,     0.94697,     0.94721,      0.9479,       0.948,      0.9481,\n",
              "            0.94819,     0.94829,     0.94839,     0.94848,     0.94869,     0.94908,     0.94947,     0.94985,     0.94989,     0.94992,     0.94995,     0.94999,     0.95002,     0.95005,     0.95008,     0.95011,     0.95014,     0.95018,     0.95021,     0.95024,     0.95027,      0.9503,     0.95033,\n",
              "            0.95037,      0.9504,     0.95043,     0.95046,     0.95049,     0.95053,     0.95087,      0.9512,     0.95145,     0.95169,     0.95177,     0.95155,     0.95134,     0.95113,     0.95122,     0.95132,     0.95143,     0.95153,     0.95164,     0.95174,     0.95247,      0.9525,     0.95253,\n",
              "            0.95256,     0.95259,     0.95262,     0.95265,     0.95268,     0.95271,     0.95274,     0.95277,      0.9528,     0.95283,     0.95286,     0.95289,     0.95292,     0.95295,     0.95298,     0.95301,     0.95304,     0.95307,      0.9531,     0.95315,      0.9532,     0.95325,      0.9533,\n",
              "            0.95335,      0.9534,     0.95345,      0.9535,     0.95355,      0.9536,     0.95365,     0.95371,     0.95376,     0.95374,     0.95366,     0.95358,      0.9535,     0.95343,     0.95335,     0.95327,     0.95319,     0.95311,     0.95321,     0.95368,     0.95355,     0.95342,     0.95329,\n",
              "            0.95316,     0.95303,      0.9525,     0.95228,     0.95233,     0.95238,     0.95243,     0.95248,     0.95253,     0.95258,     0.95263,     0.95268,     0.95273,     0.95278,     0.95283,     0.95288,     0.95272,     0.95217,     0.95213,      0.9521,     0.95206,     0.95202,     0.95199,\n",
              "            0.95195,     0.95192,     0.95188,     0.95184,     0.95181,     0.95177,     0.95173,      0.9517,     0.95166,     0.95162,     0.95159,     0.95155,     0.95151,     0.95148,     0.95145,      0.9518,      0.9521,     0.95189,     0.95169,     0.95149,      0.9514,     0.95144,     0.95149,\n",
              "            0.95154,     0.95159,     0.95164,     0.95169,     0.95174,     0.95179,     0.95184,     0.95189,     0.95194,     0.95198,     0.95203,       0.952,     0.95194,     0.95188,     0.95183,     0.95177,     0.95171,     0.95165,     0.95159,     0.95153,     0.95148,     0.95142,     0.95136,\n",
              "            0.95133,     0.95155,     0.95178,     0.95196,     0.95185,     0.95174,     0.95163,     0.95153,     0.95142,     0.95131,     0.95135,      0.9517,     0.95194,     0.95202,     0.95209,     0.95217,     0.95225,     0.95232,      0.9524,     0.95248,     0.95255,     0.95254,     0.95247,\n",
              "             0.9524,     0.95233,     0.95227,      0.9522,     0.95213,     0.95206,     0.95199,     0.95192,     0.95185,     0.95179,     0.95173,     0.95167,     0.95162,     0.95156,      0.9515,     0.95144,     0.95138,     0.95132,     0.95126,      0.9512,     0.95115,     0.95107,     0.95092,\n",
              "            0.95077,     0.95061,     0.95046,     0.95028,     0.95002,     0.94977,     0.94974,     0.95009,     0.95058,     0.95112,     0.95146,     0.95158,     0.95147,     0.95136,     0.95125,     0.95114,     0.95103,     0.95093,      0.9501,     0.95005,     0.94999,     0.94993,     0.94988,\n",
              "            0.94982,     0.94976,     0.94971,     0.94965,     0.94959,     0.94954,     0.94948,     0.94942,     0.94974,     0.94987,     0.94949,     0.94923,     0.94908,     0.94893,     0.94877,     0.94862,     0.94776,     0.94767,     0.94759,      0.9475,     0.94742,     0.94733,     0.94725,\n",
              "            0.94716,     0.94707,     0.94671,     0.94633,     0.94665,     0.94698,     0.94625,     0.94672,     0.94647,     0.94569,     0.94543,     0.94549,     0.94554,     0.94559,     0.94564,     0.94569,     0.94574,      0.9458,     0.94585,      0.9459,     0.94595,       0.946,     0.94605,\n",
              "             0.9464,     0.94664,     0.94638,     0.94612,     0.94592,     0.94576,     0.94561,     0.94545,      0.9453,     0.94556,     0.94596,      0.9461,     0.94624,     0.94638,     0.94652,     0.94684,     0.94739,     0.94767,     0.94795,     0.94814,     0.94831,     0.94849,     0.94866,\n",
              "            0.94874,     0.94881,     0.94889,     0.94896,     0.94903,     0.94911,     0.94918,     0.94926,     0.94933,     0.94918,     0.94896,     0.94874,      0.9479,     0.94814,     0.94837,      0.9482,     0.94631,     0.94644,     0.94668,     0.94614,     0.94574,      0.9446,     0.94442,\n",
              "            0.94424,     0.94407,     0.94389,     0.94407,     0.94443,      0.9443,     0.94398,     0.94353,     0.94282,     0.94229,     0.94163,     0.94187,     0.94211,     0.94183,     0.94151,     0.94152,     0.94187,     0.94162,     0.94114,     0.94091,     0.94068,     0.94047,      0.9404,\n",
              "            0.94032,     0.94025,     0.94017,     0.94009,     0.94002,     0.93994,     0.93987,     0.93979,     0.93971,     0.93899,     0.93909,     0.93927,     0.93944,      0.9396,     0.93882,      0.9385,     0.93818,     0.93757,     0.93707,     0.93675,     0.93644,     0.93621,     0.93598,\n",
              "            0.93575,     0.93381,     0.93341,     0.93372,     0.93315,     0.93292,     0.93269,     0.93246,     0.93193,     0.93154,     0.93131,     0.93107,     0.93085,      0.9307,     0.93055,      0.9304,     0.93025,      0.9301,     0.92949,     0.92881,     0.92734,     0.92671,     0.92656,\n",
              "            0.92641,     0.92626,     0.92612,     0.92597,     0.92439,     0.92276,     0.92174,     0.92156,     0.92137,     0.92119,     0.91982,     0.91936,     0.91915,     0.91895,     0.91874,     0.91828,     0.91698,      0.9167,     0.91642,     0.91605,     0.91549,     0.91423,     0.91381,\n",
              "            0.91288,     0.91273,     0.91258,     0.91242,     0.91227,     0.91045,     0.90988,     0.90766,     0.90626,     0.90569,     0.90177,      0.9002,     0.89962,     0.89846,     0.89824,     0.89803,     0.89781,     0.89408,     0.89336,     0.89292,     0.88899,      0.8884,     0.88537,\n",
              "            0.88376,     0.88317,     0.88257,      0.8811,     0.87689,     0.87438,     0.87407,     0.87377,     0.86986,     0.86925,     0.86632,     0.86595,     0.86558,     0.86502,      0.8625,     0.86078,     0.86016,     0.85926,     0.85528,     0.85465,     0.85189,     0.84537,     0.84117,\n",
              "            0.83968,     0.83831,     0.83581,     0.83259,     0.82932,     0.82893,     0.82854,     0.82604,     0.82407,     0.82286,     0.81798,     0.81601,      0.8107,     0.81003,     0.80715,     0.80555,     0.80207,     0.79446,     0.78881,     0.78746,     0.78673,     0.78455,     0.78101,\n",
              "            0.77262,     0.76427,     0.76297,     0.75647,     0.75398,     0.74985,     0.74243,     0.73538,     0.72811,     0.70895,     0.70143,     0.69067,     0.67905,     0.67722,     0.66481,     0.65599,     0.65227,      0.6501,     0.63975,     0.63268,     0.62918,     0.61043,     0.59836,\n",
              "            0.59526,     0.59068,     0.58116,     0.56598,     0.55694,      0.5364,     0.51961,     0.51164,     0.49126,     0.48226,     0.47984,     0.46006,     0.44486,     0.42762,     0.41178,     0.40636,     0.39371,     0.38661,     0.38259,     0.37457,     0.36572,     0.36046,     0.35801,\n",
              "            0.35031,     0.32699,     0.32098,     0.31094,     0.30662,     0.29458,     0.28834,     0.28411,     0.27987,     0.26722,     0.25653,        0.25,     0.23909,     0.23597,     0.23373,     0.22782,     0.22483,     0.22096,      0.2164,     0.21263,     0.21109,     0.20484,     0.19792,\n",
              "            0.19324,     0.19059,     0.18279,      0.1812,     0.17886,     0.17258,     0.16934,     0.16226,     0.15983,     0.15716,     0.15136,     0.14529,     0.14281,     0.13499,     0.12544,     0.12443,     0.12301,     0.12048,     0.11713,      0.1102,     0.10891,     0.10272,     0.10066,\n",
              "           0.099367,    0.093723,    0.092947,    0.092293,    0.091639,    0.091009,    0.090701,    0.090392,    0.090084,    0.089775,    0.089467,    0.089158,    0.088849,     0.08854,    0.088286,    0.088047,    0.087808,    0.087569,     0.08733,    0.087091,    0.086852,    0.086613,    0.086374,\n",
              "           0.086134,    0.085898,    0.085728,    0.085558,    0.085388,    0.085218,    0.085048,    0.084878,    0.084708,    0.084538,    0.084368,    0.084197,    0.084027,    0.083857,    0.083687,    0.083516,    0.083346,    0.078434,    0.073111,    0.067759,     0.05974,    0.051654,    0.047716,\n",
              "           0.043366,    0.032432,    0.018626,    0.012062,    0.010188,   0.0087641,    0.007338,   0.0059099,           0,           0,           0,           0,           0,           0,           0,           0,           0,           0,           0,           0,           0,           0,           0,\n",
              "                  0,           0,           0,           0,           0,           0,           0,           0,           0,           0,           0,           0,           0,           0,           0,           0,           0,           0,           0,           0,           0,           0,           0,\n",
              "                  0,           0,           0,           0,           0,           0,           0,           0,           0,           0,           0]]), 'Confidence', 'F1'], [array([          0,    0.001001,    0.002002,    0.003003,    0.004004,    0.005005,    0.006006,    0.007007,    0.008008,    0.009009,     0.01001,    0.011011,    0.012012,    0.013013,    0.014014,    0.015015,    0.016016,    0.017017,    0.018018,    0.019019,     0.02002,    0.021021,    0.022022,    0.023023,\n",
              "          0.024024,    0.025025,    0.026026,    0.027027,    0.028028,    0.029029,     0.03003,    0.031031,    0.032032,    0.033033,    0.034034,    0.035035,    0.036036,    0.037037,    0.038038,    0.039039,     0.04004,    0.041041,    0.042042,    0.043043,    0.044044,    0.045045,    0.046046,    0.047047,\n",
              "          0.048048,    0.049049,     0.05005,    0.051051,    0.052052,    0.053053,    0.054054,    0.055055,    0.056056,    0.057057,    0.058058,    0.059059,     0.06006,    0.061061,    0.062062,    0.063063,    0.064064,    0.065065,    0.066066,    0.067067,    0.068068,    0.069069,     0.07007,    0.071071,\n",
              "          0.072072,    0.073073,    0.074074,    0.075075,    0.076076,    0.077077,    0.078078,    0.079079,     0.08008,    0.081081,    0.082082,    0.083083,    0.084084,    0.085085,    0.086086,    0.087087,    0.088088,    0.089089,     0.09009,    0.091091,    0.092092,    0.093093,    0.094094,    0.095095,\n",
              "          0.096096,    0.097097,    0.098098,    0.099099,      0.1001,      0.1011,      0.1021,      0.1031,      0.1041,     0.10511,     0.10611,     0.10711,     0.10811,     0.10911,     0.11011,     0.11111,     0.11211,     0.11311,     0.11411,     0.11512,     0.11612,     0.11712,     0.11812,     0.11912,\n",
              "           0.12012,     0.12112,     0.12212,     0.12312,     0.12412,     0.12513,     0.12613,     0.12713,     0.12813,     0.12913,     0.13013,     0.13113,     0.13213,     0.13313,     0.13413,     0.13514,     0.13614,     0.13714,     0.13814,     0.13914,     0.14014,     0.14114,     0.14214,     0.14314,\n",
              "           0.14414,     0.14515,     0.14615,     0.14715,     0.14815,     0.14915,     0.15015,     0.15115,     0.15215,     0.15315,     0.15415,     0.15516,     0.15616,     0.15716,     0.15816,     0.15916,     0.16016,     0.16116,     0.16216,     0.16316,     0.16416,     0.16517,     0.16617,     0.16717,\n",
              "           0.16817,     0.16917,     0.17017,     0.17117,     0.17217,     0.17317,     0.17417,     0.17518,     0.17618,     0.17718,     0.17818,     0.17918,     0.18018,     0.18118,     0.18218,     0.18318,     0.18418,     0.18519,     0.18619,     0.18719,     0.18819,     0.18919,     0.19019,     0.19119,\n",
              "           0.19219,     0.19319,     0.19419,      0.1952,      0.1962,      0.1972,      0.1982,      0.1992,      0.2002,      0.2012,      0.2022,      0.2032,      0.2042,     0.20521,     0.20621,     0.20721,     0.20821,     0.20921,     0.21021,     0.21121,     0.21221,     0.21321,     0.21421,     0.21522,\n",
              "           0.21622,     0.21722,     0.21822,     0.21922,     0.22022,     0.22122,     0.22222,     0.22322,     0.22422,     0.22523,     0.22623,     0.22723,     0.22823,     0.22923,     0.23023,     0.23123,     0.23223,     0.23323,     0.23423,     0.23524,     0.23624,     0.23724,     0.23824,     0.23924,\n",
              "           0.24024,     0.24124,     0.24224,     0.24324,     0.24424,     0.24525,     0.24625,     0.24725,     0.24825,     0.24925,     0.25025,     0.25125,     0.25225,     0.25325,     0.25425,     0.25526,     0.25626,     0.25726,     0.25826,     0.25926,     0.26026,     0.26126,     0.26226,     0.26326,\n",
              "           0.26426,     0.26527,     0.26627,     0.26727,     0.26827,     0.26927,     0.27027,     0.27127,     0.27227,     0.27327,     0.27427,     0.27528,     0.27628,     0.27728,     0.27828,     0.27928,     0.28028,     0.28128,     0.28228,     0.28328,     0.28428,     0.28529,     0.28629,     0.28729,\n",
              "           0.28829,     0.28929,     0.29029,     0.29129,     0.29229,     0.29329,     0.29429,      0.2953,      0.2963,      0.2973,      0.2983,      0.2993,      0.3003,      0.3013,      0.3023,      0.3033,      0.3043,     0.30531,     0.30631,     0.30731,     0.30831,     0.30931,     0.31031,     0.31131,\n",
              "           0.31231,     0.31331,     0.31431,     0.31532,     0.31632,     0.31732,     0.31832,     0.31932,     0.32032,     0.32132,     0.32232,     0.32332,     0.32432,     0.32533,     0.32633,     0.32733,     0.32833,     0.32933,     0.33033,     0.33133,     0.33233,     0.33333,     0.33433,     0.33534,\n",
              "           0.33634,     0.33734,     0.33834,     0.33934,     0.34034,     0.34134,     0.34234,     0.34334,     0.34434,     0.34535,     0.34635,     0.34735,     0.34835,     0.34935,     0.35035,     0.35135,     0.35235,     0.35335,     0.35435,     0.35536,     0.35636,     0.35736,     0.35836,     0.35936,\n",
              "           0.36036,     0.36136,     0.36236,     0.36336,     0.36436,     0.36537,     0.36637,     0.36737,     0.36837,     0.36937,     0.37037,     0.37137,     0.37237,     0.37337,     0.37437,     0.37538,     0.37638,     0.37738,     0.37838,     0.37938,     0.38038,     0.38138,     0.38238,     0.38338,\n",
              "           0.38438,     0.38539,     0.38639,     0.38739,     0.38839,     0.38939,     0.39039,     0.39139,     0.39239,     0.39339,     0.39439,      0.3954,      0.3964,      0.3974,      0.3984,      0.3994,      0.4004,      0.4014,      0.4024,      0.4034,      0.4044,     0.40541,     0.40641,     0.40741,\n",
              "           0.40841,     0.40941,     0.41041,     0.41141,     0.41241,     0.41341,     0.41441,     0.41542,     0.41642,     0.41742,     0.41842,     0.41942,     0.42042,     0.42142,     0.42242,     0.42342,     0.42442,     0.42543,     0.42643,     0.42743,     0.42843,     0.42943,     0.43043,     0.43143,\n",
              "           0.43243,     0.43343,     0.43443,     0.43544,     0.43644,     0.43744,     0.43844,     0.43944,     0.44044,     0.44144,     0.44244,     0.44344,     0.44444,     0.44545,     0.44645,     0.44745,     0.44845,     0.44945,     0.45045,     0.45145,     0.45245,     0.45345,     0.45445,     0.45546,\n",
              "           0.45646,     0.45746,     0.45846,     0.45946,     0.46046,     0.46146,     0.46246,     0.46346,     0.46446,     0.46547,     0.46647,     0.46747,     0.46847,     0.46947,     0.47047,     0.47147,     0.47247,     0.47347,     0.47447,     0.47548,     0.47648,     0.47748,     0.47848,     0.47948,\n",
              "           0.48048,     0.48148,     0.48248,     0.48348,     0.48448,     0.48549,     0.48649,     0.48749,     0.48849,     0.48949,     0.49049,     0.49149,     0.49249,     0.49349,     0.49449,      0.4955,      0.4965,      0.4975,      0.4985,      0.4995,      0.5005,      0.5015,      0.5025,      0.5035,\n",
              "            0.5045,     0.50551,     0.50651,     0.50751,     0.50851,     0.50951,     0.51051,     0.51151,     0.51251,     0.51351,     0.51451,     0.51552,     0.51652,     0.51752,     0.51852,     0.51952,     0.52052,     0.52152,     0.52252,     0.52352,     0.52452,     0.52553,     0.52653,     0.52753,\n",
              "           0.52853,     0.52953,     0.53053,     0.53153,     0.53253,     0.53353,     0.53453,     0.53554,     0.53654,     0.53754,     0.53854,     0.53954,     0.54054,     0.54154,     0.54254,     0.54354,     0.54454,     0.54555,     0.54655,     0.54755,     0.54855,     0.54955,     0.55055,     0.55155,\n",
              "           0.55255,     0.55355,     0.55455,     0.55556,     0.55656,     0.55756,     0.55856,     0.55956,     0.56056,     0.56156,     0.56256,     0.56356,     0.56456,     0.56557,     0.56657,     0.56757,     0.56857,     0.56957,     0.57057,     0.57157,     0.57257,     0.57357,     0.57457,     0.57558,\n",
              "           0.57658,     0.57758,     0.57858,     0.57958,     0.58058,     0.58158,     0.58258,     0.58358,     0.58458,     0.58559,     0.58659,     0.58759,     0.58859,     0.58959,     0.59059,     0.59159,     0.59259,     0.59359,     0.59459,      0.5956,      0.5966,      0.5976,      0.5986,      0.5996,\n",
              "            0.6006,      0.6016,      0.6026,      0.6036,      0.6046,     0.60561,     0.60661,     0.60761,     0.60861,     0.60961,     0.61061,     0.61161,     0.61261,     0.61361,     0.61461,     0.61562,     0.61662,     0.61762,     0.61862,     0.61962,     0.62062,     0.62162,     0.62262,     0.62362,\n",
              "           0.62462,     0.62563,     0.62663,     0.62763,     0.62863,     0.62963,     0.63063,     0.63163,     0.63263,     0.63363,     0.63463,     0.63564,     0.63664,     0.63764,     0.63864,     0.63964,     0.64064,     0.64164,     0.64264,     0.64364,     0.64464,     0.64565,     0.64665,     0.64765,\n",
              "           0.64865,     0.64965,     0.65065,     0.65165,     0.65265,     0.65365,     0.65465,     0.65566,     0.65666,     0.65766,     0.65866,     0.65966,     0.66066,     0.66166,     0.66266,     0.66366,     0.66466,     0.66567,     0.66667,     0.66767,     0.66867,     0.66967,     0.67067,     0.67167,\n",
              "           0.67267,     0.67367,     0.67467,     0.67568,     0.67668,     0.67768,     0.67868,     0.67968,     0.68068,     0.68168,     0.68268,     0.68368,     0.68468,     0.68569,     0.68669,     0.68769,     0.68869,     0.68969,     0.69069,     0.69169,     0.69269,     0.69369,     0.69469,      0.6957,\n",
              "            0.6967,      0.6977,      0.6987,      0.6997,      0.7007,      0.7017,      0.7027,      0.7037,      0.7047,     0.70571,     0.70671,     0.70771,     0.70871,     0.70971,     0.71071,     0.71171,     0.71271,     0.71371,     0.71471,     0.71572,     0.71672,     0.71772,     0.71872,     0.71972,\n",
              "           0.72072,     0.72172,     0.72272,     0.72372,     0.72472,     0.72573,     0.72673,     0.72773,     0.72873,     0.72973,     0.73073,     0.73173,     0.73273,     0.73373,     0.73473,     0.73574,     0.73674,     0.73774,     0.73874,     0.73974,     0.74074,     0.74174,     0.74274,     0.74374,\n",
              "           0.74474,     0.74575,     0.74675,     0.74775,     0.74875,     0.74975,     0.75075,     0.75175,     0.75275,     0.75375,     0.75475,     0.75576,     0.75676,     0.75776,     0.75876,     0.75976,     0.76076,     0.76176,     0.76276,     0.76376,     0.76476,     0.76577,     0.76677,     0.76777,\n",
              "           0.76877,     0.76977,     0.77077,     0.77177,     0.77277,     0.77377,     0.77477,     0.77578,     0.77678,     0.77778,     0.77878,     0.77978,     0.78078,     0.78178,     0.78278,     0.78378,     0.78478,     0.78579,     0.78679,     0.78779,     0.78879,     0.78979,     0.79079,     0.79179,\n",
              "           0.79279,     0.79379,     0.79479,      0.7958,      0.7968,      0.7978,      0.7988,      0.7998,      0.8008,      0.8018,      0.8028,      0.8038,      0.8048,     0.80581,     0.80681,     0.80781,     0.80881,     0.80981,     0.81081,     0.81181,     0.81281,     0.81381,     0.81481,     0.81582,\n",
              "           0.81682,     0.81782,     0.81882,     0.81982,     0.82082,     0.82182,     0.82282,     0.82382,     0.82482,     0.82583,     0.82683,     0.82783,     0.82883,     0.82983,     0.83083,     0.83183,     0.83283,     0.83383,     0.83483,     0.83584,     0.83684,     0.83784,     0.83884,     0.83984,\n",
              "           0.84084,     0.84184,     0.84284,     0.84384,     0.84484,     0.84585,     0.84685,     0.84785,     0.84885,     0.84985,     0.85085,     0.85185,     0.85285,     0.85385,     0.85485,     0.85586,     0.85686,     0.85786,     0.85886,     0.85986,     0.86086,     0.86186,     0.86286,     0.86386,\n",
              "           0.86486,     0.86587,     0.86687,     0.86787,     0.86887,     0.86987,     0.87087,     0.87187,     0.87287,     0.87387,     0.87487,     0.87588,     0.87688,     0.87788,     0.87888,     0.87988,     0.88088,     0.88188,     0.88288,     0.88388,     0.88488,     0.88589,     0.88689,     0.88789,\n",
              "           0.88889,     0.88989,     0.89089,     0.89189,     0.89289,     0.89389,     0.89489,      0.8959,      0.8969,      0.8979,      0.8989,      0.8999,      0.9009,      0.9019,      0.9029,      0.9039,      0.9049,     0.90591,     0.90691,     0.90791,     0.90891,     0.90991,     0.91091,     0.91191,\n",
              "           0.91291,     0.91391,     0.91491,     0.91592,     0.91692,     0.91792,     0.91892,     0.91992,     0.92092,     0.92192,     0.92292,     0.92392,     0.92492,     0.92593,     0.92693,     0.92793,     0.92893,     0.92993,     0.93093,     0.93193,     0.93293,     0.93393,     0.93493,     0.93594,\n",
              "           0.93694,     0.93794,     0.93894,     0.93994,     0.94094,     0.94194,     0.94294,     0.94394,     0.94494,     0.94595,     0.94695,     0.94795,     0.94895,     0.94995,     0.95095,     0.95195,     0.95295,     0.95395,     0.95495,     0.95596,     0.95696,     0.95796,     0.95896,     0.95996,\n",
              "           0.96096,     0.96196,     0.96296,     0.96396,     0.96496,     0.96597,     0.96697,     0.96797,     0.96897,     0.96997,     0.97097,     0.97197,     0.97297,     0.97397,     0.97497,     0.97598,     0.97698,     0.97798,     0.97898,     0.97998,     0.98098,     0.98198,     0.98298,     0.98398,\n",
              "           0.98498,     0.98599,     0.98699,     0.98799,     0.98899,     0.98999,     0.99099,     0.99199,     0.99299,     0.99399,     0.99499,       0.996,       0.997,       0.998,       0.999,           1]), array([[    0.41968,     0.41968,     0.51562,     0.56772,     0.59796,       0.628,     0.64888,     0.66379,     0.67597,      0.6855,     0.69864,     0.70747,     0.71911,     0.72836,     0.73184,     0.73706,     0.74382,     0.75154,      0.7546,     0.75768,     0.75944,     0.76304,     0.76712,\n",
              "            0.77203,      0.7736,     0.77698,      0.7828,     0.78937,     0.79273,     0.79547,     0.79608,     0.80216,     0.80661,     0.81184,     0.81367,     0.81702,      0.8198,     0.82086,     0.82203,     0.82476,      0.8267,     0.82719,      0.8278,     0.82974,     0.83238,     0.83391,\n",
              "            0.83444,     0.83547,      0.8373,     0.83825,     0.83886,     0.84046,     0.84104,     0.84247,     0.84284,     0.84322,     0.84377,     0.84453,      0.8461,     0.84699,     0.84754,     0.84892,     0.85129,      0.8539,     0.85463,     0.85518,     0.85654,     0.85883,      0.8614,\n",
              "            0.86361,     0.86488,      0.8654,     0.86589,     0.86634,     0.86791,     0.86872,     0.87015,     0.87044,     0.87072,     0.87101,     0.87218,      0.8726,     0.87302,      0.8745,     0.87499,     0.87768,     0.87994,     0.88035,     0.88077,     0.88207,     0.88298,     0.88442,\n",
              "            0.88457,     0.88471,     0.88486,     0.88501,     0.88515,      0.8853,     0.88544,     0.88659,     0.88652,     0.88694,     0.88764,     0.88779,     0.88795,      0.8881,     0.88825,     0.88841,     0.88856,     0.88872,     0.88934,     0.89061,      0.8913,     0.89163,     0.89196,\n",
              "            0.89222,     0.89236,      0.8925,     0.89264,     0.89278,     0.89292,     0.89306,      0.8932,     0.89336,     0.89359,     0.89381,     0.89403,     0.89426,     0.89448,     0.89464,      0.8948,     0.89496,     0.89512,     0.89528,     0.89544,      0.8956,     0.89538,     0.89652,\n",
              "            0.89677,     0.89702,     0.89727,     0.89752,     0.89773,     0.89787,     0.89801,     0.89815,     0.89829,     0.89843,     0.89857,     0.89871,     0.89889,     0.89935,      0.8998,     0.89996,      0.8999,      0.8998,     0.90092,     0.90112,     0.90133,     0.90153,     0.90174,\n",
              "            0.90194,     0.90205,     0.90211,     0.90285,     0.90307,     0.90419,     0.90418,     0.90417,     0.90415,     0.90414,     0.90412,     0.90411,      0.9041,     0.90408,     0.90406,     0.90398,     0.90403,     0.90419,     0.90435,     0.90451,     0.90466,     0.90482,     0.90498,\n",
              "            0.90514,     0.90582,     0.90638,     0.90654,     0.90671,     0.90688,     0.90704,     0.90721,     0.90738,     0.90753,     0.90749,     0.90746,     0.90743,     0.90764,     0.90818,     0.90863,     0.90873,     0.90882,     0.90892,     0.90902,     0.90912,     0.90921,     0.90931,\n",
              "            0.90941,      0.9095,      0.9096,      0.9097,     0.90979,     0.90995,     0.91011,     0.91028,     0.91045,     0.91062,     0.91079,     0.91095,     0.91258,     0.91317,     0.91335,      0.9136,     0.91389,     0.91419,     0.91448,     0.91503,     0.91566,     0.91575,     0.91572,\n",
              "            0.91569,     0.91621,     0.91708,     0.91737,     0.91766,     0.91795,     0.91824,     0.91852,     0.91881,      0.9191,     0.91942,     0.91993,     0.92043,     0.92093,     0.92141,     0.92186,     0.92207,     0.92229,      0.9225,     0.92271,     0.92292,     0.92438,     0.92457,\n",
              "            0.92476,     0.92495,     0.92514,     0.92533,     0.92552,     0.92676,     0.92811,     0.92823,     0.92835,     0.92847,     0.92858,      0.9287,     0.92882,     0.92894,     0.92905,     0.92917,     0.92929,     0.92944,     0.92962,     0.92981,     0.92999,     0.93018,     0.93037,\n",
              "            0.93055,     0.93148,     0.93191,     0.93196,     0.93201,     0.93206,     0.93211,     0.93215,      0.9322,     0.93225,      0.9323,     0.93235,      0.9324,     0.93244,     0.93249,     0.93254,     0.93259,     0.93264,     0.93269,     0.93273,     0.93278,     0.93283,     0.93288,\n",
              "            0.93293,     0.93298,     0.93302,     0.93307,     0.93312,     0.93361,     0.93451,     0.93473,     0.93494,     0.93516,     0.93538,      0.9356,     0.93567,     0.93561,     0.93559,     0.93556,     0.93554,     0.93712,      0.9376,     0.93808,     0.93944,     0.93963,     0.93982,\n",
              "            0.94001,      0.9402,     0.94039,     0.94058,     0.94099,     0.94175,     0.94252,     0.94328,     0.94335,     0.94342,     0.94348,     0.94354,      0.9436,     0.94366,     0.94373,     0.94379,     0.94385,     0.94391,     0.94398,     0.94404,      0.9441,     0.94416,     0.94423,\n",
              "            0.94429,     0.94435,     0.94441,     0.94447,     0.94454,      0.9446,     0.94528,     0.94594,     0.94643,     0.94692,     0.94721,     0.94719,     0.94717,     0.94715,     0.94735,     0.94756,     0.94776,     0.94797,     0.94818,     0.94839,     0.94983,     0.94989,     0.94995,\n",
              "            0.95001,     0.95007,     0.95013,     0.95019,     0.95025,     0.95031,     0.95037,     0.95043,     0.95049,     0.95055,     0.95061,     0.95067,     0.95073,      0.9508,     0.95086,     0.95092,     0.95098,     0.95104,      0.9511,     0.95118,     0.95129,     0.95139,     0.95149,\n",
              "            0.95159,     0.95169,     0.95179,     0.95189,     0.95199,     0.95209,     0.95219,      0.9523,      0.9524,     0.95244,     0.95244,     0.95243,     0.95242,     0.95242,     0.95241,      0.9524,     0.95239,     0.95239,      0.9527,     0.95371,      0.9537,     0.95369,     0.95368,\n",
              "            0.95367,     0.95366,     0.95361,     0.95365,     0.95375,     0.95385,     0.95395,     0.95405,     0.95415,     0.95425,     0.95435,     0.95445,     0.95455,     0.95465,     0.95475,     0.95485,     0.95491,     0.95487,     0.95486,     0.95486,     0.95486,     0.95485,     0.95485,\n",
              "            0.95485,     0.95484,     0.95484,     0.95484,     0.95483,     0.95483,     0.95483,     0.95482,     0.95482,     0.95482,     0.95481,     0.95481,     0.95481,     0.95481,     0.95483,     0.95552,     0.95615,     0.95613,     0.95612,      0.9561,     0.95613,     0.95623,     0.95633,\n",
              "            0.95643,     0.95653,     0.95663,     0.95673,     0.95683,     0.95693,     0.95703,     0.95713,     0.95723,     0.95732,     0.95742,     0.95744,     0.95744,     0.95743,     0.95743,     0.95742,     0.95742,     0.95741,     0.95741,     0.95741,      0.9574,      0.9574,     0.95739,\n",
              "            0.95743,     0.95789,     0.95836,     0.95875,     0.95874,     0.95873,     0.95872,     0.95871,      0.9587,      0.9587,     0.95892,     0.95962,     0.96012,     0.96027,     0.96043,     0.96058,     0.96074,      0.9609,     0.96105,     0.96121,     0.96137,     0.96143,     0.96142,\n",
              "            0.96142,     0.96141,      0.9614,      0.9614,     0.96139,     0.96139,     0.96138,     0.96138,     0.96137,     0.96137,     0.96137,     0.96136,     0.96136,     0.96135,     0.96135,     0.96134,     0.96134,     0.96133,     0.96133,     0.96133,     0.96132,     0.96132,      0.9613,\n",
              "            0.96129,     0.96128,     0.96127,     0.96126,     0.96124,     0.96122,     0.96148,     0.96218,      0.9632,      0.9643,     0.96501,     0.96536,     0.96536,     0.96535,     0.96534,     0.96533,     0.96533,     0.96532,     0.96527,     0.96526,     0.96526,     0.96525,     0.96525,\n",
              "            0.96525,     0.96524,     0.96524,     0.96523,     0.96523,     0.96523,     0.96522,     0.96522,     0.96594,     0.96661,     0.96658,     0.96656,     0.96655,     0.96654,     0.96653,     0.96652,     0.96647,     0.96646,     0.96646,     0.96645,     0.96645,     0.96644,     0.96643,\n",
              "            0.96643,     0.96642,      0.9664,     0.96638,     0.96707,     0.96779,     0.96778,     0.96875,     0.96914,     0.96909,     0.96914,     0.96925,     0.96936,     0.96947,     0.96957,     0.96968,     0.96979,      0.9699,     0.97001,     0.97012,     0.97023,     0.97033,     0.97044,\n",
              "            0.97117,     0.97193,     0.97191,      0.9719,     0.97189,     0.97188,     0.97187,     0.97186,     0.97185,     0.97252,     0.97336,     0.97365,     0.97395,     0.97425,     0.97454,     0.97523,      0.9764,       0.977,      0.9776,     0.97799,     0.97836,     0.97874,     0.97911,\n",
              "            0.97926,     0.97942,     0.97958,     0.97974,      0.9799,     0.98005,     0.98021,     0.98037,     0.98053,     0.98056,     0.98055,     0.98054,     0.98068,     0.98118,     0.98168,     0.98197,      0.9819,     0.98238,     0.98288,     0.98336,     0.98335,     0.98331,      0.9833,\n",
              "             0.9833,     0.98329,     0.98328,      0.9838,     0.98457,     0.98477,     0.98476,     0.98475,     0.98473,     0.98471,     0.98512,     0.98564,     0.98615,     0.98619,     0.98618,     0.98655,     0.98733,     0.98768,     0.98767,     0.98766,     0.98766,     0.98765,     0.98765,\n",
              "            0.98765,     0.98765,     0.98765,     0.98764,     0.98764,     0.98764,     0.98764,     0.98764,     0.98764,     0.98762,     0.98798,     0.98837,     0.98876,     0.98915,     0.98913,     0.98912,     0.98912,      0.9891,     0.98909,     0.98909,     0.98908,     0.98907,     0.98907,\n",
              "            0.98906,     0.98902,     0.98901,     0.98988,     0.99055,     0.99055,     0.99054,     0.99054,     0.99053,     0.99052,     0.99051,     0.99051,     0.99051,      0.9905,      0.9905,      0.9905,     0.99049,     0.99049,     0.99048,     0.99124,     0.99201,       0.992,       0.992,\n",
              "            0.99199,     0.99199,     0.99199,     0.99199,     0.99196,     0.99194,     0.99192,     0.99192,     0.99191,     0.99191,     0.99189,     0.99188,     0.99188,     0.99187,     0.99187,     0.99186,     0.99184,     0.99184,     0.99183,     0.99183,     0.99182,      0.9918,     0.99179,\n",
              "            0.99178,     0.99177,     0.99177,     0.99177,     0.99177,     0.99174,     0.99173,     0.99169,     0.99167,     0.99166,     0.99159,     0.99323,     0.99322,     0.99321,      0.9932,      0.9932,      0.9932,     0.99315,     0.99314,     0.99313,     0.99308,     0.99307,     0.99303,\n",
              "              0.993,     0.99299,     0.99299,     0.99297,     0.99291,     0.99287,     0.99287,     0.99286,      0.9928,      0.9928,     0.99275,     0.99275,     0.99274,     0.99273,      0.9927,     0.99267,     0.99266,     0.99265,     0.99259,     0.99258,     0.99254,     0.99244,     0.99237,\n",
              "            0.99235,     0.99233,     0.99229,     0.99224,     0.99219,     0.99218,     0.99217,     0.99213,      0.9921,     0.99208,       0.992,     0.99197,     0.99188,     0.99187,     0.99182,      0.9918,     0.99174,     0.99161,     0.99151,     0.99148,     0.99147,     0.99143,     0.99137,\n",
              "            0.99339,     0.99327,     0.99325,     0.99316,     0.99312,     0.99306,     0.99295,     0.99285,     0.99514,     0.99493,     0.99485,     0.99473,     0.99459,     0.99457,     0.99441,      0.9943,     0.99451,      0.9971,     0.99703,     0.99698,     0.99696,     0.99682,     0.99673,\n",
              "            0.99671,     0.99667,     0.99659,           1,           1,           1,           1,           1,           1,           1,           1,           1,           1,           1,           1,           1,           1,           1,           1,           1,           1,           1,           1,\n",
              "                  1,           1,           1,           1,           1,           1,           1,           1,           1,           1,           1,           1,           1,           1,           1,           1,           1,           1,           1,           1,           1,           1,           1,\n",
              "                  1,           1,           1,           1,           1,           1,           1,           1,           1,           1,           1,           1,           1,           1,           1,           1,           1,           1,           1,           1,           1,           1,           1,\n",
              "                  1,           1,           1,           1,           1,           1,           1,           1,           1,           1,           1,           1,           1,           1,           1,           1,           1,           1,           1,           1,           1,           1,           1,\n",
              "                  1,           1,           1,           1,           1,           1,           1,           1,           1,           1,           1,           1,           1,           1,           1,           1,           1,           1,           1,           1,           1,           1,           1,\n",
              "                  1,           1,           1,           1,           1,           1,           1,           1,           1,           1,           1,           1,           1,           1,           1,           1,           1,           1,           1,           1,           1,           1,           1,\n",
              "                  1,           1,           1,           1,           1,           1,           1,           1,           1,           1,           1,           1,           1,           1,           1,           1,           1,           1,           1,           1,           1,           1,           1,\n",
              "                  1,           1,           1,           1,           1,           1,           1,           1,           1,           1,           1]]), 'Confidence', 'Precision'], [array([          0,    0.001001,    0.002002,    0.003003,    0.004004,    0.005005,    0.006006,    0.007007,    0.008008,    0.009009,     0.01001,    0.011011,    0.012012,    0.013013,    0.014014,    0.015015,    0.016016,    0.017017,    0.018018,    0.019019,     0.02002,    0.021021,    0.022022,    0.023023,\n",
              "          0.024024,    0.025025,    0.026026,    0.027027,    0.028028,    0.029029,     0.03003,    0.031031,    0.032032,    0.033033,    0.034034,    0.035035,    0.036036,    0.037037,    0.038038,    0.039039,     0.04004,    0.041041,    0.042042,    0.043043,    0.044044,    0.045045,    0.046046,    0.047047,\n",
              "          0.048048,    0.049049,     0.05005,    0.051051,    0.052052,    0.053053,    0.054054,    0.055055,    0.056056,    0.057057,    0.058058,    0.059059,     0.06006,    0.061061,    0.062062,    0.063063,    0.064064,    0.065065,    0.066066,    0.067067,    0.068068,    0.069069,     0.07007,    0.071071,\n",
              "          0.072072,    0.073073,    0.074074,    0.075075,    0.076076,    0.077077,    0.078078,    0.079079,     0.08008,    0.081081,    0.082082,    0.083083,    0.084084,    0.085085,    0.086086,    0.087087,    0.088088,    0.089089,     0.09009,    0.091091,    0.092092,    0.093093,    0.094094,    0.095095,\n",
              "          0.096096,    0.097097,    0.098098,    0.099099,      0.1001,      0.1011,      0.1021,      0.1031,      0.1041,     0.10511,     0.10611,     0.10711,     0.10811,     0.10911,     0.11011,     0.11111,     0.11211,     0.11311,     0.11411,     0.11512,     0.11612,     0.11712,     0.11812,     0.11912,\n",
              "           0.12012,     0.12112,     0.12212,     0.12312,     0.12412,     0.12513,     0.12613,     0.12713,     0.12813,     0.12913,     0.13013,     0.13113,     0.13213,     0.13313,     0.13413,     0.13514,     0.13614,     0.13714,     0.13814,     0.13914,     0.14014,     0.14114,     0.14214,     0.14314,\n",
              "           0.14414,     0.14515,     0.14615,     0.14715,     0.14815,     0.14915,     0.15015,     0.15115,     0.15215,     0.15315,     0.15415,     0.15516,     0.15616,     0.15716,     0.15816,     0.15916,     0.16016,     0.16116,     0.16216,     0.16316,     0.16416,     0.16517,     0.16617,     0.16717,\n",
              "           0.16817,     0.16917,     0.17017,     0.17117,     0.17217,     0.17317,     0.17417,     0.17518,     0.17618,     0.17718,     0.17818,     0.17918,     0.18018,     0.18118,     0.18218,     0.18318,     0.18418,     0.18519,     0.18619,     0.18719,     0.18819,     0.18919,     0.19019,     0.19119,\n",
              "           0.19219,     0.19319,     0.19419,      0.1952,      0.1962,      0.1972,      0.1982,      0.1992,      0.2002,      0.2012,      0.2022,      0.2032,      0.2042,     0.20521,     0.20621,     0.20721,     0.20821,     0.20921,     0.21021,     0.21121,     0.21221,     0.21321,     0.21421,     0.21522,\n",
              "           0.21622,     0.21722,     0.21822,     0.21922,     0.22022,     0.22122,     0.22222,     0.22322,     0.22422,     0.22523,     0.22623,     0.22723,     0.22823,     0.22923,     0.23023,     0.23123,     0.23223,     0.23323,     0.23423,     0.23524,     0.23624,     0.23724,     0.23824,     0.23924,\n",
              "           0.24024,     0.24124,     0.24224,     0.24324,     0.24424,     0.24525,     0.24625,     0.24725,     0.24825,     0.24925,     0.25025,     0.25125,     0.25225,     0.25325,     0.25425,     0.25526,     0.25626,     0.25726,     0.25826,     0.25926,     0.26026,     0.26126,     0.26226,     0.26326,\n",
              "           0.26426,     0.26527,     0.26627,     0.26727,     0.26827,     0.26927,     0.27027,     0.27127,     0.27227,     0.27327,     0.27427,     0.27528,     0.27628,     0.27728,     0.27828,     0.27928,     0.28028,     0.28128,     0.28228,     0.28328,     0.28428,     0.28529,     0.28629,     0.28729,\n",
              "           0.28829,     0.28929,     0.29029,     0.29129,     0.29229,     0.29329,     0.29429,      0.2953,      0.2963,      0.2973,      0.2983,      0.2993,      0.3003,      0.3013,      0.3023,      0.3033,      0.3043,     0.30531,     0.30631,     0.30731,     0.30831,     0.30931,     0.31031,     0.31131,\n",
              "           0.31231,     0.31331,     0.31431,     0.31532,     0.31632,     0.31732,     0.31832,     0.31932,     0.32032,     0.32132,     0.32232,     0.32332,     0.32432,     0.32533,     0.32633,     0.32733,     0.32833,     0.32933,     0.33033,     0.33133,     0.33233,     0.33333,     0.33433,     0.33534,\n",
              "           0.33634,     0.33734,     0.33834,     0.33934,     0.34034,     0.34134,     0.34234,     0.34334,     0.34434,     0.34535,     0.34635,     0.34735,     0.34835,     0.34935,     0.35035,     0.35135,     0.35235,     0.35335,     0.35435,     0.35536,     0.35636,     0.35736,     0.35836,     0.35936,\n",
              "           0.36036,     0.36136,     0.36236,     0.36336,     0.36436,     0.36537,     0.36637,     0.36737,     0.36837,     0.36937,     0.37037,     0.37137,     0.37237,     0.37337,     0.37437,     0.37538,     0.37638,     0.37738,     0.37838,     0.37938,     0.38038,     0.38138,     0.38238,     0.38338,\n",
              "           0.38438,     0.38539,     0.38639,     0.38739,     0.38839,     0.38939,     0.39039,     0.39139,     0.39239,     0.39339,     0.39439,      0.3954,      0.3964,      0.3974,      0.3984,      0.3994,      0.4004,      0.4014,      0.4024,      0.4034,      0.4044,     0.40541,     0.40641,     0.40741,\n",
              "           0.40841,     0.40941,     0.41041,     0.41141,     0.41241,     0.41341,     0.41441,     0.41542,     0.41642,     0.41742,     0.41842,     0.41942,     0.42042,     0.42142,     0.42242,     0.42342,     0.42442,     0.42543,     0.42643,     0.42743,     0.42843,     0.42943,     0.43043,     0.43143,\n",
              "           0.43243,     0.43343,     0.43443,     0.43544,     0.43644,     0.43744,     0.43844,     0.43944,     0.44044,     0.44144,     0.44244,     0.44344,     0.44444,     0.44545,     0.44645,     0.44745,     0.44845,     0.44945,     0.45045,     0.45145,     0.45245,     0.45345,     0.45445,     0.45546,\n",
              "           0.45646,     0.45746,     0.45846,     0.45946,     0.46046,     0.46146,     0.46246,     0.46346,     0.46446,     0.46547,     0.46647,     0.46747,     0.46847,     0.46947,     0.47047,     0.47147,     0.47247,     0.47347,     0.47447,     0.47548,     0.47648,     0.47748,     0.47848,     0.47948,\n",
              "           0.48048,     0.48148,     0.48248,     0.48348,     0.48448,     0.48549,     0.48649,     0.48749,     0.48849,     0.48949,     0.49049,     0.49149,     0.49249,     0.49349,     0.49449,      0.4955,      0.4965,      0.4975,      0.4985,      0.4995,      0.5005,      0.5015,      0.5025,      0.5035,\n",
              "            0.5045,     0.50551,     0.50651,     0.50751,     0.50851,     0.50951,     0.51051,     0.51151,     0.51251,     0.51351,     0.51451,     0.51552,     0.51652,     0.51752,     0.51852,     0.51952,     0.52052,     0.52152,     0.52252,     0.52352,     0.52452,     0.52553,     0.52653,     0.52753,\n",
              "           0.52853,     0.52953,     0.53053,     0.53153,     0.53253,     0.53353,     0.53453,     0.53554,     0.53654,     0.53754,     0.53854,     0.53954,     0.54054,     0.54154,     0.54254,     0.54354,     0.54454,     0.54555,     0.54655,     0.54755,     0.54855,     0.54955,     0.55055,     0.55155,\n",
              "           0.55255,     0.55355,     0.55455,     0.55556,     0.55656,     0.55756,     0.55856,     0.55956,     0.56056,     0.56156,     0.56256,     0.56356,     0.56456,     0.56557,     0.56657,     0.56757,     0.56857,     0.56957,     0.57057,     0.57157,     0.57257,     0.57357,     0.57457,     0.57558,\n",
              "           0.57658,     0.57758,     0.57858,     0.57958,     0.58058,     0.58158,     0.58258,     0.58358,     0.58458,     0.58559,     0.58659,     0.58759,     0.58859,     0.58959,     0.59059,     0.59159,     0.59259,     0.59359,     0.59459,      0.5956,      0.5966,      0.5976,      0.5986,      0.5996,\n",
              "            0.6006,      0.6016,      0.6026,      0.6036,      0.6046,     0.60561,     0.60661,     0.60761,     0.60861,     0.60961,     0.61061,     0.61161,     0.61261,     0.61361,     0.61461,     0.61562,     0.61662,     0.61762,     0.61862,     0.61962,     0.62062,     0.62162,     0.62262,     0.62362,\n",
              "           0.62462,     0.62563,     0.62663,     0.62763,     0.62863,     0.62963,     0.63063,     0.63163,     0.63263,     0.63363,     0.63463,     0.63564,     0.63664,     0.63764,     0.63864,     0.63964,     0.64064,     0.64164,     0.64264,     0.64364,     0.64464,     0.64565,     0.64665,     0.64765,\n",
              "           0.64865,     0.64965,     0.65065,     0.65165,     0.65265,     0.65365,     0.65465,     0.65566,     0.65666,     0.65766,     0.65866,     0.65966,     0.66066,     0.66166,     0.66266,     0.66366,     0.66466,     0.66567,     0.66667,     0.66767,     0.66867,     0.66967,     0.67067,     0.67167,\n",
              "           0.67267,     0.67367,     0.67467,     0.67568,     0.67668,     0.67768,     0.67868,     0.67968,     0.68068,     0.68168,     0.68268,     0.68368,     0.68468,     0.68569,     0.68669,     0.68769,     0.68869,     0.68969,     0.69069,     0.69169,     0.69269,     0.69369,     0.69469,      0.6957,\n",
              "            0.6967,      0.6977,      0.6987,      0.6997,      0.7007,      0.7017,      0.7027,      0.7037,      0.7047,     0.70571,     0.70671,     0.70771,     0.70871,     0.70971,     0.71071,     0.71171,     0.71271,     0.71371,     0.71471,     0.71572,     0.71672,     0.71772,     0.71872,     0.71972,\n",
              "           0.72072,     0.72172,     0.72272,     0.72372,     0.72472,     0.72573,     0.72673,     0.72773,     0.72873,     0.72973,     0.73073,     0.73173,     0.73273,     0.73373,     0.73473,     0.73574,     0.73674,     0.73774,     0.73874,     0.73974,     0.74074,     0.74174,     0.74274,     0.74374,\n",
              "           0.74474,     0.74575,     0.74675,     0.74775,     0.74875,     0.74975,     0.75075,     0.75175,     0.75275,     0.75375,     0.75475,     0.75576,     0.75676,     0.75776,     0.75876,     0.75976,     0.76076,     0.76176,     0.76276,     0.76376,     0.76476,     0.76577,     0.76677,     0.76777,\n",
              "           0.76877,     0.76977,     0.77077,     0.77177,     0.77277,     0.77377,     0.77477,     0.77578,     0.77678,     0.77778,     0.77878,     0.77978,     0.78078,     0.78178,     0.78278,     0.78378,     0.78478,     0.78579,     0.78679,     0.78779,     0.78879,     0.78979,     0.79079,     0.79179,\n",
              "           0.79279,     0.79379,     0.79479,      0.7958,      0.7968,      0.7978,      0.7988,      0.7998,      0.8008,      0.8018,      0.8028,      0.8038,      0.8048,     0.80581,     0.80681,     0.80781,     0.80881,     0.80981,     0.81081,     0.81181,     0.81281,     0.81381,     0.81481,     0.81582,\n",
              "           0.81682,     0.81782,     0.81882,     0.81982,     0.82082,     0.82182,     0.82282,     0.82382,     0.82482,     0.82583,     0.82683,     0.82783,     0.82883,     0.82983,     0.83083,     0.83183,     0.83283,     0.83383,     0.83483,     0.83584,     0.83684,     0.83784,     0.83884,     0.83984,\n",
              "           0.84084,     0.84184,     0.84284,     0.84384,     0.84484,     0.84585,     0.84685,     0.84785,     0.84885,     0.84985,     0.85085,     0.85185,     0.85285,     0.85385,     0.85485,     0.85586,     0.85686,     0.85786,     0.85886,     0.85986,     0.86086,     0.86186,     0.86286,     0.86386,\n",
              "           0.86486,     0.86587,     0.86687,     0.86787,     0.86887,     0.86987,     0.87087,     0.87187,     0.87287,     0.87387,     0.87487,     0.87588,     0.87688,     0.87788,     0.87888,     0.87988,     0.88088,     0.88188,     0.88288,     0.88388,     0.88488,     0.88589,     0.88689,     0.88789,\n",
              "           0.88889,     0.88989,     0.89089,     0.89189,     0.89289,     0.89389,     0.89489,      0.8959,      0.8969,      0.8979,      0.8989,      0.8999,      0.9009,      0.9019,      0.9029,      0.9039,      0.9049,     0.90591,     0.90691,     0.90791,     0.90891,     0.90991,     0.91091,     0.91191,\n",
              "           0.91291,     0.91391,     0.91491,     0.91592,     0.91692,     0.91792,     0.91892,     0.91992,     0.92092,     0.92192,     0.92292,     0.92392,     0.92492,     0.92593,     0.92693,     0.92793,     0.92893,     0.92993,     0.93093,     0.93193,     0.93293,     0.93393,     0.93493,     0.93594,\n",
              "           0.93694,     0.93794,     0.93894,     0.93994,     0.94094,     0.94194,     0.94294,     0.94394,     0.94494,     0.94595,     0.94695,     0.94795,     0.94895,     0.94995,     0.95095,     0.95195,     0.95295,     0.95395,     0.95495,     0.95596,     0.95696,     0.95796,     0.95896,     0.95996,\n",
              "           0.96096,     0.96196,     0.96296,     0.96396,     0.96496,     0.96597,     0.96697,     0.96797,     0.96897,     0.96997,     0.97097,     0.97197,     0.97297,     0.97397,     0.97497,     0.97598,     0.97698,     0.97798,     0.97898,     0.97998,     0.98098,     0.98198,     0.98298,     0.98398,\n",
              "           0.98498,     0.98599,     0.98699,     0.98799,     0.98899,     0.98999,     0.99099,     0.99199,     0.99299,     0.99399,     0.99499,       0.996,       0.997,       0.998,       0.999,           1]), array([[    0.99299,     0.99299,     0.99299,     0.99299,     0.99299,     0.99299,     0.98878,     0.98878,     0.98878,     0.98878,     0.98738,     0.98738,     0.98738,     0.98738,     0.98738,     0.98738,     0.98738,     0.98738,     0.98738,     0.98738,     0.98738,     0.98738,     0.98738,\n",
              "            0.98738,     0.98738,     0.98738,     0.98738,     0.98597,     0.98597,     0.98597,     0.98597,     0.98597,     0.98597,     0.98597,     0.98597,     0.98597,     0.98597,     0.98597,     0.98597,     0.98457,     0.98317,     0.98317,     0.98317,     0.98317,     0.98317,     0.98317,\n",
              "            0.98317,     0.98317,     0.98036,     0.98036,     0.98036,     0.98036,     0.98036,     0.98036,     0.98036,     0.98036,     0.98036,     0.98036,     0.97929,     0.97825,     0.97756,     0.97756,     0.97756,     0.97756,     0.97756,     0.97756,     0.97616,     0.97616,     0.97616,\n",
              "            0.97616,     0.97616,     0.97616,     0.97616,     0.97616,     0.97616,     0.97616,     0.97616,     0.97616,     0.97616,     0.97616,     0.97616,     0.97616,     0.97616,     0.97616,     0.97616,     0.97616,     0.97616,     0.97616,     0.97616,     0.97616,     0.97616,     0.97616,\n",
              "            0.97616,     0.97616,     0.97616,     0.97616,     0.97616,     0.97616,     0.97616,     0.97616,     0.97518,     0.97475,     0.97475,     0.97475,     0.97475,     0.97475,     0.97475,     0.97475,     0.97475,     0.97475,     0.97475,     0.97475,     0.97475,     0.97475,     0.97475,\n",
              "            0.97475,     0.97475,     0.97475,     0.97475,     0.97475,     0.97475,     0.97475,     0.97475,     0.97475,     0.97475,     0.97475,     0.97475,     0.97475,     0.97475,     0.97475,     0.97475,     0.97475,     0.97475,     0.97475,     0.97475,     0.97475,     0.97195,     0.97195,\n",
              "            0.97195,     0.97195,     0.97195,     0.97195,     0.97195,     0.97195,     0.97195,     0.97195,     0.97195,     0.97195,     0.97195,     0.97195,     0.97195,     0.97195,     0.97195,     0.97154,     0.97082,     0.96976,     0.96914,     0.96914,     0.96914,     0.96914,     0.96914,\n",
              "            0.96914,     0.96877,     0.96774,     0.96774,     0.96696,     0.96626,     0.96611,     0.96596,     0.96581,     0.96566,      0.9655,     0.96535,      0.9652,     0.96505,     0.96473,     0.96391,     0.96353,     0.96353,     0.96353,     0.96353,     0.96353,     0.96353,     0.96353,\n",
              "            0.96353,     0.96353,     0.96353,     0.96353,     0.96353,     0.96353,     0.96353,     0.96353,     0.96353,      0.9635,     0.96312,     0.96274,     0.96235,     0.96213,     0.96213,     0.96213,     0.96213,     0.96213,     0.96213,     0.96213,     0.96213,     0.96213,     0.96213,\n",
              "            0.96213,     0.96213,     0.96213,     0.96213,     0.96213,     0.96213,     0.96213,     0.96213,     0.96213,     0.96213,     0.96213,     0.96213,     0.96213,     0.96213,     0.96094,     0.96073,     0.96073,     0.96073,     0.96073,     0.96073,     0.96073,     0.96041,     0.96001,\n",
              "            0.95961,     0.95933,     0.95933,     0.95933,     0.95933,     0.95933,     0.95933,     0.95933,     0.95933,     0.95933,     0.95933,     0.95933,     0.95933,     0.95933,     0.95933,     0.95933,     0.95933,     0.95933,     0.95933,     0.95933,     0.95933,     0.95933,     0.95933,\n",
              "            0.95933,     0.95933,     0.95933,     0.95933,     0.95933,     0.95933,     0.95933,     0.95933,     0.95933,     0.95933,     0.95933,     0.95933,     0.95933,     0.95933,     0.95933,     0.95933,     0.95933,     0.95933,     0.95933,     0.95933,     0.95933,     0.95933,     0.95933,\n",
              "            0.95933,     0.95933,     0.95933,     0.95933,     0.95933,     0.95933,     0.95933,     0.95933,     0.95933,     0.95933,     0.95933,     0.95933,     0.95933,     0.95933,     0.95933,     0.95933,     0.95933,     0.95933,     0.95933,     0.95933,     0.95933,     0.95933,     0.95933,\n",
              "            0.95933,     0.95933,     0.95933,     0.95933,     0.95933,     0.95933,     0.95933,     0.95933,     0.95933,     0.95933,     0.95933,     0.95933,     0.95883,      0.9579,     0.95749,     0.95708,     0.95667,     0.95652,     0.95652,     0.95652,     0.95652,     0.95652,     0.95652,\n",
              "            0.95652,     0.95652,     0.95652,     0.95652,     0.95652,     0.95652,     0.95652,     0.95652,     0.95652,     0.95652,     0.95652,     0.95652,     0.95652,     0.95652,     0.95652,     0.95652,     0.95652,     0.95652,     0.95652,     0.95652,     0.95652,     0.95652,     0.95652,\n",
              "            0.95652,     0.95652,     0.95652,     0.95652,     0.95652,     0.95652,     0.95652,     0.95652,     0.95652,     0.95652,     0.95637,     0.95596,     0.95555,     0.95514,     0.95512,     0.95512,     0.95512,     0.95512,     0.95512,     0.95512,     0.95512,     0.95512,     0.95512,\n",
              "            0.95512,     0.95512,     0.95512,     0.95512,     0.95512,     0.95512,     0.95512,     0.95512,     0.95512,     0.95512,     0.95512,     0.95512,     0.95512,     0.95512,     0.95512,     0.95512,     0.95512,     0.95512,     0.95512,     0.95512,     0.95512,     0.95512,     0.95512,\n",
              "            0.95512,     0.95512,     0.95512,     0.95512,     0.95512,     0.95512,     0.95512,     0.95512,     0.95512,     0.95504,     0.95489,     0.95474,     0.95459,     0.95444,     0.95429,     0.95414,     0.95398,     0.95383,     0.95372,     0.95365,      0.9534,     0.95315,      0.9529,\n",
              "            0.95265,      0.9524,     0.95139,     0.95091,     0.95091,     0.95091,     0.95091,     0.95091,     0.95091,     0.95091,     0.95091,     0.95091,     0.95091,     0.95091,     0.95091,     0.95091,     0.95055,     0.94949,     0.94942,     0.94935,     0.94928,     0.94921,     0.94914,\n",
              "            0.94907,       0.949,     0.94894,     0.94887,      0.9488,     0.94873,     0.94866,     0.94859,     0.94852,     0.94845,     0.94838,     0.94831,     0.94824,     0.94817,     0.94811,     0.94811,     0.94807,     0.94769,     0.94731,     0.94692,      0.9467,      0.9467,      0.9467,\n",
              "             0.9467,      0.9467,      0.9467,      0.9467,      0.9467,      0.9467,      0.9467,      0.9467,      0.9467,      0.9467,      0.9467,     0.94662,     0.94651,      0.9464,     0.94629,     0.94618,     0.94607,     0.94596,     0.94585,     0.94573,     0.94562,     0.94551,      0.9454,\n",
              "             0.9453,      0.9453,      0.9453,     0.94527,     0.94506,     0.94486,     0.94465,     0.94445,     0.94424,     0.94404,      0.9439,      0.9439,      0.9439,      0.9439,      0.9439,      0.9439,      0.9439,      0.9439,      0.9439,      0.9439,      0.9439,     0.94382,     0.94369,\n",
              "            0.94356,     0.94343,      0.9433,     0.94317,     0.94304,     0.94291,     0.94278,     0.94264,     0.94251,      0.9424,     0.94229,     0.94218,     0.94207,     0.94196,     0.94185,     0.94174,     0.94163,     0.94152,     0.94141,     0.94129,     0.94118,     0.94104,     0.94075,\n",
              "            0.94047,     0.94018,     0.93989,     0.93954,     0.93907,     0.93859,     0.93829,     0.93829,     0.93829,     0.93829,     0.93829,     0.93819,     0.93798,     0.93778,     0.93757,     0.93736,     0.93716,     0.93695,     0.93541,     0.93531,      0.9352,     0.93509,     0.93499,\n",
              "            0.93488,     0.93477,     0.93467,     0.93456,     0.93445,     0.93435,     0.93424,     0.93413,     0.93408,      0.9337,     0.93298,     0.93251,     0.93223,     0.93194,     0.93165,     0.93136,     0.92976,      0.9296,     0.92944,     0.92928,     0.92912,     0.92896,      0.9288,\n",
              "            0.92864,     0.92848,     0.92781,     0.92709,     0.92707,     0.92705,     0.92567,     0.92567,     0.92484,      0.9234,     0.92286,     0.92286,     0.92286,     0.92286,     0.92286,     0.92286,     0.92286,     0.92286,     0.92286,     0.92286,     0.92286,     0.92286,     0.92286,\n",
              "            0.92286,     0.92263,     0.92215,     0.92167,      0.9213,     0.92101,     0.92073,     0.92044,     0.92015,     0.92006,     0.92006,     0.92006,     0.92006,     0.92006,     0.92006,     0.92006,     0.92006,     0.92006,     0.92006,     0.92006,     0.92006,     0.92006,     0.92006,\n",
              "            0.92006,     0.92006,     0.92006,     0.92006,     0.92006,     0.92006,     0.92006,     0.92006,     0.92006,     0.91975,     0.91934,     0.91893,     0.91725,     0.91725,     0.91725,     0.91667,     0.91321,     0.91304,     0.91304,     0.91163,     0.91091,     0.90882,      0.9085,\n",
              "            0.90818,     0.90786,     0.90754,     0.90743,     0.90743,     0.90702,     0.90644,     0.90562,     0.90433,     0.90337,     0.90182,     0.90182,     0.90182,      0.9013,     0.90072,     0.90042,     0.90042,     0.89966,     0.89879,     0.89838,     0.89797,      0.8976,     0.89746,\n",
              "            0.89732,     0.89719,     0.89705,     0.89691,     0.89678,     0.89664,      0.8965,     0.89636,     0.89623,     0.89493,     0.89481,     0.89481,     0.89481,     0.89479,     0.89338,     0.89281,     0.89223,     0.89114,     0.89024,     0.88967,     0.88912,     0.88871,      0.8883,\n",
              "            0.88789,     0.88444,     0.88372,     0.88359,     0.88204,     0.88163,     0.88122,     0.88081,     0.87988,     0.87919,     0.87877,     0.87836,     0.87796,      0.8777,     0.87744,     0.87718,     0.87692,     0.87666,     0.87557,     0.87377,     0.87059,     0.86949,     0.86923,\n",
              "            0.86897,     0.86871,     0.86845,     0.86818,     0.86544,      0.8626,     0.86084,     0.86052,      0.8602,     0.85988,     0.85751,     0.85673,     0.85637,     0.85601,     0.85565,     0.85487,     0.85262,     0.85214,     0.85166,     0.85103,     0.85008,     0.84792,      0.8472,\n",
              "            0.84562,     0.84535,     0.84509,     0.84483,     0.84457,     0.84147,     0.84052,     0.83675,     0.83439,     0.83343,     0.82686,      0.8231,     0.82214,     0.82022,     0.81986,      0.8195,     0.81914,     0.81298,      0.8118,     0.81108,     0.80466,      0.8037,     0.79878,\n",
              "            0.79617,     0.79521,     0.79426,     0.79189,     0.78515,     0.78115,     0.78067,     0.78019,     0.77401,     0.77305,     0.76845,     0.76787,      0.7673,     0.76641,     0.76249,     0.75982,     0.75886,     0.75748,     0.75134,     0.75038,     0.74616,     0.73627,     0.72995,\n",
              "            0.72772,     0.72567,     0.72196,     0.71719,     0.71239,     0.71181,     0.71124,     0.70758,     0.70471,     0.70295,      0.6959,     0.69306,     0.68549,     0.68453,     0.68045,      0.6782,      0.6733,      0.6627,     0.65492,     0.65307,     0.65208,      0.6491,     0.64429,\n",
              "            0.63213,     0.62108,     0.61937,     0.61088,     0.60765,     0.60233,     0.59285,     0.58395,     0.57407,     0.55067,     0.54167,     0.52897,      0.5155,     0.51341,     0.49931,     0.48945,     0.48527,     0.48227,     0.47098,     0.46337,     0.45962,     0.43991,      0.4275,\n",
              "            0.42435,     0.41971,     0.41018,     0.39468,     0.38595,     0.36649,     0.35099,     0.34376,     0.32561,     0.31775,     0.31565,     0.29875,     0.28606,     0.27196,     0.25927,     0.25499,      0.2451,     0.23963,     0.23655,     0.23044,     0.22378,     0.21985,     0.21803,\n",
              "            0.21235,     0.19545,     0.19117,     0.18409,     0.18107,     0.17273,     0.16845,     0.16558,      0.1627,     0.15422,     0.14713,     0.14286,     0.13577,     0.13377,     0.13233,     0.12855,     0.12665,      0.1242,     0.12133,     0.11896,       0.118,      0.1141,     0.10983,\n",
              "            0.10695,     0.10533,     0.10059,    0.099629,    0.098216,    0.094439,    0.092505,    0.088293,    0.086855,    0.085282,    0.081876,    0.078335,    0.076897,    0.072378,    0.066916,    0.066341,    0.065537,    0.064099,    0.062209,    0.058312,    0.057593,    0.054141,       0.053,\n",
              "           0.052281,    0.049166,    0.048739,    0.048379,     0.04802,    0.047674,    0.047505,    0.047336,    0.047166,    0.046997,    0.046828,    0.046659,     0.04649,    0.046321,    0.046182,    0.046051,     0.04592,     0.04579,    0.045659,    0.045528,    0.045397,    0.045267,    0.045136,\n",
              "           0.045005,    0.044876,    0.044784,    0.044691,    0.044598,    0.044505,    0.044413,     0.04432,    0.044227,    0.044134,    0.044042,    0.043949,    0.043856,    0.043763,    0.043671,    0.043578,    0.043485,    0.040818,    0.037943,    0.035067,     0.03079,    0.026512,    0.024441,\n",
              "           0.022164,    0.016484,   0.0094007,   0.0060678,   0.0051201,   0.0044013,   0.0036825,   0.0029637,           0,           0,           0,           0,           0,           0,           0,           0,           0,           0,           0,           0,           0,           0,           0,\n",
              "                  0,           0,           0,           0,           0,           0,           0,           0,           0,           0,           0,           0,           0,           0,           0,           0,           0,           0,           0,           0,           0,           0,           0,\n",
              "                  0,           0,           0,           0,           0,           0,           0,           0,           0,           0,           0]]), 'Confidence', 'Recall']]\n",
              "fitness: 0.7269080489370991\n",
              "keys: ['metrics/precision(B)', 'metrics/recall(B)', 'metrics/mAP50(B)', 'metrics/mAP50-95(B)']\n",
              "maps: array([    0.69841])\n",
              "names: {0: 'sheep'}\n",
              "plot: True\n",
              "results_dict: {'metrics/precision(B)': 0.9536558074184718, 'metrics/recall(B)': 0.9524031013146202, 'metrics/mAP50(B)': 0.9833874408583522, 'metrics/mAP50-95(B)': 0.6984103387236266, 'fitness': 0.7269080489370991}\n",
              "save_dir: PosixPath('pretrained/augmented_epoch20')\n",
              "speed: {'preprocess': 0.27026388754693026, 'inference': 9.632610179510218, 'loss': 0.0008542630360741498, 'postprocess': 2.8323571168070547}\n",
              "task: 'detect'"
            ]
          },
          "metadata": {},
          "execution_count": 6
        }
      ]
    },
    {
      "cell_type": "code",
      "source": [
        "#validation\n",
        "model.val(data='/content/dataset/data.yaml')"
      ],
      "metadata": {
        "id": "hsZiSfJJslCd",
        "colab": {
          "base_uri": "https://localhost:8080/"
        },
        "outputId": "09ebc27d-8f0e-4315-9351-c49d0ef3f6a4"
      },
      "execution_count": 7,
      "outputs": [
        {
          "output_type": "stream",
          "name": "stdout",
          "text": [
            "Ultralytics 8.3.40 🚀 Python-3.10.12 torch-2.5.1+cu121 CUDA:0 (Tesla T4, 15102MiB)\n",
            "Model summary (fused): 218 layers, 25,840,339 parameters, 0 gradients, 78.7 GFLOPs\n"
          ]
        },
        {
          "output_type": "stream",
          "name": "stderr",
          "text": [
            "\u001b[34m\u001b[1mval: \u001b[0mScanning /content/dataset/valid/labels.cache... 283 images, 0 backgrounds, 0 corrupt: 100%|██████████| 283/283 [00:00<?, ?it/s]\n",
            "                 Class     Images  Instances      Box(P          R      mAP50  mAP50-95): 100%|██████████| 18/18 [00:08<00:00,  2.24it/s]\n"
          ]
        },
        {
          "output_type": "stream",
          "name": "stdout",
          "text": [
            "                   all        283        713      0.952      0.951      0.983      0.698\n",
            "Speed: 0.3ms preprocess, 21.3ms inference, 0.0ms loss, 1.6ms postprocess per image\n",
            "Results saved to \u001b[1mpretrained/augmented_epoch202\u001b[0m\n"
          ]
        },
        {
          "output_type": "execute_result",
          "data": {
            "text/plain": [
              "ultralytics.utils.metrics.DetMetrics object with attributes:\n",
              "\n",
              "ap_class_index: array([0])\n",
              "box: ultralytics.utils.metrics.Metric object\n",
              "confusion_matrix: <ultralytics.utils.metrics.ConfusionMatrix object at 0x783a346d8040>\n",
              "curves: ['Precision-Recall(B)', 'F1-Confidence(B)', 'Precision-Confidence(B)', 'Recall-Confidence(B)']\n",
              "curves_results: [[array([          0,    0.001001,    0.002002,    0.003003,    0.004004,    0.005005,    0.006006,    0.007007,    0.008008,    0.009009,     0.01001,    0.011011,    0.012012,    0.013013,    0.014014,    0.015015,    0.016016,    0.017017,    0.018018,    0.019019,     0.02002,    0.021021,    0.022022,    0.023023,\n",
              "          0.024024,    0.025025,    0.026026,    0.027027,    0.028028,    0.029029,     0.03003,    0.031031,    0.032032,    0.033033,    0.034034,    0.035035,    0.036036,    0.037037,    0.038038,    0.039039,     0.04004,    0.041041,    0.042042,    0.043043,    0.044044,    0.045045,    0.046046,    0.047047,\n",
              "          0.048048,    0.049049,     0.05005,    0.051051,    0.052052,    0.053053,    0.054054,    0.055055,    0.056056,    0.057057,    0.058058,    0.059059,     0.06006,    0.061061,    0.062062,    0.063063,    0.064064,    0.065065,    0.066066,    0.067067,    0.068068,    0.069069,     0.07007,    0.071071,\n",
              "          0.072072,    0.073073,    0.074074,    0.075075,    0.076076,    0.077077,    0.078078,    0.079079,     0.08008,    0.081081,    0.082082,    0.083083,    0.084084,    0.085085,    0.086086,    0.087087,    0.088088,    0.089089,     0.09009,    0.091091,    0.092092,    0.093093,    0.094094,    0.095095,\n",
              "          0.096096,    0.097097,    0.098098,    0.099099,      0.1001,      0.1011,      0.1021,      0.1031,      0.1041,     0.10511,     0.10611,     0.10711,     0.10811,     0.10911,     0.11011,     0.11111,     0.11211,     0.11311,     0.11411,     0.11512,     0.11612,     0.11712,     0.11812,     0.11912,\n",
              "           0.12012,     0.12112,     0.12212,     0.12312,     0.12412,     0.12513,     0.12613,     0.12713,     0.12813,     0.12913,     0.13013,     0.13113,     0.13213,     0.13313,     0.13413,     0.13514,     0.13614,     0.13714,     0.13814,     0.13914,     0.14014,     0.14114,     0.14214,     0.14314,\n",
              "           0.14414,     0.14515,     0.14615,     0.14715,     0.14815,     0.14915,     0.15015,     0.15115,     0.15215,     0.15315,     0.15415,     0.15516,     0.15616,     0.15716,     0.15816,     0.15916,     0.16016,     0.16116,     0.16216,     0.16316,     0.16416,     0.16517,     0.16617,     0.16717,\n",
              "           0.16817,     0.16917,     0.17017,     0.17117,     0.17217,     0.17317,     0.17417,     0.17518,     0.17618,     0.17718,     0.17818,     0.17918,     0.18018,     0.18118,     0.18218,     0.18318,     0.18418,     0.18519,     0.18619,     0.18719,     0.18819,     0.18919,     0.19019,     0.19119,\n",
              "           0.19219,     0.19319,     0.19419,      0.1952,      0.1962,      0.1972,      0.1982,      0.1992,      0.2002,      0.2012,      0.2022,      0.2032,      0.2042,     0.20521,     0.20621,     0.20721,     0.20821,     0.20921,     0.21021,     0.21121,     0.21221,     0.21321,     0.21421,     0.21522,\n",
              "           0.21622,     0.21722,     0.21822,     0.21922,     0.22022,     0.22122,     0.22222,     0.22322,     0.22422,     0.22523,     0.22623,     0.22723,     0.22823,     0.22923,     0.23023,     0.23123,     0.23223,     0.23323,     0.23423,     0.23524,     0.23624,     0.23724,     0.23824,     0.23924,\n",
              "           0.24024,     0.24124,     0.24224,     0.24324,     0.24424,     0.24525,     0.24625,     0.24725,     0.24825,     0.24925,     0.25025,     0.25125,     0.25225,     0.25325,     0.25425,     0.25526,     0.25626,     0.25726,     0.25826,     0.25926,     0.26026,     0.26126,     0.26226,     0.26326,\n",
              "           0.26426,     0.26527,     0.26627,     0.26727,     0.26827,     0.26927,     0.27027,     0.27127,     0.27227,     0.27327,     0.27427,     0.27528,     0.27628,     0.27728,     0.27828,     0.27928,     0.28028,     0.28128,     0.28228,     0.28328,     0.28428,     0.28529,     0.28629,     0.28729,\n",
              "           0.28829,     0.28929,     0.29029,     0.29129,     0.29229,     0.29329,     0.29429,      0.2953,      0.2963,      0.2973,      0.2983,      0.2993,      0.3003,      0.3013,      0.3023,      0.3033,      0.3043,     0.30531,     0.30631,     0.30731,     0.30831,     0.30931,     0.31031,     0.31131,\n",
              "           0.31231,     0.31331,     0.31431,     0.31532,     0.31632,     0.31732,     0.31832,     0.31932,     0.32032,     0.32132,     0.32232,     0.32332,     0.32432,     0.32533,     0.32633,     0.32733,     0.32833,     0.32933,     0.33033,     0.33133,     0.33233,     0.33333,     0.33433,     0.33534,\n",
              "           0.33634,     0.33734,     0.33834,     0.33934,     0.34034,     0.34134,     0.34234,     0.34334,     0.34434,     0.34535,     0.34635,     0.34735,     0.34835,     0.34935,     0.35035,     0.35135,     0.35235,     0.35335,     0.35435,     0.35536,     0.35636,     0.35736,     0.35836,     0.35936,\n",
              "           0.36036,     0.36136,     0.36236,     0.36336,     0.36436,     0.36537,     0.36637,     0.36737,     0.36837,     0.36937,     0.37037,     0.37137,     0.37237,     0.37337,     0.37437,     0.37538,     0.37638,     0.37738,     0.37838,     0.37938,     0.38038,     0.38138,     0.38238,     0.38338,\n",
              "           0.38438,     0.38539,     0.38639,     0.38739,     0.38839,     0.38939,     0.39039,     0.39139,     0.39239,     0.39339,     0.39439,      0.3954,      0.3964,      0.3974,      0.3984,      0.3994,      0.4004,      0.4014,      0.4024,      0.4034,      0.4044,     0.40541,     0.40641,     0.40741,\n",
              "           0.40841,     0.40941,     0.41041,     0.41141,     0.41241,     0.41341,     0.41441,     0.41542,     0.41642,     0.41742,     0.41842,     0.41942,     0.42042,     0.42142,     0.42242,     0.42342,     0.42442,     0.42543,     0.42643,     0.42743,     0.42843,     0.42943,     0.43043,     0.43143,\n",
              "           0.43243,     0.43343,     0.43443,     0.43544,     0.43644,     0.43744,     0.43844,     0.43944,     0.44044,     0.44144,     0.44244,     0.44344,     0.44444,     0.44545,     0.44645,     0.44745,     0.44845,     0.44945,     0.45045,     0.45145,     0.45245,     0.45345,     0.45445,     0.45546,\n",
              "           0.45646,     0.45746,     0.45846,     0.45946,     0.46046,     0.46146,     0.46246,     0.46346,     0.46446,     0.46547,     0.46647,     0.46747,     0.46847,     0.46947,     0.47047,     0.47147,     0.47247,     0.47347,     0.47447,     0.47548,     0.47648,     0.47748,     0.47848,     0.47948,\n",
              "           0.48048,     0.48148,     0.48248,     0.48348,     0.48448,     0.48549,     0.48649,     0.48749,     0.48849,     0.48949,     0.49049,     0.49149,     0.49249,     0.49349,     0.49449,      0.4955,      0.4965,      0.4975,      0.4985,      0.4995,      0.5005,      0.5015,      0.5025,      0.5035,\n",
              "            0.5045,     0.50551,     0.50651,     0.50751,     0.50851,     0.50951,     0.51051,     0.51151,     0.51251,     0.51351,     0.51451,     0.51552,     0.51652,     0.51752,     0.51852,     0.51952,     0.52052,     0.52152,     0.52252,     0.52352,     0.52452,     0.52553,     0.52653,     0.52753,\n",
              "           0.52853,     0.52953,     0.53053,     0.53153,     0.53253,     0.53353,     0.53453,     0.53554,     0.53654,     0.53754,     0.53854,     0.53954,     0.54054,     0.54154,     0.54254,     0.54354,     0.54454,     0.54555,     0.54655,     0.54755,     0.54855,     0.54955,     0.55055,     0.55155,\n",
              "           0.55255,     0.55355,     0.55455,     0.55556,     0.55656,     0.55756,     0.55856,     0.55956,     0.56056,     0.56156,     0.56256,     0.56356,     0.56456,     0.56557,     0.56657,     0.56757,     0.56857,     0.56957,     0.57057,     0.57157,     0.57257,     0.57357,     0.57457,     0.57558,\n",
              "           0.57658,     0.57758,     0.57858,     0.57958,     0.58058,     0.58158,     0.58258,     0.58358,     0.58458,     0.58559,     0.58659,     0.58759,     0.58859,     0.58959,     0.59059,     0.59159,     0.59259,     0.59359,     0.59459,      0.5956,      0.5966,      0.5976,      0.5986,      0.5996,\n",
              "            0.6006,      0.6016,      0.6026,      0.6036,      0.6046,     0.60561,     0.60661,     0.60761,     0.60861,     0.60961,     0.61061,     0.61161,     0.61261,     0.61361,     0.61461,     0.61562,     0.61662,     0.61762,     0.61862,     0.61962,     0.62062,     0.62162,     0.62262,     0.62362,\n",
              "           0.62462,     0.62563,     0.62663,     0.62763,     0.62863,     0.62963,     0.63063,     0.63163,     0.63263,     0.63363,     0.63463,     0.63564,     0.63664,     0.63764,     0.63864,     0.63964,     0.64064,     0.64164,     0.64264,     0.64364,     0.64464,     0.64565,     0.64665,     0.64765,\n",
              "           0.64865,     0.64965,     0.65065,     0.65165,     0.65265,     0.65365,     0.65465,     0.65566,     0.65666,     0.65766,     0.65866,     0.65966,     0.66066,     0.66166,     0.66266,     0.66366,     0.66466,     0.66567,     0.66667,     0.66767,     0.66867,     0.66967,     0.67067,     0.67167,\n",
              "           0.67267,     0.67367,     0.67467,     0.67568,     0.67668,     0.67768,     0.67868,     0.67968,     0.68068,     0.68168,     0.68268,     0.68368,     0.68468,     0.68569,     0.68669,     0.68769,     0.68869,     0.68969,     0.69069,     0.69169,     0.69269,     0.69369,     0.69469,      0.6957,\n",
              "            0.6967,      0.6977,      0.6987,      0.6997,      0.7007,      0.7017,      0.7027,      0.7037,      0.7047,     0.70571,     0.70671,     0.70771,     0.70871,     0.70971,     0.71071,     0.71171,     0.71271,     0.71371,     0.71471,     0.71572,     0.71672,     0.71772,     0.71872,     0.71972,\n",
              "           0.72072,     0.72172,     0.72272,     0.72372,     0.72472,     0.72573,     0.72673,     0.72773,     0.72873,     0.72973,     0.73073,     0.73173,     0.73273,     0.73373,     0.73473,     0.73574,     0.73674,     0.73774,     0.73874,     0.73974,     0.74074,     0.74174,     0.74274,     0.74374,\n",
              "           0.74474,     0.74575,     0.74675,     0.74775,     0.74875,     0.74975,     0.75075,     0.75175,     0.75275,     0.75375,     0.75475,     0.75576,     0.75676,     0.75776,     0.75876,     0.75976,     0.76076,     0.76176,     0.76276,     0.76376,     0.76476,     0.76577,     0.76677,     0.76777,\n",
              "           0.76877,     0.76977,     0.77077,     0.77177,     0.77277,     0.77377,     0.77477,     0.77578,     0.77678,     0.77778,     0.77878,     0.77978,     0.78078,     0.78178,     0.78278,     0.78378,     0.78478,     0.78579,     0.78679,     0.78779,     0.78879,     0.78979,     0.79079,     0.79179,\n",
              "           0.79279,     0.79379,     0.79479,      0.7958,      0.7968,      0.7978,      0.7988,      0.7998,      0.8008,      0.8018,      0.8028,      0.8038,      0.8048,     0.80581,     0.80681,     0.80781,     0.80881,     0.80981,     0.81081,     0.81181,     0.81281,     0.81381,     0.81481,     0.81582,\n",
              "           0.81682,     0.81782,     0.81882,     0.81982,     0.82082,     0.82182,     0.82282,     0.82382,     0.82482,     0.82583,     0.82683,     0.82783,     0.82883,     0.82983,     0.83083,     0.83183,     0.83283,     0.83383,     0.83483,     0.83584,     0.83684,     0.83784,     0.83884,     0.83984,\n",
              "           0.84084,     0.84184,     0.84284,     0.84384,     0.84484,     0.84585,     0.84685,     0.84785,     0.84885,     0.84985,     0.85085,     0.85185,     0.85285,     0.85385,     0.85485,     0.85586,     0.85686,     0.85786,     0.85886,     0.85986,     0.86086,     0.86186,     0.86286,     0.86386,\n",
              "           0.86486,     0.86587,     0.86687,     0.86787,     0.86887,     0.86987,     0.87087,     0.87187,     0.87287,     0.87387,     0.87487,     0.87588,     0.87688,     0.87788,     0.87888,     0.87988,     0.88088,     0.88188,     0.88288,     0.88388,     0.88488,     0.88589,     0.88689,     0.88789,\n",
              "           0.88889,     0.88989,     0.89089,     0.89189,     0.89289,     0.89389,     0.89489,      0.8959,      0.8969,      0.8979,      0.8989,      0.8999,      0.9009,      0.9019,      0.9029,      0.9039,      0.9049,     0.90591,     0.90691,     0.90791,     0.90891,     0.90991,     0.91091,     0.91191,\n",
              "           0.91291,     0.91391,     0.91491,     0.91592,     0.91692,     0.91792,     0.91892,     0.91992,     0.92092,     0.92192,     0.92292,     0.92392,     0.92492,     0.92593,     0.92693,     0.92793,     0.92893,     0.92993,     0.93093,     0.93193,     0.93293,     0.93393,     0.93493,     0.93594,\n",
              "           0.93694,     0.93794,     0.93894,     0.93994,     0.94094,     0.94194,     0.94294,     0.94394,     0.94494,     0.94595,     0.94695,     0.94795,     0.94895,     0.94995,     0.95095,     0.95195,     0.95295,     0.95395,     0.95495,     0.95596,     0.95696,     0.95796,     0.95896,     0.95996,\n",
              "           0.96096,     0.96196,     0.96296,     0.96396,     0.96496,     0.96597,     0.96697,     0.96797,     0.96897,     0.96997,     0.97097,     0.97197,     0.97297,     0.97397,     0.97497,     0.97598,     0.97698,     0.97798,     0.97898,     0.97998,     0.98098,     0.98198,     0.98298,     0.98398,\n",
              "           0.98498,     0.98599,     0.98699,     0.98799,     0.98899,     0.98999,     0.99099,     0.99199,     0.99299,     0.99399,     0.99499,       0.996,       0.997,       0.998,       0.999,           1]), array([[          1,           1,           1,           1,           1,           1,           1,           1,           1,           1,           1,           1,           1,           1,           1,           1,           1,           1,           1,           1,           1,           1,           1,\n",
              "                  1,           1,           1,           1,           1,           1,           1,           1,           1,           1,           1,           1,           1,           1,           1,           1,           1,           1,           1,           1,           1,           1,           1,\n",
              "                  1,           1,           1,           1,           1,           1,           1,           1,           1,           1,           1,           1,           1,           1,           1,           1,           1,           1,           1,           1,           1,           1,           1,\n",
              "                  1,           1,           1,           1,           1,           1,           1,           1,           1,           1,           1,           1,           1,           1,           1,           1,           1,           1,           1,           1,           1,           1,           1,\n",
              "                  1,           1,           1,           1,           1,           1,           1,           1,           1,           1,           1,           1,           1,           1,           1,           1,           1,           1,           1,           1,           1,           1,           1,\n",
              "                  1,           1,           1,           1,           1,           1,           1,           1,           1,           1,           1,           1,           1,           1,           1,           1,           1,           1,           1,           1,           1,           1,           1,\n",
              "                  1,           1,           1,           1,           1,           1,           1,           1,           1,           1,           1,           1,           1,           1,           1,           1,           1,           1,           1,           1,           1,           1,           1,\n",
              "                  1,           1,           1,           1,           1,           1,           1,           1,           1,           1,           1,           1,           1,           1,           1,           1,           1,           1,           1,           1,           1,           1,           1,\n",
              "                  1,           1,           1,           1,           1,           1,           1,           1,           1,           1,           1,           1,           1,           1,           1,           1,           1,           1,           1,           1,           1,           1,           1,\n",
              "                  1,           1,           1,           1,           1,           1,           1,           1,           1,           1,           1,           1,           1,           1,           1,           1,           1,           1,           1,           1,           1,           1,           1,\n",
              "                  1,           1,           1,           1,           1,           1,           1,           1,           1,           1,           1,           1,           1,           1,           1,           1,           1,           1,           1,           1,           1,           1,           1,\n",
              "                  1,           1,           1,           1,           1,           1,           1,           1,           1,           1,           1,           1,           1,           1,           1,           1,           1,           1,           1,           1,           1,           1,           1,\n",
              "                  1,           1,           1,           1,           1,           1,           1,           1,           1,           1,           1,           1,           1,           1,           1,           1,           1,           1,           1,           1,           1,           1,           1,\n",
              "                  1,           1,           1,           1,           1,           1,           1,           1,           1,           1,           1,           1,           1,           1,           1,           1,           1,           1,           1,           1,           1,           1,           1,\n",
              "                  1,           1,           1,           1,           1,           1,           1,           1,           1,           1,           1,           1,           1,           1,           1,           1,           1,           1,           1,           1,           1,           1,           1,\n",
              "                  1,           1,           1,           1,           1,           1,           1,           1,           1,           1,           1,           1,           1,           1,           1,           1,           1,           1,           1,           1,           1,           1,           1,\n",
              "                  1,           1,           1,           1,           1,           1,           1,           1,           1,           1,           1,           1,           1,           1,           1,           1,           1,           1,           1,           1,           1,           1,           1,\n",
              "                  1,           1,           1,           1,           1,           1,           1,           1,           1,           1,           1,           1,           1,           1,           1,           1,           1,     0.99713,     0.99713,     0.99713,     0.99713,     0.99713,     0.99713,\n",
              "            0.99713,     0.99713,     0.99713,     0.99713,     0.99713,     0.99713,     0.99713,     0.99713,     0.99713,     0.99713,     0.99713,     0.99713,     0.99713,     0.99713,     0.99713,     0.99713,     0.99713,     0.99713,     0.99713,     0.99713,     0.99713,     0.99713,     0.99713,\n",
              "            0.99713,     0.99713,     0.99713,     0.99713,     0.99713,     0.99713,     0.99713,     0.99713,     0.99713,     0.99713,     0.99713,     0.99713,     0.99713,     0.99713,     0.99713,     0.99713,     0.99713,     0.99713,     0.99713,     0.99713,     0.99713,     0.99713,     0.99713,\n",
              "            0.99713,     0.99713,     0.99713,     0.99713,     0.99713,     0.99713,     0.99713,     0.99713,     0.99713,     0.99713,     0.99713,     0.99713,     0.99713,     0.99713,     0.99713,     0.99713,     0.99713,     0.99713,     0.99713,     0.99713,     0.99713,     0.99713,     0.99713,\n",
              "            0.99713,     0.99713,     0.99713,     0.99713,     0.99517,     0.99517,     0.99517,     0.99517,     0.99517,     0.99517,     0.99517,     0.99517,     0.99517,     0.99517,     0.99517,     0.99517,     0.99517,     0.99517,     0.99517,     0.99517,     0.99517,     0.99517,     0.99517,\n",
              "            0.99517,     0.99517,     0.99517,     0.99517,     0.99517,     0.99517,     0.99517,     0.99517,     0.99517,     0.99517,     0.99517,     0.99517,     0.99517,     0.99517,     0.99517,     0.99517,     0.99517,     0.99517,     0.99517,     0.99517,     0.99517,     0.99517,     0.99517,\n",
              "            0.99517,     0.99517,     0.99517,     0.99517,     0.99517,     0.99517,     0.99517,     0.99517,     0.99517,     0.99517,     0.99517,     0.99517,     0.99517,     0.99517,     0.99517,     0.99517,     0.99517,     0.99517,     0.99517,     0.99517,     0.99517,     0.99517,     0.99517,\n",
              "            0.99517,     0.99517,     0.99517,     0.99517,     0.99517,     0.99517,     0.99517,     0.99517,     0.99517,     0.99517,     0.99517,     0.99517,     0.99517,     0.99517,     0.99517,     0.99517,     0.99517,     0.99517,     0.99517,     0.99517,     0.99517,     0.99517,     0.99517,\n",
              "            0.99517,     0.99517,     0.99517,     0.99342,     0.99342,     0.99342,     0.99342,     0.99342,     0.99342,     0.99342,     0.99342,     0.99342,     0.99342,     0.99342,     0.99342,     0.99342,     0.99342,     0.99342,     0.99342,     0.99342,     0.99342,     0.99342,     0.99342,\n",
              "            0.99342,     0.99342,     0.99342,     0.99342,     0.99342,     0.99342,     0.99342,     0.99342,     0.99342,     0.99342,     0.99342,     0.99342,     0.99342,     0.99342,     0.99342,     0.99342,     0.99342,     0.99342,     0.99342,     0.99342,     0.99342,     0.99342,     0.99342,\n",
              "            0.99342,     0.99342,     0.99342,     0.99342,     0.99342,     0.99342,     0.99342,     0.99342,     0.99342,     0.99342,     0.99342,     0.99342,     0.99342,     0.99342,     0.99323,     0.99323,     0.99323,     0.99323,     0.99323,     0.99323,     0.99323,     0.99323,     0.99323,\n",
              "            0.99323,     0.99323,     0.99323,     0.99323,     0.99323,     0.99323,     0.99323,     0.99323,     0.99323,     0.99323,     0.99323,     0.99323,     0.99323,     0.99323,     0.99323,     0.99323,     0.99323,     0.99323,     0.99323,     0.99323,     0.99323,     0.99323,     0.99323,\n",
              "            0.99323,     0.99323,     0.99323,     0.99323,     0.99323,     0.99323,     0.99323,     0.99323,     0.99323,     0.99323,     0.99323,     0.99323,     0.99323,     0.99323,     0.99323,     0.99323,     0.99323,     0.99323,     0.99323,     0.99323,     0.99323,     0.99323,     0.99323,\n",
              "            0.99323,     0.99323,     0.99323,     0.99323,     0.99323,     0.99323,     0.99323,     0.99323,     0.99323,     0.99323,     0.99323,     0.99323,     0.99323,     0.99323,     0.99323,     0.99323,     0.99323,     0.99323,     0.99323,     0.99323,     0.99323,     0.99323,     0.99323,\n",
              "            0.99323,     0.99323,     0.99323,     0.99323,     0.99323,     0.99323,     0.99323,     0.99323,     0.99323,     0.99323,     0.99323,     0.99323,     0.99323,     0.99323,     0.99323,     0.99323,     0.99323,     0.99323,     0.99323,     0.99323,     0.99323,     0.99323,     0.99323,\n",
              "            0.99323,     0.99323,     0.99323,     0.99323,     0.99323,     0.99323,     0.99323,     0.99323,     0.99323,     0.99323,     0.99323,     0.99323,     0.99323,     0.99323,     0.99323,     0.99323,     0.99323,     0.99323,     0.99323,     0.99323,     0.99323,     0.99323,     0.99323,\n",
              "            0.99323,     0.99323,     0.99323,     0.99323,     0.99323,     0.99323,     0.99323,     0.99323,     0.99323,     0.99323,     0.99323,     0.99323,     0.99323,     0.99323,     0.99323,     0.99323,     0.99323,     0.99323,     0.99323,     0.99323,     0.99323,     0.99323,     0.99323,\n",
              "            0.99323,     0.99323,     0.99323,     0.99323,     0.99323,     0.99323,     0.99323,     0.99323,     0.99323,     0.99323,     0.99323,     0.99323,     0.99323,     0.99323,     0.99323,     0.99323,     0.99323,     0.99323,     0.99323,     0.99323,     0.99323,     0.99323,     0.99323,\n",
              "            0.99323,     0.99323,     0.99323,     0.99323,     0.99323,     0.99323,     0.99323,     0.99323,     0.99323,     0.99323,     0.99323,     0.99323,     0.99323,     0.99323,     0.99323,     0.99323,     0.99323,     0.99323,     0.99204,     0.99204,     0.99204,     0.99204,     0.99204,\n",
              "            0.99204,     0.99204,     0.99204,     0.99204,     0.99204,     0.99204,     0.99204,     0.99204,     0.99204,     0.99204,     0.99204,     0.99204,     0.99204,     0.99204,     0.99204,     0.99204,     0.99204,     0.99204,     0.99204,     0.99204,     0.99204,     0.99204,     0.99204,\n",
              "            0.99204,     0.99204,     0.99204,     0.99204,     0.99204,     0.99204,     0.99204,     0.99204,     0.99204,     0.99204,     0.99204,     0.99204,     0.99204,     0.99204,     0.99204,     0.99204,     0.99204,     0.99204,     0.99204,     0.99204,     0.99204,     0.99204,     0.99057,\n",
              "            0.99057,     0.99057,     0.99057,     0.99057,     0.99057,     0.99057,     0.99057,     0.99057,     0.99057,     0.98915,     0.98915,     0.98915,     0.98915,     0.98915,     0.98915,     0.98915,     0.98915,     0.98915,     0.98915,     0.98915,     0.98769,     0.98769,     0.98769,\n",
              "            0.98769,     0.98769,     0.98769,     0.98622,     0.98622,     0.98622,     0.98478,     0.98478,     0.98478,     0.98478,     0.98338,     0.98338,     0.98338,     0.98338,     0.98338,     0.98338,     0.98198,     0.98198,     0.98198,     0.98198,     0.97907,     0.97046,     0.97046,\n",
              "            0.97046,     0.96907,     0.96769,     0.96769,     0.96633,     0.96517,     0.96517,     0.96517,     0.96517,     0.96517,     0.96517,     0.96517,     0.96387,     0.96387,     0.96387,     0.96254,        0.96,        0.96,        0.96,        0.96,        0.96,        0.96,     0.95733,\n",
              "            0.95603,     0.95603,     0.95474,     0.95359,     0.95359,     0.95359,     0.95359,     0.95231,     0.95231,     0.95105,     0.94583,     0.94583,     0.93434,     0.93434,     0.91444,     0.91444,     0.91212,     0.90621,     0.90621,     0.90289,     0.90289,     0.90183,     0.90183,\n",
              "            0.90078,      0.8987,      0.8987,      0.8987,     0.89535,     0.89433,     0.89433,     0.88535,     0.85399,     0.85399,     0.84383,       0.843,     0.83433,     0.83433,     0.83433,     0.82374,     0.82374,     0.82105,     0.78547,     0.68549,     0.68549,     0.63686,     0.63205,\n",
              "            0.63205,     0.63125,     0.39928,     0.34937,     0.29946,     0.24955,     0.19964,     0.14973,    0.099821,    0.049911,           0]]), 'Recall', 'Precision'], [array([          0,    0.001001,    0.002002,    0.003003,    0.004004,    0.005005,    0.006006,    0.007007,    0.008008,    0.009009,     0.01001,    0.011011,    0.012012,    0.013013,    0.014014,    0.015015,    0.016016,    0.017017,    0.018018,    0.019019,     0.02002,    0.021021,    0.022022,    0.023023,\n",
              "          0.024024,    0.025025,    0.026026,    0.027027,    0.028028,    0.029029,     0.03003,    0.031031,    0.032032,    0.033033,    0.034034,    0.035035,    0.036036,    0.037037,    0.038038,    0.039039,     0.04004,    0.041041,    0.042042,    0.043043,    0.044044,    0.045045,    0.046046,    0.047047,\n",
              "          0.048048,    0.049049,     0.05005,    0.051051,    0.052052,    0.053053,    0.054054,    0.055055,    0.056056,    0.057057,    0.058058,    0.059059,     0.06006,    0.061061,    0.062062,    0.063063,    0.064064,    0.065065,    0.066066,    0.067067,    0.068068,    0.069069,     0.07007,    0.071071,\n",
              "          0.072072,    0.073073,    0.074074,    0.075075,    0.076076,    0.077077,    0.078078,    0.079079,     0.08008,    0.081081,    0.082082,    0.083083,    0.084084,    0.085085,    0.086086,    0.087087,    0.088088,    0.089089,     0.09009,    0.091091,    0.092092,    0.093093,    0.094094,    0.095095,\n",
              "          0.096096,    0.097097,    0.098098,    0.099099,      0.1001,      0.1011,      0.1021,      0.1031,      0.1041,     0.10511,     0.10611,     0.10711,     0.10811,     0.10911,     0.11011,     0.11111,     0.11211,     0.11311,     0.11411,     0.11512,     0.11612,     0.11712,     0.11812,     0.11912,\n",
              "           0.12012,     0.12112,     0.12212,     0.12312,     0.12412,     0.12513,     0.12613,     0.12713,     0.12813,     0.12913,     0.13013,     0.13113,     0.13213,     0.13313,     0.13413,     0.13514,     0.13614,     0.13714,     0.13814,     0.13914,     0.14014,     0.14114,     0.14214,     0.14314,\n",
              "           0.14414,     0.14515,     0.14615,     0.14715,     0.14815,     0.14915,     0.15015,     0.15115,     0.15215,     0.15315,     0.15415,     0.15516,     0.15616,     0.15716,     0.15816,     0.15916,     0.16016,     0.16116,     0.16216,     0.16316,     0.16416,     0.16517,     0.16617,     0.16717,\n",
              "           0.16817,     0.16917,     0.17017,     0.17117,     0.17217,     0.17317,     0.17417,     0.17518,     0.17618,     0.17718,     0.17818,     0.17918,     0.18018,     0.18118,     0.18218,     0.18318,     0.18418,     0.18519,     0.18619,     0.18719,     0.18819,     0.18919,     0.19019,     0.19119,\n",
              "           0.19219,     0.19319,     0.19419,      0.1952,      0.1962,      0.1972,      0.1982,      0.1992,      0.2002,      0.2012,      0.2022,      0.2032,      0.2042,     0.20521,     0.20621,     0.20721,     0.20821,     0.20921,     0.21021,     0.21121,     0.21221,     0.21321,     0.21421,     0.21522,\n",
              "           0.21622,     0.21722,     0.21822,     0.21922,     0.22022,     0.22122,     0.22222,     0.22322,     0.22422,     0.22523,     0.22623,     0.22723,     0.22823,     0.22923,     0.23023,     0.23123,     0.23223,     0.23323,     0.23423,     0.23524,     0.23624,     0.23724,     0.23824,     0.23924,\n",
              "           0.24024,     0.24124,     0.24224,     0.24324,     0.24424,     0.24525,     0.24625,     0.24725,     0.24825,     0.24925,     0.25025,     0.25125,     0.25225,     0.25325,     0.25425,     0.25526,     0.25626,     0.25726,     0.25826,     0.25926,     0.26026,     0.26126,     0.26226,     0.26326,\n",
              "           0.26426,     0.26527,     0.26627,     0.26727,     0.26827,     0.26927,     0.27027,     0.27127,     0.27227,     0.27327,     0.27427,     0.27528,     0.27628,     0.27728,     0.27828,     0.27928,     0.28028,     0.28128,     0.28228,     0.28328,     0.28428,     0.28529,     0.28629,     0.28729,\n",
              "           0.28829,     0.28929,     0.29029,     0.29129,     0.29229,     0.29329,     0.29429,      0.2953,      0.2963,      0.2973,      0.2983,      0.2993,      0.3003,      0.3013,      0.3023,      0.3033,      0.3043,     0.30531,     0.30631,     0.30731,     0.30831,     0.30931,     0.31031,     0.31131,\n",
              "           0.31231,     0.31331,     0.31431,     0.31532,     0.31632,     0.31732,     0.31832,     0.31932,     0.32032,     0.32132,     0.32232,     0.32332,     0.32432,     0.32533,     0.32633,     0.32733,     0.32833,     0.32933,     0.33033,     0.33133,     0.33233,     0.33333,     0.33433,     0.33534,\n",
              "           0.33634,     0.33734,     0.33834,     0.33934,     0.34034,     0.34134,     0.34234,     0.34334,     0.34434,     0.34535,     0.34635,     0.34735,     0.34835,     0.34935,     0.35035,     0.35135,     0.35235,     0.35335,     0.35435,     0.35536,     0.35636,     0.35736,     0.35836,     0.35936,\n",
              "           0.36036,     0.36136,     0.36236,     0.36336,     0.36436,     0.36537,     0.36637,     0.36737,     0.36837,     0.36937,     0.37037,     0.37137,     0.37237,     0.37337,     0.37437,     0.37538,     0.37638,     0.37738,     0.37838,     0.37938,     0.38038,     0.38138,     0.38238,     0.38338,\n",
              "           0.38438,     0.38539,     0.38639,     0.38739,     0.38839,     0.38939,     0.39039,     0.39139,     0.39239,     0.39339,     0.39439,      0.3954,      0.3964,      0.3974,      0.3984,      0.3994,      0.4004,      0.4014,      0.4024,      0.4034,      0.4044,     0.40541,     0.40641,     0.40741,\n",
              "           0.40841,     0.40941,     0.41041,     0.41141,     0.41241,     0.41341,     0.41441,     0.41542,     0.41642,     0.41742,     0.41842,     0.41942,     0.42042,     0.42142,     0.42242,     0.42342,     0.42442,     0.42543,     0.42643,     0.42743,     0.42843,     0.42943,     0.43043,     0.43143,\n",
              "           0.43243,     0.43343,     0.43443,     0.43544,     0.43644,     0.43744,     0.43844,     0.43944,     0.44044,     0.44144,     0.44244,     0.44344,     0.44444,     0.44545,     0.44645,     0.44745,     0.44845,     0.44945,     0.45045,     0.45145,     0.45245,     0.45345,     0.45445,     0.45546,\n",
              "           0.45646,     0.45746,     0.45846,     0.45946,     0.46046,     0.46146,     0.46246,     0.46346,     0.46446,     0.46547,     0.46647,     0.46747,     0.46847,     0.46947,     0.47047,     0.47147,     0.47247,     0.47347,     0.47447,     0.47548,     0.47648,     0.47748,     0.47848,     0.47948,\n",
              "           0.48048,     0.48148,     0.48248,     0.48348,     0.48448,     0.48549,     0.48649,     0.48749,     0.48849,     0.48949,     0.49049,     0.49149,     0.49249,     0.49349,     0.49449,      0.4955,      0.4965,      0.4975,      0.4985,      0.4995,      0.5005,      0.5015,      0.5025,      0.5035,\n",
              "            0.5045,     0.50551,     0.50651,     0.50751,     0.50851,     0.50951,     0.51051,     0.51151,     0.51251,     0.51351,     0.51451,     0.51552,     0.51652,     0.51752,     0.51852,     0.51952,     0.52052,     0.52152,     0.52252,     0.52352,     0.52452,     0.52553,     0.52653,     0.52753,\n",
              "           0.52853,     0.52953,     0.53053,     0.53153,     0.53253,     0.53353,     0.53453,     0.53554,     0.53654,     0.53754,     0.53854,     0.53954,     0.54054,     0.54154,     0.54254,     0.54354,     0.54454,     0.54555,     0.54655,     0.54755,     0.54855,     0.54955,     0.55055,     0.55155,\n",
              "           0.55255,     0.55355,     0.55455,     0.55556,     0.55656,     0.55756,     0.55856,     0.55956,     0.56056,     0.56156,     0.56256,     0.56356,     0.56456,     0.56557,     0.56657,     0.56757,     0.56857,     0.56957,     0.57057,     0.57157,     0.57257,     0.57357,     0.57457,     0.57558,\n",
              "           0.57658,     0.57758,     0.57858,     0.57958,     0.58058,     0.58158,     0.58258,     0.58358,     0.58458,     0.58559,     0.58659,     0.58759,     0.58859,     0.58959,     0.59059,     0.59159,     0.59259,     0.59359,     0.59459,      0.5956,      0.5966,      0.5976,      0.5986,      0.5996,\n",
              "            0.6006,      0.6016,      0.6026,      0.6036,      0.6046,     0.60561,     0.60661,     0.60761,     0.60861,     0.60961,     0.61061,     0.61161,     0.61261,     0.61361,     0.61461,     0.61562,     0.61662,     0.61762,     0.61862,     0.61962,     0.62062,     0.62162,     0.62262,     0.62362,\n",
              "           0.62462,     0.62563,     0.62663,     0.62763,     0.62863,     0.62963,     0.63063,     0.63163,     0.63263,     0.63363,     0.63463,     0.63564,     0.63664,     0.63764,     0.63864,     0.63964,     0.64064,     0.64164,     0.64264,     0.64364,     0.64464,     0.64565,     0.64665,     0.64765,\n",
              "           0.64865,     0.64965,     0.65065,     0.65165,     0.65265,     0.65365,     0.65465,     0.65566,     0.65666,     0.65766,     0.65866,     0.65966,     0.66066,     0.66166,     0.66266,     0.66366,     0.66466,     0.66567,     0.66667,     0.66767,     0.66867,     0.66967,     0.67067,     0.67167,\n",
              "           0.67267,     0.67367,     0.67467,     0.67568,     0.67668,     0.67768,     0.67868,     0.67968,     0.68068,     0.68168,     0.68268,     0.68368,     0.68468,     0.68569,     0.68669,     0.68769,     0.68869,     0.68969,     0.69069,     0.69169,     0.69269,     0.69369,     0.69469,      0.6957,\n",
              "            0.6967,      0.6977,      0.6987,      0.6997,      0.7007,      0.7017,      0.7027,      0.7037,      0.7047,     0.70571,     0.70671,     0.70771,     0.70871,     0.70971,     0.71071,     0.71171,     0.71271,     0.71371,     0.71471,     0.71572,     0.71672,     0.71772,     0.71872,     0.71972,\n",
              "           0.72072,     0.72172,     0.72272,     0.72372,     0.72472,     0.72573,     0.72673,     0.72773,     0.72873,     0.72973,     0.73073,     0.73173,     0.73273,     0.73373,     0.73473,     0.73574,     0.73674,     0.73774,     0.73874,     0.73974,     0.74074,     0.74174,     0.74274,     0.74374,\n",
              "           0.74474,     0.74575,     0.74675,     0.74775,     0.74875,     0.74975,     0.75075,     0.75175,     0.75275,     0.75375,     0.75475,     0.75576,     0.75676,     0.75776,     0.75876,     0.75976,     0.76076,     0.76176,     0.76276,     0.76376,     0.76476,     0.76577,     0.76677,     0.76777,\n",
              "           0.76877,     0.76977,     0.77077,     0.77177,     0.77277,     0.77377,     0.77477,     0.77578,     0.77678,     0.77778,     0.77878,     0.77978,     0.78078,     0.78178,     0.78278,     0.78378,     0.78478,     0.78579,     0.78679,     0.78779,     0.78879,     0.78979,     0.79079,     0.79179,\n",
              "           0.79279,     0.79379,     0.79479,      0.7958,      0.7968,      0.7978,      0.7988,      0.7998,      0.8008,      0.8018,      0.8028,      0.8038,      0.8048,     0.80581,     0.80681,     0.80781,     0.80881,     0.80981,     0.81081,     0.81181,     0.81281,     0.81381,     0.81481,     0.81582,\n",
              "           0.81682,     0.81782,     0.81882,     0.81982,     0.82082,     0.82182,     0.82282,     0.82382,     0.82482,     0.82583,     0.82683,     0.82783,     0.82883,     0.82983,     0.83083,     0.83183,     0.83283,     0.83383,     0.83483,     0.83584,     0.83684,     0.83784,     0.83884,     0.83984,\n",
              "           0.84084,     0.84184,     0.84284,     0.84384,     0.84484,     0.84585,     0.84685,     0.84785,     0.84885,     0.84985,     0.85085,     0.85185,     0.85285,     0.85385,     0.85485,     0.85586,     0.85686,     0.85786,     0.85886,     0.85986,     0.86086,     0.86186,     0.86286,     0.86386,\n",
              "           0.86486,     0.86587,     0.86687,     0.86787,     0.86887,     0.86987,     0.87087,     0.87187,     0.87287,     0.87387,     0.87487,     0.87588,     0.87688,     0.87788,     0.87888,     0.87988,     0.88088,     0.88188,     0.88288,     0.88388,     0.88488,     0.88589,     0.88689,     0.88789,\n",
              "           0.88889,     0.88989,     0.89089,     0.89189,     0.89289,     0.89389,     0.89489,      0.8959,      0.8969,      0.8979,      0.8989,      0.8999,      0.9009,      0.9019,      0.9029,      0.9039,      0.9049,     0.90591,     0.90691,     0.90791,     0.90891,     0.90991,     0.91091,     0.91191,\n",
              "           0.91291,     0.91391,     0.91491,     0.91592,     0.91692,     0.91792,     0.91892,     0.91992,     0.92092,     0.92192,     0.92292,     0.92392,     0.92492,     0.92593,     0.92693,     0.92793,     0.92893,     0.92993,     0.93093,     0.93193,     0.93293,     0.93393,     0.93493,     0.93594,\n",
              "           0.93694,     0.93794,     0.93894,     0.93994,     0.94094,     0.94194,     0.94294,     0.94394,     0.94494,     0.94595,     0.94695,     0.94795,     0.94895,     0.94995,     0.95095,     0.95195,     0.95295,     0.95395,     0.95495,     0.95596,     0.95696,     0.95796,     0.95896,     0.95996,\n",
              "           0.96096,     0.96196,     0.96296,     0.96396,     0.96496,     0.96597,     0.96697,     0.96797,     0.96897,     0.96997,     0.97097,     0.97197,     0.97297,     0.97397,     0.97497,     0.97598,     0.97698,     0.97798,     0.97898,     0.97998,     0.98098,     0.98198,     0.98298,     0.98398,\n",
              "           0.98498,     0.98599,     0.98699,     0.98799,     0.98899,     0.98999,     0.99099,     0.99199,     0.99299,     0.99399,     0.99499,       0.996,       0.997,       0.998,       0.999,           1]), array([[    0.58966,     0.58966,     0.67852,     0.72123,     0.74636,     0.76948,     0.78319,     0.79322,     0.80156,     0.80869,     0.81755,     0.82416,     0.83119,     0.83665,     0.83889,     0.84239,     0.84682,       0.852,     0.85423,     0.85643,     0.85796,     0.85965,     0.86241,\n",
              "             0.8658,     0.86633,     0.87005,     0.87341,     0.87494,     0.87717,     0.87861,     0.87914,     0.88335,     0.88585,      0.8893,     0.89023,     0.89203,     0.89392,      0.8946,     0.89537,     0.89621,     0.89636,     0.89671,     0.89716,     0.89842,     0.90009,     0.90061,\n",
              "            0.90115,     0.90141,     0.90147,     0.90181,     0.90221,     0.90314,     0.90363,     0.90421,      0.9045,     0.90478,     0.90506,     0.90543,     0.90563,     0.90534,     0.90626,     0.90679,     0.90864,     0.90912,     0.91016,     0.91071,     0.91112,     0.91241,     0.91404,\n",
              "            0.91443,      0.9156,     0.91614,     0.91648,     0.91674,     0.91775,      0.9185,     0.91882,     0.91896,     0.91911,     0.91926,     0.91966,      0.9201,     0.92044,     0.92131,     0.92189,     0.92292,     0.92422,     0.92449,     0.92477,     0.92555,     0.92608,     0.92668,\n",
              "            0.92677,     0.92686,     0.92695,     0.92704,     0.92714,     0.92723,     0.92743,      0.9278,     0.92766,     0.92733,     0.92758,     0.92787,     0.92796,     0.92806,     0.92815,     0.92824,     0.92833,     0.92843,     0.92889,     0.92974,     0.92994,     0.93014,     0.93031,\n",
              "            0.93038,     0.93045,     0.93051,     0.93058,     0.93065,     0.93072,     0.93078,     0.93085,     0.93092,     0.93103,     0.93115,     0.93126,     0.93138,     0.93149,      0.9316,      0.9317,     0.93181,     0.93191,     0.93201,     0.93212,     0.93173,     0.93193,     0.93139,\n",
              "            0.93153,     0.93166,      0.9318,     0.93194,     0.93203,     0.93211,     0.93218,     0.93226,     0.93233,      0.9324,     0.93248,     0.93255,     0.93265,      0.9329,     0.93315,     0.93302,     0.93264,     0.93214,     0.93208,     0.93249,     0.93262,     0.93274,     0.93287,\n",
              "              0.933,     0.93287,     0.93247,      0.9326,     0.93297,     0.93288,      0.9328,     0.93272,     0.93264,     0.93256,     0.93249,     0.93241,     0.93233,     0.93225,     0.93217,     0.93164,     0.93149,     0.93158,     0.93166,     0.93175,     0.93183,     0.93192,     0.93201,\n",
              "            0.93215,     0.93241,     0.93267,      0.9328,     0.93291,     0.93303,     0.93314,     0.93325,     0.93329,     0.93313,     0.93297,     0.93282,     0.93266,     0.93275,     0.93296,     0.93317,     0.93328,     0.93333,     0.93339,     0.93344,     0.93349,     0.93355,      0.9336,\n",
              "            0.93366,     0.93371,     0.93376,     0.93382,     0.93387,     0.93396,     0.93406,     0.93415,     0.93425,     0.93435,     0.93444,     0.93461,     0.93501,     0.93543,     0.93517,     0.93535,     0.93554,     0.93573,     0.93592,     0.93612,     0.93631,     0.93605,      0.9357,\n",
              "            0.93626,     0.93636,     0.93647,     0.93658,     0.93668,     0.93679,     0.93689,     0.93708,     0.93727,     0.93746,     0.93766,     0.93787,     0.93808,     0.93829,     0.93849,      0.9387,     0.93888,     0.93901,     0.93914,     0.93927,     0.93941,     0.93983,     0.94022,\n",
              "            0.94037,     0.94053,     0.94068,     0.94088,     0.94114,     0.94141,     0.94211,     0.94217,     0.94223,     0.94229,     0.94235,     0.94241,     0.94247,     0.94253,     0.94259,     0.94265,     0.94271,      0.9428,     0.94291,     0.94301,     0.94312,     0.94323,     0.94333,\n",
              "            0.94403,     0.94406,     0.94408,      0.9441,     0.94413,     0.94415,     0.94417,      0.9442,     0.94422,     0.94424,     0.94427,     0.94429,     0.94432,     0.94434,     0.94436,     0.94439,     0.94441,     0.94443,     0.94446,     0.94448,      0.9445,     0.94453,     0.94455,\n",
              "            0.94457,      0.9446,     0.94462,     0.94464,     0.94467,     0.94488,      0.9452,     0.94541,     0.94555,     0.94569,     0.94583,     0.94598,     0.94566,     0.94531,     0.94502,     0.94474,     0.94484,     0.94553,     0.94621,     0.94655,     0.94663,     0.94671,     0.94679,\n",
              "            0.94687,     0.94695,     0.94703,     0.94712,     0.94733,     0.94765,     0.94798,     0.94832,     0.94849,     0.94853,     0.94857,      0.9486,     0.94864,     0.94868,     0.94872,     0.94876,      0.9488,     0.94883,     0.94887,     0.94891,     0.94895,     0.94899,     0.94902,\n",
              "            0.94906,      0.9491,     0.94916,     0.94931,     0.94945,      0.9496,     0.94974,     0.95002,     0.95037,     0.95032,     0.95014,     0.94996,     0.94978,     0.94979,      0.9499,        0.95,     0.95011,     0.95021,     0.95032,     0.95087,     0.95108,     0.95111,     0.95114,\n",
              "            0.95117,      0.9512,     0.95123,     0.95126,      0.9513,     0.95133,     0.95136,     0.95139,     0.95142,     0.95145,     0.95148,     0.95152,     0.95155,     0.95158,     0.95161,     0.95164,     0.95167,      0.9517,     0.95175,     0.95179,     0.95184,     0.95189,     0.95194,\n",
              "            0.95199,     0.95204,     0.95208,     0.95213,     0.95218,     0.95223,     0.95228,     0.95232,     0.95237,     0.95232,     0.95224,     0.95217,     0.95209,     0.95202,     0.95194,     0.95187,     0.95179,     0.95172,      0.9517,     0.95228,     0.95215,     0.95202,     0.95189,\n",
              "            0.95176,     0.95163,     0.95223,     0.95217,     0.95212,     0.95207,     0.95201,     0.95196,     0.95191,     0.95185,      0.9518,     0.95175,     0.95169,     0.95164,     0.95159,     0.95153,     0.95076,     0.95072,     0.95068,     0.95064,      0.9506,     0.95057,     0.95053,\n",
              "            0.95049,     0.95045,     0.95041,     0.95038,     0.95034,      0.9503,     0.95026,     0.95023,     0.95019,     0.95015,     0.95011,     0.95007,     0.95004,     0.95025,     0.95047,     0.95069,     0.95051,      0.9503,      0.9501,     0.94998,     0.95004,     0.95009,     0.95014,\n",
              "            0.95019,     0.95024,      0.9503,     0.95035,      0.9504,     0.95045,     0.95051,     0.95056,     0.95061,     0.95061,     0.95056,      0.9505,     0.95045,      0.9504,     0.95035,      0.9503,     0.95024,     0.95019,     0.95014,     0.95009,     0.95004,     0.94998,     0.94993,\n",
              "            0.94996,     0.95022,     0.95048,      0.9505,     0.95041,     0.95032,     0.95023,     0.95014,     0.95005,     0.94996,     0.94987,     0.94998,     0.95031,     0.95054,     0.95064,     0.95075,     0.95085,     0.95095,     0.95106,     0.95116,     0.95111,     0.95105,     0.95099,\n",
              "            0.95093,     0.95087,     0.95081,     0.95075,     0.95069,     0.95062,     0.95056,      0.9505,     0.95044,     0.95038,     0.95032,     0.95025,     0.95019,     0.95013,     0.95006,        0.95,     0.94993,     0.94987,     0.94981,     0.94974,     0.94968,     0.94951,     0.94935,\n",
              "            0.94918,     0.94901,     0.94882,      0.9486,     0.94839,     0.94822,     0.94848,     0.94875,     0.94907,     0.94943,     0.94884,     0.94894,     0.94903,     0.94912,     0.94921,     0.94931,      0.9494,     0.94885,     0.94866,     0.94861,     0.94855,      0.9485,     0.94844,\n",
              "            0.94838,     0.94833,     0.94827,     0.94822,     0.94816,      0.9481,     0.94805,     0.94799,     0.94819,     0.94858,     0.94782,     0.94765,     0.94748,     0.94731,     0.94709,     0.94637,     0.94627,     0.94618,     0.94609,     0.94599,      0.9459,     0.94581,     0.94572,\n",
              "            0.94559,     0.94529,     0.94499,     0.94508,     0.94539,     0.94519,     0.94498,     0.94534,     0.94516,      0.9454,     0.94534,     0.94528,     0.94522,     0.94516,      0.9451,     0.94504,     0.94498,     0.94493,     0.94487,     0.94481,     0.94475,     0.94469,     0.94474,\n",
              "            0.94518,     0.94519,     0.94499,     0.94479,     0.94459,     0.94439,     0.94418,     0.94397,     0.94387,     0.94425,     0.94458,     0.94481,     0.94505,      0.9453,     0.94556,     0.94582,     0.94605,     0.94628,     0.94651,      0.9467,     0.94689,     0.94707,     0.94723,\n",
              "             0.9473,     0.94737,     0.94744,     0.94751,     0.94759,     0.94766,     0.94773,      0.9478,     0.94787,     0.94771,     0.94733,     0.94738,     0.94786,     0.94833,     0.94828,     0.94789,      0.9463,     0.94652,     0.94674,     0.94679,     0.94633,     0.94452,     0.94433,\n",
              "            0.94413,     0.94393,     0.94405,     0.94443,      0.9443,     0.94401,     0.94366,     0.94303,     0.94248,     0.94284,     0.94256,     0.94229,     0.94204,     0.94183,     0.94163,     0.94143,     0.94168,     0.94166,     0.94106,     0.94076,     0.94048,     0.94041,     0.94034,\n",
              "            0.94027,     0.94021,     0.94014,     0.94007,        0.94,     0.93993,     0.93987,      0.9398,     0.93973,     0.93893,     0.93907,     0.93922,     0.93936,     0.93951,     0.93935,     0.93851,      0.9379,      0.9373,     0.93697,     0.93666,     0.93637,     0.93611,     0.93585,\n",
              "            0.93507,     0.93398,     0.93336,     0.93395,      0.9331,     0.93287,     0.93264,     0.93237,     0.93188,     0.93151,     0.93125,     0.93099,     0.93079,     0.93064,      0.9305,     0.93035,     0.93021,     0.93006,     0.92928,     0.92895,     0.92772,     0.92665,     0.92653,\n",
              "             0.9264,     0.92627,     0.92614,     0.92601,     0.92344,     0.92282,     0.92179,     0.92157,     0.92135,     0.92113,     0.92027,     0.91941,      0.9192,     0.91899,     0.91878,     0.91814,     0.91705,     0.91672,     0.91639,      0.9157,      0.9144,     0.91398,     0.91348,\n",
              "            0.91293,     0.91275,     0.91256,     0.91238,     0.91219,     0.91041,     0.90841,     0.90768,     0.90725,      0.9041,      0.9021,     0.89964,     0.89898,     0.89844,     0.89822,       0.898,     0.89778,     0.89439,     0.89327,     0.89281,     0.88893,     0.88683,     0.88469,\n",
              "            0.88387,      0.8831,     0.88144,     0.88025,     0.87804,     0.87537,     0.87424,     0.87377,     0.87105,     0.86896,     0.86693,     0.86613,      0.8656,     0.86466,     0.86253,     0.86076,     0.85982,     0.85682,     0.85535,     0.85288,     0.85099,     0.84578,     0.84163,\n",
              "            0.83981,     0.83764,     0.83531,     0.83209,     0.83057,     0.82903,     0.82855,     0.82621,     0.82407,     0.81984,     0.81707,      0.8159,     0.81066,     0.80926,     0.80747,     0.80459,     0.80131,     0.79426,     0.78956,     0.78709,     0.78628,     0.78436,     0.78077,\n",
              "            0.77377,     0.76762,     0.76259,     0.75643,     0.75327,     0.74967,     0.74491,      0.7324,     0.72445,     0.70774,     0.69975,     0.69062,     0.68072,       0.673,     0.66187,     0.65614,     0.65406,     0.64942,     0.64198,     0.63243,        0.63,     0.61203,     0.60037,\n",
              "             0.5927,     0.59071,     0.58256,     0.56688,     0.55264,      0.5325,     0.51786,     0.51093,     0.49242,     0.48252,     0.47416,     0.45794,     0.44513,     0.42837,     0.41677,     0.40868,     0.39737,     0.38817,     0.37673,     0.37356,     0.36302,     0.36015,     0.35635,\n",
              "            0.34541,      0.3265,     0.31818,     0.31049,     0.30218,     0.29206,     0.28749,     0.28276,     0.27796,     0.26856,     0.25987,     0.25134,     0.23913,       0.236,      0.2334,     0.22684,     0.22376,     0.22116,     0.21748,     0.21266,     0.21108,     0.20502,     0.19851,\n",
              "            0.19245,     0.18767,     0.18332,     0.18144,       0.174,     0.17267,     0.16952,     0.16431,     0.15923,     0.15702,     0.15174,     0.14504,     0.14303,     0.13245,     0.12557,     0.12469,      0.1238,     0.12041,      0.1172,      0.1105,     0.10882,     0.10269,     0.10047,\n",
              "           0.099198,    0.093407,    0.092815,    0.092223,     0.09163,    0.091037,    0.090724,    0.090413,    0.090102,    0.089792,    0.089481,     0.08917,    0.088859,    0.088548,     0.08829,    0.088049,    0.087809,    0.087568,    0.087328,    0.087087,    0.086846,    0.086605,    0.086364,\n",
              "           0.086123,     0.08589,    0.085723,    0.085556,    0.085389,    0.085223,    0.085056,    0.084889,    0.084722,    0.084555,    0.084388,    0.084222,    0.084055,    0.083888,    0.083721,    0.083553,    0.083386,    0.078618,    0.072843,     0.06707,    0.059388,    0.051612,    0.047294,\n",
              "           0.043369,     0.03142,    0.017968,    0.011834,    0.010034,   0.0085826,   0.0072104,   0.0058495,           0,           0,           0,           0,           0,           0,           0,           0,           0,           0,           0,           0,           0,           0,           0,\n",
              "                  0,           0,           0,           0,           0,           0,           0,           0,           0,           0,           0,           0,           0,           0,           0,           0,           0,           0,           0,           0,           0,           0,           0,\n",
              "                  0,           0,           0,           0,           0,           0,           0,           0,           0,           0,           0]]), 'Confidence', 'F1'], [array([          0,    0.001001,    0.002002,    0.003003,    0.004004,    0.005005,    0.006006,    0.007007,    0.008008,    0.009009,     0.01001,    0.011011,    0.012012,    0.013013,    0.014014,    0.015015,    0.016016,    0.017017,    0.018018,    0.019019,     0.02002,    0.021021,    0.022022,    0.023023,\n",
              "          0.024024,    0.025025,    0.026026,    0.027027,    0.028028,    0.029029,     0.03003,    0.031031,    0.032032,    0.033033,    0.034034,    0.035035,    0.036036,    0.037037,    0.038038,    0.039039,     0.04004,    0.041041,    0.042042,    0.043043,    0.044044,    0.045045,    0.046046,    0.047047,\n",
              "          0.048048,    0.049049,     0.05005,    0.051051,    0.052052,    0.053053,    0.054054,    0.055055,    0.056056,    0.057057,    0.058058,    0.059059,     0.06006,    0.061061,    0.062062,    0.063063,    0.064064,    0.065065,    0.066066,    0.067067,    0.068068,    0.069069,     0.07007,    0.071071,\n",
              "          0.072072,    0.073073,    0.074074,    0.075075,    0.076076,    0.077077,    0.078078,    0.079079,     0.08008,    0.081081,    0.082082,    0.083083,    0.084084,    0.085085,    0.086086,    0.087087,    0.088088,    0.089089,     0.09009,    0.091091,    0.092092,    0.093093,    0.094094,    0.095095,\n",
              "          0.096096,    0.097097,    0.098098,    0.099099,      0.1001,      0.1011,      0.1021,      0.1031,      0.1041,     0.10511,     0.10611,     0.10711,     0.10811,     0.10911,     0.11011,     0.11111,     0.11211,     0.11311,     0.11411,     0.11512,     0.11612,     0.11712,     0.11812,     0.11912,\n",
              "           0.12012,     0.12112,     0.12212,     0.12312,     0.12412,     0.12513,     0.12613,     0.12713,     0.12813,     0.12913,     0.13013,     0.13113,     0.13213,     0.13313,     0.13413,     0.13514,     0.13614,     0.13714,     0.13814,     0.13914,     0.14014,     0.14114,     0.14214,     0.14314,\n",
              "           0.14414,     0.14515,     0.14615,     0.14715,     0.14815,     0.14915,     0.15015,     0.15115,     0.15215,     0.15315,     0.15415,     0.15516,     0.15616,     0.15716,     0.15816,     0.15916,     0.16016,     0.16116,     0.16216,     0.16316,     0.16416,     0.16517,     0.16617,     0.16717,\n",
              "           0.16817,     0.16917,     0.17017,     0.17117,     0.17217,     0.17317,     0.17417,     0.17518,     0.17618,     0.17718,     0.17818,     0.17918,     0.18018,     0.18118,     0.18218,     0.18318,     0.18418,     0.18519,     0.18619,     0.18719,     0.18819,     0.18919,     0.19019,     0.19119,\n",
              "           0.19219,     0.19319,     0.19419,      0.1952,      0.1962,      0.1972,      0.1982,      0.1992,      0.2002,      0.2012,      0.2022,      0.2032,      0.2042,     0.20521,     0.20621,     0.20721,     0.20821,     0.20921,     0.21021,     0.21121,     0.21221,     0.21321,     0.21421,     0.21522,\n",
              "           0.21622,     0.21722,     0.21822,     0.21922,     0.22022,     0.22122,     0.22222,     0.22322,     0.22422,     0.22523,     0.22623,     0.22723,     0.22823,     0.22923,     0.23023,     0.23123,     0.23223,     0.23323,     0.23423,     0.23524,     0.23624,     0.23724,     0.23824,     0.23924,\n",
              "           0.24024,     0.24124,     0.24224,     0.24324,     0.24424,     0.24525,     0.24625,     0.24725,     0.24825,     0.24925,     0.25025,     0.25125,     0.25225,     0.25325,     0.25425,     0.25526,     0.25626,     0.25726,     0.25826,     0.25926,     0.26026,     0.26126,     0.26226,     0.26326,\n",
              "           0.26426,     0.26527,     0.26627,     0.26727,     0.26827,     0.26927,     0.27027,     0.27127,     0.27227,     0.27327,     0.27427,     0.27528,     0.27628,     0.27728,     0.27828,     0.27928,     0.28028,     0.28128,     0.28228,     0.28328,     0.28428,     0.28529,     0.28629,     0.28729,\n",
              "           0.28829,     0.28929,     0.29029,     0.29129,     0.29229,     0.29329,     0.29429,      0.2953,      0.2963,      0.2973,      0.2983,      0.2993,      0.3003,      0.3013,      0.3023,      0.3033,      0.3043,     0.30531,     0.30631,     0.30731,     0.30831,     0.30931,     0.31031,     0.31131,\n",
              "           0.31231,     0.31331,     0.31431,     0.31532,     0.31632,     0.31732,     0.31832,     0.31932,     0.32032,     0.32132,     0.32232,     0.32332,     0.32432,     0.32533,     0.32633,     0.32733,     0.32833,     0.32933,     0.33033,     0.33133,     0.33233,     0.33333,     0.33433,     0.33534,\n",
              "           0.33634,     0.33734,     0.33834,     0.33934,     0.34034,     0.34134,     0.34234,     0.34334,     0.34434,     0.34535,     0.34635,     0.34735,     0.34835,     0.34935,     0.35035,     0.35135,     0.35235,     0.35335,     0.35435,     0.35536,     0.35636,     0.35736,     0.35836,     0.35936,\n",
              "           0.36036,     0.36136,     0.36236,     0.36336,     0.36436,     0.36537,     0.36637,     0.36737,     0.36837,     0.36937,     0.37037,     0.37137,     0.37237,     0.37337,     0.37437,     0.37538,     0.37638,     0.37738,     0.37838,     0.37938,     0.38038,     0.38138,     0.38238,     0.38338,\n",
              "           0.38438,     0.38539,     0.38639,     0.38739,     0.38839,     0.38939,     0.39039,     0.39139,     0.39239,     0.39339,     0.39439,      0.3954,      0.3964,      0.3974,      0.3984,      0.3994,      0.4004,      0.4014,      0.4024,      0.4034,      0.4044,     0.40541,     0.40641,     0.40741,\n",
              "           0.40841,     0.40941,     0.41041,     0.41141,     0.41241,     0.41341,     0.41441,     0.41542,     0.41642,     0.41742,     0.41842,     0.41942,     0.42042,     0.42142,     0.42242,     0.42342,     0.42442,     0.42543,     0.42643,     0.42743,     0.42843,     0.42943,     0.43043,     0.43143,\n",
              "           0.43243,     0.43343,     0.43443,     0.43544,     0.43644,     0.43744,     0.43844,     0.43944,     0.44044,     0.44144,     0.44244,     0.44344,     0.44444,     0.44545,     0.44645,     0.44745,     0.44845,     0.44945,     0.45045,     0.45145,     0.45245,     0.45345,     0.45445,     0.45546,\n",
              "           0.45646,     0.45746,     0.45846,     0.45946,     0.46046,     0.46146,     0.46246,     0.46346,     0.46446,     0.46547,     0.46647,     0.46747,     0.46847,     0.46947,     0.47047,     0.47147,     0.47247,     0.47347,     0.47447,     0.47548,     0.47648,     0.47748,     0.47848,     0.47948,\n",
              "           0.48048,     0.48148,     0.48248,     0.48348,     0.48448,     0.48549,     0.48649,     0.48749,     0.48849,     0.48949,     0.49049,     0.49149,     0.49249,     0.49349,     0.49449,      0.4955,      0.4965,      0.4975,      0.4985,      0.4995,      0.5005,      0.5015,      0.5025,      0.5035,\n",
              "            0.5045,     0.50551,     0.50651,     0.50751,     0.50851,     0.50951,     0.51051,     0.51151,     0.51251,     0.51351,     0.51451,     0.51552,     0.51652,     0.51752,     0.51852,     0.51952,     0.52052,     0.52152,     0.52252,     0.52352,     0.52452,     0.52553,     0.52653,     0.52753,\n",
              "           0.52853,     0.52953,     0.53053,     0.53153,     0.53253,     0.53353,     0.53453,     0.53554,     0.53654,     0.53754,     0.53854,     0.53954,     0.54054,     0.54154,     0.54254,     0.54354,     0.54454,     0.54555,     0.54655,     0.54755,     0.54855,     0.54955,     0.55055,     0.55155,\n",
              "           0.55255,     0.55355,     0.55455,     0.55556,     0.55656,     0.55756,     0.55856,     0.55956,     0.56056,     0.56156,     0.56256,     0.56356,     0.56456,     0.56557,     0.56657,     0.56757,     0.56857,     0.56957,     0.57057,     0.57157,     0.57257,     0.57357,     0.57457,     0.57558,\n",
              "           0.57658,     0.57758,     0.57858,     0.57958,     0.58058,     0.58158,     0.58258,     0.58358,     0.58458,     0.58559,     0.58659,     0.58759,     0.58859,     0.58959,     0.59059,     0.59159,     0.59259,     0.59359,     0.59459,      0.5956,      0.5966,      0.5976,      0.5986,      0.5996,\n",
              "            0.6006,      0.6016,      0.6026,      0.6036,      0.6046,     0.60561,     0.60661,     0.60761,     0.60861,     0.60961,     0.61061,     0.61161,     0.61261,     0.61361,     0.61461,     0.61562,     0.61662,     0.61762,     0.61862,     0.61962,     0.62062,     0.62162,     0.62262,     0.62362,\n",
              "           0.62462,     0.62563,     0.62663,     0.62763,     0.62863,     0.62963,     0.63063,     0.63163,     0.63263,     0.63363,     0.63463,     0.63564,     0.63664,     0.63764,     0.63864,     0.63964,     0.64064,     0.64164,     0.64264,     0.64364,     0.64464,     0.64565,     0.64665,     0.64765,\n",
              "           0.64865,     0.64965,     0.65065,     0.65165,     0.65265,     0.65365,     0.65465,     0.65566,     0.65666,     0.65766,     0.65866,     0.65966,     0.66066,     0.66166,     0.66266,     0.66366,     0.66466,     0.66567,     0.66667,     0.66767,     0.66867,     0.66967,     0.67067,     0.67167,\n",
              "           0.67267,     0.67367,     0.67467,     0.67568,     0.67668,     0.67768,     0.67868,     0.67968,     0.68068,     0.68168,     0.68268,     0.68368,     0.68468,     0.68569,     0.68669,     0.68769,     0.68869,     0.68969,     0.69069,     0.69169,     0.69269,     0.69369,     0.69469,      0.6957,\n",
              "            0.6967,      0.6977,      0.6987,      0.6997,      0.7007,      0.7017,      0.7027,      0.7037,      0.7047,     0.70571,     0.70671,     0.70771,     0.70871,     0.70971,     0.71071,     0.71171,     0.71271,     0.71371,     0.71471,     0.71572,     0.71672,     0.71772,     0.71872,     0.71972,\n",
              "           0.72072,     0.72172,     0.72272,     0.72372,     0.72472,     0.72573,     0.72673,     0.72773,     0.72873,     0.72973,     0.73073,     0.73173,     0.73273,     0.73373,     0.73473,     0.73574,     0.73674,     0.73774,     0.73874,     0.73974,     0.74074,     0.74174,     0.74274,     0.74374,\n",
              "           0.74474,     0.74575,     0.74675,     0.74775,     0.74875,     0.74975,     0.75075,     0.75175,     0.75275,     0.75375,     0.75475,     0.75576,     0.75676,     0.75776,     0.75876,     0.75976,     0.76076,     0.76176,     0.76276,     0.76376,     0.76476,     0.76577,     0.76677,     0.76777,\n",
              "           0.76877,     0.76977,     0.77077,     0.77177,     0.77277,     0.77377,     0.77477,     0.77578,     0.77678,     0.77778,     0.77878,     0.77978,     0.78078,     0.78178,     0.78278,     0.78378,     0.78478,     0.78579,     0.78679,     0.78779,     0.78879,     0.78979,     0.79079,     0.79179,\n",
              "           0.79279,     0.79379,     0.79479,      0.7958,      0.7968,      0.7978,      0.7988,      0.7998,      0.8008,      0.8018,      0.8028,      0.8038,      0.8048,     0.80581,     0.80681,     0.80781,     0.80881,     0.80981,     0.81081,     0.81181,     0.81281,     0.81381,     0.81481,     0.81582,\n",
              "           0.81682,     0.81782,     0.81882,     0.81982,     0.82082,     0.82182,     0.82282,     0.82382,     0.82482,     0.82583,     0.82683,     0.82783,     0.82883,     0.82983,     0.83083,     0.83183,     0.83283,     0.83383,     0.83483,     0.83584,     0.83684,     0.83784,     0.83884,     0.83984,\n",
              "           0.84084,     0.84184,     0.84284,     0.84384,     0.84484,     0.84585,     0.84685,     0.84785,     0.84885,     0.84985,     0.85085,     0.85185,     0.85285,     0.85385,     0.85485,     0.85586,     0.85686,     0.85786,     0.85886,     0.85986,     0.86086,     0.86186,     0.86286,     0.86386,\n",
              "           0.86486,     0.86587,     0.86687,     0.86787,     0.86887,     0.86987,     0.87087,     0.87187,     0.87287,     0.87387,     0.87487,     0.87588,     0.87688,     0.87788,     0.87888,     0.87988,     0.88088,     0.88188,     0.88288,     0.88388,     0.88488,     0.88589,     0.88689,     0.88789,\n",
              "           0.88889,     0.88989,     0.89089,     0.89189,     0.89289,     0.89389,     0.89489,      0.8959,      0.8969,      0.8979,      0.8989,      0.8999,      0.9009,      0.9019,      0.9029,      0.9039,      0.9049,     0.90591,     0.90691,     0.90791,     0.90891,     0.90991,     0.91091,     0.91191,\n",
              "           0.91291,     0.91391,     0.91491,     0.91592,     0.91692,     0.91792,     0.91892,     0.91992,     0.92092,     0.92192,     0.92292,     0.92392,     0.92492,     0.92593,     0.92693,     0.92793,     0.92893,     0.92993,     0.93093,     0.93193,     0.93293,     0.93393,     0.93493,     0.93594,\n",
              "           0.93694,     0.93794,     0.93894,     0.93994,     0.94094,     0.94194,     0.94294,     0.94394,     0.94494,     0.94595,     0.94695,     0.94795,     0.94895,     0.94995,     0.95095,     0.95195,     0.95295,     0.95395,     0.95495,     0.95596,     0.95696,     0.95796,     0.95896,     0.95996,\n",
              "           0.96096,     0.96196,     0.96296,     0.96396,     0.96496,     0.96597,     0.96697,     0.96797,     0.96897,     0.96997,     0.97097,     0.97197,     0.97297,     0.97397,     0.97497,     0.97598,     0.97698,     0.97798,     0.97898,     0.97998,     0.98098,     0.98198,     0.98298,     0.98398,\n",
              "           0.98498,     0.98599,     0.98699,     0.98799,     0.98899,     0.98999,     0.99099,     0.99199,     0.99299,     0.99399,     0.99499,       0.996,       0.997,       0.998,       0.999,           1]), array([[    0.41958,     0.41958,     0.51571,     0.56672,     0.59838,     0.62866,     0.64899,     0.66287,     0.67461,     0.68545,     0.69827,     0.70796,     0.71841,      0.7266,        0.73,     0.73531,     0.74209,     0.75008,     0.75354,     0.75697,     0.75937,     0.76201,     0.76636,\n",
              "            0.77174,     0.77259,     0.77852,     0.78391,     0.78728,      0.7909,     0.79324,      0.7941,       0.801,     0.80513,     0.81083,     0.81239,     0.81539,     0.81855,     0.81969,     0.82099,     0.82338,     0.82463,     0.82521,     0.82597,     0.82812,     0.83095,     0.83185,\n",
              "            0.83276,     0.83414,     0.83534,     0.83592,     0.83661,     0.83821,     0.83907,     0.84007,     0.84056,     0.84104,     0.84153,     0.84217,     0.84379,     0.84411,     0.84571,     0.84663,     0.84987,      0.8507,     0.85253,     0.85349,     0.85528,     0.85757,     0.86045,\n",
              "            0.86114,     0.86321,     0.86417,     0.86477,     0.86525,     0.86704,     0.86838,     0.86895,     0.86921,     0.86947,     0.86974,     0.87046,     0.87125,     0.87186,     0.87343,     0.87447,     0.87633,     0.87866,     0.87916,     0.87967,     0.88108,     0.88204,     0.88312,\n",
              "            0.88329,     0.88345,     0.88362,     0.88379,     0.88395,     0.88412,     0.88449,     0.88516,      0.8853,     0.88523,     0.88593,     0.88645,     0.88662,     0.88679,     0.88696,     0.88713,     0.88729,     0.88746,     0.88832,     0.88987,     0.89024,     0.89061,     0.89092,\n",
              "            0.89104,     0.89116,     0.89129,     0.89141,     0.89154,     0.89166,     0.89178,     0.89191,     0.89203,     0.89224,     0.89245,     0.89266,     0.89288,     0.89309,     0.89329,     0.89348,     0.89366,     0.89385,     0.89404,     0.89423,     0.89425,     0.89508,     0.89527,\n",
              "            0.89552,     0.89578,     0.89603,     0.89628,     0.89646,      0.8966,     0.89674,     0.89687,     0.89701,     0.89715,     0.89728,     0.89742,     0.89761,     0.89807,     0.89852,     0.89866,     0.89859,      0.8985,     0.89895,     0.89972,     0.89995,     0.90019,     0.90042,\n",
              "            0.90066,     0.90075,     0.90068,     0.90113,     0.90183,     0.90289,     0.90287,     0.90286,     0.90285,     0.90283,     0.90282,      0.9028,     0.90279,     0.90278,     0.90276,     0.90267,     0.90274,      0.9029,     0.90306,     0.90323,     0.90339,     0.90355,     0.90371,\n",
              "            0.90398,     0.90447,     0.90496,      0.9052,     0.90542,     0.90563,     0.90584,     0.90606,      0.9062,     0.90617,     0.90615,     0.90612,     0.90609,     0.90635,     0.90675,     0.90716,     0.90735,     0.90746,     0.90756,     0.90766,     0.90776,     0.90786,     0.90797,\n",
              "            0.90807,     0.90817,     0.90827,     0.90837,     0.90848,     0.90865,     0.90883,     0.90901,     0.90919,     0.90937,     0.90955,     0.90987,     0.91064,     0.91206,     0.91219,     0.91255,      0.9129,     0.91326,     0.91363,       0.914,     0.91438,     0.91439,     0.91434,\n",
              "            0.91555,     0.91575,     0.91596,     0.91616,     0.91636,     0.91656,     0.91677,     0.91712,     0.91748,     0.91784,     0.91823,     0.91863,     0.91904,     0.91944,     0.91983,     0.92023,     0.92057,     0.92083,     0.92108,     0.92134,     0.92159,     0.92241,     0.92316,\n",
              "            0.92345,     0.92375,     0.92405,     0.92444,     0.92494,     0.92545,     0.92682,     0.92693,     0.92704,     0.92716,     0.92727,     0.92739,      0.9275,     0.92762,     0.92773,     0.92785,     0.92796,     0.92815,     0.92835,     0.92856,     0.92877,     0.92897,     0.92918,\n",
              "            0.93054,     0.93059,     0.93063,     0.93068,     0.93072,     0.93077,     0.93081,     0.93086,      0.9309,     0.93095,       0.931,     0.93104,     0.93109,     0.93113,     0.93118,     0.93122,     0.93127,     0.93131,     0.93136,     0.93141,     0.93145,      0.9315,     0.93154,\n",
              "            0.93159,     0.93163,     0.93168,     0.93173,     0.93177,     0.93218,      0.9328,     0.93322,      0.9335,     0.93377,     0.93405,     0.93432,      0.9343,     0.93425,     0.93422,     0.93418,     0.93478,     0.93613,     0.93746,     0.93813,     0.93829,     0.93845,     0.93861,\n",
              "            0.93877,     0.93893,     0.93909,     0.93924,     0.93968,      0.9403,     0.94095,     0.94162,     0.94195,     0.94203,      0.9421,     0.94218,     0.94225,     0.94233,      0.9424,     0.94248,     0.94255,     0.94263,      0.9427,     0.94278,     0.94286,     0.94293,     0.94301,\n",
              "            0.94308,     0.94316,     0.94328,     0.94357,     0.94386,     0.94414,     0.94443,     0.94498,     0.94567,     0.94582,      0.9458,     0.94578,     0.94576,      0.9459,      0.9461,     0.94631,     0.94652,     0.94673,     0.94694,     0.94803,     0.94845,     0.94851,     0.94857,\n",
              "            0.94864,      0.9487,     0.94876,     0.94882,     0.94889,     0.94895,     0.94901,     0.94907,     0.94914,      0.9492,     0.94926,     0.94932,     0.94939,     0.94945,     0.94951,     0.94957,     0.94964,      0.9497,     0.94978,     0.94988,     0.94998,     0.95007,     0.95017,\n",
              "            0.95026,     0.95036,     0.95046,     0.95055,     0.95065,     0.95074,     0.95084,     0.95094,     0.95103,     0.95104,     0.95104,     0.95103,     0.95102,     0.95102,     0.95101,       0.951,     0.95099,     0.95099,     0.95109,     0.95231,      0.9523,     0.95229,     0.95228,\n",
              "            0.95226,     0.95225,     0.95358,     0.95358,     0.95358,     0.95357,     0.95357,     0.95356,     0.95356,     0.95355,     0.95355,     0.95354,     0.95354,     0.95353,     0.95353,     0.95352,     0.95345,     0.95345,     0.95345,     0.95344,     0.95344,     0.95344,     0.95343,\n",
              "            0.95343,     0.95343,     0.95342,     0.95342,     0.95342,     0.95341,     0.95341,     0.95341,      0.9534,      0.9534,      0.9534,     0.95339,     0.95339,     0.95383,     0.95427,     0.95472,     0.95472,      0.9547,     0.95469,     0.95471,     0.95482,     0.95492,     0.95503,\n",
              "            0.95513,     0.95524,     0.95534,     0.95545,     0.95556,     0.95566,     0.95577,     0.95587,     0.95598,     0.95603,     0.95602,     0.95602,     0.95601,     0.95601,       0.956,       0.956,       0.956,     0.95599,     0.95599,     0.95598,     0.95598,     0.95597,     0.95597,\n",
              "             0.9561,     0.95663,     0.95716,     0.95732,     0.95731,     0.95731,      0.9573,     0.95729,     0.95728,     0.95728,     0.95727,     0.95758,     0.95825,     0.95872,     0.95893,     0.95914,     0.95935,     0.95956,     0.95977,     0.95999,        0.96,     0.95999,     0.95999,\n",
              "            0.95998,     0.95998,     0.95997,     0.95997,     0.95996,     0.95996,     0.95995,     0.95995,     0.95994,     0.95994,     0.95993,     0.95993,     0.95992,     0.95992,     0.95991,     0.95991,      0.9599,      0.9599,      0.9599,     0.95989,     0.95989,     0.95987,     0.95986,\n",
              "            0.95985,     0.95983,     0.95982,      0.9598,     0.95979,     0.95982,     0.96037,     0.96092,     0.96157,     0.96232,     0.96259,     0.96278,     0.96297,     0.96316,     0.96335,     0.96354,     0.96373,     0.96383,     0.96382,     0.96381,     0.96381,     0.96381,      0.9638,\n",
              "             0.9638,     0.96379,     0.96379,     0.96379,     0.96378,     0.96378,     0.96377,     0.96377,     0.96423,     0.96504,     0.96511,      0.9651,     0.96509,     0.96508,     0.96506,     0.96501,     0.96501,       0.965,     0.96499,     0.96499,     0.96498,     0.96498,     0.96497,\n",
              "            0.96496,     0.96494,     0.96492,     0.96533,     0.96598,      0.9663,     0.96666,     0.96741,     0.96767,     0.96907,     0.96907,     0.96906,     0.96906,     0.96906,     0.96905,     0.96905,     0.96905,     0.96904,     0.96904,     0.96904,     0.96903,     0.96903,     0.96922,\n",
              "            0.97015,     0.97045,     0.97044,     0.97043,     0.97042,      0.9704,     0.97039,     0.97038,     0.97051,     0.97131,       0.972,      0.9725,       0.973,     0.97353,     0.97409,     0.97464,     0.97514,     0.97563,     0.97612,     0.97652,     0.97691,     0.97731,     0.97765,\n",
              "             0.9778,     0.97795,      0.9781,     0.97825,      0.9784,     0.97855,      0.9787,     0.97885,       0.979,     0.97907,     0.97905,     0.97955,     0.98059,      0.9816,     0.98197,     0.98196,     0.98206,     0.98254,     0.98303,     0.98338,     0.98336,     0.98331,      0.9833,\n",
              "            0.98329,     0.98329,     0.98374,     0.98458,     0.98477,     0.98476,     0.98475,     0.98473,     0.98472,     0.98622,     0.98621,      0.9862,     0.98619,     0.98619,     0.98618,     0.98618,      0.9869,     0.98768,     0.98767,     0.98766,     0.98765,     0.98765,     0.98765,\n",
              "            0.98765,     0.98765,     0.98765,     0.98764,     0.98764,     0.98764,     0.98764,     0.98764,     0.98764,     0.98762,     0.98794,     0.98826,     0.98858,      0.9889,     0.98914,     0.98912,     0.98911,      0.9891,     0.98909,     0.98908,     0.98908,     0.98907,     0.98907,\n",
              "            0.98905,     0.98903,     0.98906,     0.99039,     0.99055,     0.99054,     0.99054,     0.99053,     0.99053,     0.99052,     0.99051,     0.99051,     0.99051,      0.9905,      0.9905,      0.9905,     0.99049,     0.99049,     0.99048,     0.99157,     0.99202,       0.992,       0.992,\n",
              "            0.99199,     0.99199,     0.99199,     0.99199,     0.99195,     0.99194,     0.99192,     0.99192,     0.99191,     0.99191,      0.9919,     0.99188,     0.99188,     0.99187,     0.99187,     0.99186,     0.99184,     0.99184,     0.99183,     0.99182,      0.9918,     0.99179,     0.99179,\n",
              "            0.99178,     0.99177,     0.99177,     0.99177,     0.99176,     0.99173,      0.9917,     0.99169,     0.99168,     0.99163,      0.9916,     0.99161,     0.99321,     0.99321,      0.9932,      0.9932,      0.9932,     0.99315,     0.99314,     0.99313,     0.99308,     0.99305,     0.99302,\n",
              "              0.993,     0.99299,     0.99297,     0.99295,     0.99292,     0.99288,     0.99287,     0.99286,     0.99282,     0.99279,     0.99276,     0.99275,     0.99274,     0.99273,      0.9927,     0.99267,     0.99266,     0.99261,     0.99259,     0.99255,     0.99252,     0.99244,     0.99238,\n",
              "            0.99235,     0.99232,     0.99228,     0.99223,     0.99221,     0.99218,     0.99217,     0.99214,      0.9921,     0.99203,     0.99199,     0.99197,     0.99188,     0.99186,     0.99183,     0.99178,     0.99172,      0.9916,     0.99152,     0.99148,     0.99146,     0.99143,     0.99136,\n",
              "             0.9934,     0.99332,     0.99325,     0.99316,     0.99311,     0.99306,     0.99299,      0.9928,      0.9951,     0.99492,     0.99483,     0.99472,     0.99461,     0.99451,     0.99438,      0.9943,     0.99693,      0.9971,     0.99705,     0.99698,     0.99696,     0.99683,     0.99675,\n",
              "            0.99669,     0.99667,      0.9966,           1,           1,           1,           1,           1,           1,           1,           1,           1,           1,           1,           1,           1,           1,           1,           1,           1,           1,           1,           1,\n",
              "                  1,           1,           1,           1,           1,           1,           1,           1,           1,           1,           1,           1,           1,           1,           1,           1,           1,           1,           1,           1,           1,           1,           1,\n",
              "                  1,           1,           1,           1,           1,           1,           1,           1,           1,           1,           1,           1,           1,           1,           1,           1,           1,           1,           1,           1,           1,           1,           1,\n",
              "                  1,           1,           1,           1,           1,           1,           1,           1,           1,           1,           1,           1,           1,           1,           1,           1,           1,           1,           1,           1,           1,           1,           1,\n",
              "                  1,           1,           1,           1,           1,           1,           1,           1,           1,           1,           1,           1,           1,           1,           1,           1,           1,           1,           1,           1,           1,           1,           1,\n",
              "                  1,           1,           1,           1,           1,           1,           1,           1,           1,           1,           1,           1,           1,           1,           1,           1,           1,           1,           1,           1,           1,           1,           1,\n",
              "                  1,           1,           1,           1,           1,           1,           1,           1,           1,           1,           1,           1,           1,           1,           1,           1,           1,           1,           1,           1,           1,           1,           1,\n",
              "                  1,           1,           1,           1,           1,           1,           1,           1,           1,           1,           1]]), 'Confidence', 'Precision'], [array([          0,    0.001001,    0.002002,    0.003003,    0.004004,    0.005005,    0.006006,    0.007007,    0.008008,    0.009009,     0.01001,    0.011011,    0.012012,    0.013013,    0.014014,    0.015015,    0.016016,    0.017017,    0.018018,    0.019019,     0.02002,    0.021021,    0.022022,    0.023023,\n",
              "          0.024024,    0.025025,    0.026026,    0.027027,    0.028028,    0.029029,     0.03003,    0.031031,    0.032032,    0.033033,    0.034034,    0.035035,    0.036036,    0.037037,    0.038038,    0.039039,     0.04004,    0.041041,    0.042042,    0.043043,    0.044044,    0.045045,    0.046046,    0.047047,\n",
              "          0.048048,    0.049049,     0.05005,    0.051051,    0.052052,    0.053053,    0.054054,    0.055055,    0.056056,    0.057057,    0.058058,    0.059059,     0.06006,    0.061061,    0.062062,    0.063063,    0.064064,    0.065065,    0.066066,    0.067067,    0.068068,    0.069069,     0.07007,    0.071071,\n",
              "          0.072072,    0.073073,    0.074074,    0.075075,    0.076076,    0.077077,    0.078078,    0.079079,     0.08008,    0.081081,    0.082082,    0.083083,    0.084084,    0.085085,    0.086086,    0.087087,    0.088088,    0.089089,     0.09009,    0.091091,    0.092092,    0.093093,    0.094094,    0.095095,\n",
              "          0.096096,    0.097097,    0.098098,    0.099099,      0.1001,      0.1011,      0.1021,      0.1031,      0.1041,     0.10511,     0.10611,     0.10711,     0.10811,     0.10911,     0.11011,     0.11111,     0.11211,     0.11311,     0.11411,     0.11512,     0.11612,     0.11712,     0.11812,     0.11912,\n",
              "           0.12012,     0.12112,     0.12212,     0.12312,     0.12412,     0.12513,     0.12613,     0.12713,     0.12813,     0.12913,     0.13013,     0.13113,     0.13213,     0.13313,     0.13413,     0.13514,     0.13614,     0.13714,     0.13814,     0.13914,     0.14014,     0.14114,     0.14214,     0.14314,\n",
              "           0.14414,     0.14515,     0.14615,     0.14715,     0.14815,     0.14915,     0.15015,     0.15115,     0.15215,     0.15315,     0.15415,     0.15516,     0.15616,     0.15716,     0.15816,     0.15916,     0.16016,     0.16116,     0.16216,     0.16316,     0.16416,     0.16517,     0.16617,     0.16717,\n",
              "           0.16817,     0.16917,     0.17017,     0.17117,     0.17217,     0.17317,     0.17417,     0.17518,     0.17618,     0.17718,     0.17818,     0.17918,     0.18018,     0.18118,     0.18218,     0.18318,     0.18418,     0.18519,     0.18619,     0.18719,     0.18819,     0.18919,     0.19019,     0.19119,\n",
              "           0.19219,     0.19319,     0.19419,      0.1952,      0.1962,      0.1972,      0.1982,      0.1992,      0.2002,      0.2012,      0.2022,      0.2032,      0.2042,     0.20521,     0.20621,     0.20721,     0.20821,     0.20921,     0.21021,     0.21121,     0.21221,     0.21321,     0.21421,     0.21522,\n",
              "           0.21622,     0.21722,     0.21822,     0.21922,     0.22022,     0.22122,     0.22222,     0.22322,     0.22422,     0.22523,     0.22623,     0.22723,     0.22823,     0.22923,     0.23023,     0.23123,     0.23223,     0.23323,     0.23423,     0.23524,     0.23624,     0.23724,     0.23824,     0.23924,\n",
              "           0.24024,     0.24124,     0.24224,     0.24324,     0.24424,     0.24525,     0.24625,     0.24725,     0.24825,     0.24925,     0.25025,     0.25125,     0.25225,     0.25325,     0.25425,     0.25526,     0.25626,     0.25726,     0.25826,     0.25926,     0.26026,     0.26126,     0.26226,     0.26326,\n",
              "           0.26426,     0.26527,     0.26627,     0.26727,     0.26827,     0.26927,     0.27027,     0.27127,     0.27227,     0.27327,     0.27427,     0.27528,     0.27628,     0.27728,     0.27828,     0.27928,     0.28028,     0.28128,     0.28228,     0.28328,     0.28428,     0.28529,     0.28629,     0.28729,\n",
              "           0.28829,     0.28929,     0.29029,     0.29129,     0.29229,     0.29329,     0.29429,      0.2953,      0.2963,      0.2973,      0.2983,      0.2993,      0.3003,      0.3013,      0.3023,      0.3033,      0.3043,     0.30531,     0.30631,     0.30731,     0.30831,     0.30931,     0.31031,     0.31131,\n",
              "           0.31231,     0.31331,     0.31431,     0.31532,     0.31632,     0.31732,     0.31832,     0.31932,     0.32032,     0.32132,     0.32232,     0.32332,     0.32432,     0.32533,     0.32633,     0.32733,     0.32833,     0.32933,     0.33033,     0.33133,     0.33233,     0.33333,     0.33433,     0.33534,\n",
              "           0.33634,     0.33734,     0.33834,     0.33934,     0.34034,     0.34134,     0.34234,     0.34334,     0.34434,     0.34535,     0.34635,     0.34735,     0.34835,     0.34935,     0.35035,     0.35135,     0.35235,     0.35335,     0.35435,     0.35536,     0.35636,     0.35736,     0.35836,     0.35936,\n",
              "           0.36036,     0.36136,     0.36236,     0.36336,     0.36436,     0.36537,     0.36637,     0.36737,     0.36837,     0.36937,     0.37037,     0.37137,     0.37237,     0.37337,     0.37437,     0.37538,     0.37638,     0.37738,     0.37838,     0.37938,     0.38038,     0.38138,     0.38238,     0.38338,\n",
              "           0.38438,     0.38539,     0.38639,     0.38739,     0.38839,     0.38939,     0.39039,     0.39139,     0.39239,     0.39339,     0.39439,      0.3954,      0.3964,      0.3974,      0.3984,      0.3994,      0.4004,      0.4014,      0.4024,      0.4034,      0.4044,     0.40541,     0.40641,     0.40741,\n",
              "           0.40841,     0.40941,     0.41041,     0.41141,     0.41241,     0.41341,     0.41441,     0.41542,     0.41642,     0.41742,     0.41842,     0.41942,     0.42042,     0.42142,     0.42242,     0.42342,     0.42442,     0.42543,     0.42643,     0.42743,     0.42843,     0.42943,     0.43043,     0.43143,\n",
              "           0.43243,     0.43343,     0.43443,     0.43544,     0.43644,     0.43744,     0.43844,     0.43944,     0.44044,     0.44144,     0.44244,     0.44344,     0.44444,     0.44545,     0.44645,     0.44745,     0.44845,     0.44945,     0.45045,     0.45145,     0.45245,     0.45345,     0.45445,     0.45546,\n",
              "           0.45646,     0.45746,     0.45846,     0.45946,     0.46046,     0.46146,     0.46246,     0.46346,     0.46446,     0.46547,     0.46647,     0.46747,     0.46847,     0.46947,     0.47047,     0.47147,     0.47247,     0.47347,     0.47447,     0.47548,     0.47648,     0.47748,     0.47848,     0.47948,\n",
              "           0.48048,     0.48148,     0.48248,     0.48348,     0.48448,     0.48549,     0.48649,     0.48749,     0.48849,     0.48949,     0.49049,     0.49149,     0.49249,     0.49349,     0.49449,      0.4955,      0.4965,      0.4975,      0.4985,      0.4995,      0.5005,      0.5015,      0.5025,      0.5035,\n",
              "            0.5045,     0.50551,     0.50651,     0.50751,     0.50851,     0.50951,     0.51051,     0.51151,     0.51251,     0.51351,     0.51451,     0.51552,     0.51652,     0.51752,     0.51852,     0.51952,     0.52052,     0.52152,     0.52252,     0.52352,     0.52452,     0.52553,     0.52653,     0.52753,\n",
              "           0.52853,     0.52953,     0.53053,     0.53153,     0.53253,     0.53353,     0.53453,     0.53554,     0.53654,     0.53754,     0.53854,     0.53954,     0.54054,     0.54154,     0.54254,     0.54354,     0.54454,     0.54555,     0.54655,     0.54755,     0.54855,     0.54955,     0.55055,     0.55155,\n",
              "           0.55255,     0.55355,     0.55455,     0.55556,     0.55656,     0.55756,     0.55856,     0.55956,     0.56056,     0.56156,     0.56256,     0.56356,     0.56456,     0.56557,     0.56657,     0.56757,     0.56857,     0.56957,     0.57057,     0.57157,     0.57257,     0.57357,     0.57457,     0.57558,\n",
              "           0.57658,     0.57758,     0.57858,     0.57958,     0.58058,     0.58158,     0.58258,     0.58358,     0.58458,     0.58559,     0.58659,     0.58759,     0.58859,     0.58959,     0.59059,     0.59159,     0.59259,     0.59359,     0.59459,      0.5956,      0.5966,      0.5976,      0.5986,      0.5996,\n",
              "            0.6006,      0.6016,      0.6026,      0.6036,      0.6046,     0.60561,     0.60661,     0.60761,     0.60861,     0.60961,     0.61061,     0.61161,     0.61261,     0.61361,     0.61461,     0.61562,     0.61662,     0.61762,     0.61862,     0.61962,     0.62062,     0.62162,     0.62262,     0.62362,\n",
              "           0.62462,     0.62563,     0.62663,     0.62763,     0.62863,     0.62963,     0.63063,     0.63163,     0.63263,     0.63363,     0.63463,     0.63564,     0.63664,     0.63764,     0.63864,     0.63964,     0.64064,     0.64164,     0.64264,     0.64364,     0.64464,     0.64565,     0.64665,     0.64765,\n",
              "           0.64865,     0.64965,     0.65065,     0.65165,     0.65265,     0.65365,     0.65465,     0.65566,     0.65666,     0.65766,     0.65866,     0.65966,     0.66066,     0.66166,     0.66266,     0.66366,     0.66466,     0.66567,     0.66667,     0.66767,     0.66867,     0.66967,     0.67067,     0.67167,\n",
              "           0.67267,     0.67367,     0.67467,     0.67568,     0.67668,     0.67768,     0.67868,     0.67968,     0.68068,     0.68168,     0.68268,     0.68368,     0.68468,     0.68569,     0.68669,     0.68769,     0.68869,     0.68969,     0.69069,     0.69169,     0.69269,     0.69369,     0.69469,      0.6957,\n",
              "            0.6967,      0.6977,      0.6987,      0.6997,      0.7007,      0.7017,      0.7027,      0.7037,      0.7047,     0.70571,     0.70671,     0.70771,     0.70871,     0.70971,     0.71071,     0.71171,     0.71271,     0.71371,     0.71471,     0.71572,     0.71672,     0.71772,     0.71872,     0.71972,\n",
              "           0.72072,     0.72172,     0.72272,     0.72372,     0.72472,     0.72573,     0.72673,     0.72773,     0.72873,     0.72973,     0.73073,     0.73173,     0.73273,     0.73373,     0.73473,     0.73574,     0.73674,     0.73774,     0.73874,     0.73974,     0.74074,     0.74174,     0.74274,     0.74374,\n",
              "           0.74474,     0.74575,     0.74675,     0.74775,     0.74875,     0.74975,     0.75075,     0.75175,     0.75275,     0.75375,     0.75475,     0.75576,     0.75676,     0.75776,     0.75876,     0.75976,     0.76076,     0.76176,     0.76276,     0.76376,     0.76476,     0.76577,     0.76677,     0.76777,\n",
              "           0.76877,     0.76977,     0.77077,     0.77177,     0.77277,     0.77377,     0.77477,     0.77578,     0.77678,     0.77778,     0.77878,     0.77978,     0.78078,     0.78178,     0.78278,     0.78378,     0.78478,     0.78579,     0.78679,     0.78779,     0.78879,     0.78979,     0.79079,     0.79179,\n",
              "           0.79279,     0.79379,     0.79479,      0.7958,      0.7968,      0.7978,      0.7988,      0.7998,      0.8008,      0.8018,      0.8028,      0.8038,      0.8048,     0.80581,     0.80681,     0.80781,     0.80881,     0.80981,     0.81081,     0.81181,     0.81281,     0.81381,     0.81481,     0.81582,\n",
              "           0.81682,     0.81782,     0.81882,     0.81982,     0.82082,     0.82182,     0.82282,     0.82382,     0.82482,     0.82583,     0.82683,     0.82783,     0.82883,     0.82983,     0.83083,     0.83183,     0.83283,     0.83383,     0.83483,     0.83584,     0.83684,     0.83784,     0.83884,     0.83984,\n",
              "           0.84084,     0.84184,     0.84284,     0.84384,     0.84484,     0.84585,     0.84685,     0.84785,     0.84885,     0.84985,     0.85085,     0.85185,     0.85285,     0.85385,     0.85485,     0.85586,     0.85686,     0.85786,     0.85886,     0.85986,     0.86086,     0.86186,     0.86286,     0.86386,\n",
              "           0.86486,     0.86587,     0.86687,     0.86787,     0.86887,     0.86987,     0.87087,     0.87187,     0.87287,     0.87387,     0.87487,     0.87588,     0.87688,     0.87788,     0.87888,     0.87988,     0.88088,     0.88188,     0.88288,     0.88388,     0.88488,     0.88589,     0.88689,     0.88789,\n",
              "           0.88889,     0.88989,     0.89089,     0.89189,     0.89289,     0.89389,     0.89489,      0.8959,      0.8969,      0.8979,      0.8989,      0.8999,      0.9009,      0.9019,      0.9029,      0.9039,      0.9049,     0.90591,     0.90691,     0.90791,     0.90891,     0.90991,     0.91091,     0.91191,\n",
              "           0.91291,     0.91391,     0.91491,     0.91592,     0.91692,     0.91792,     0.91892,     0.91992,     0.92092,     0.92192,     0.92292,     0.92392,     0.92492,     0.92593,     0.92693,     0.92793,     0.92893,     0.92993,     0.93093,     0.93193,     0.93293,     0.93393,     0.93493,     0.93594,\n",
              "           0.93694,     0.93794,     0.93894,     0.93994,     0.94094,     0.94194,     0.94294,     0.94394,     0.94494,     0.94595,     0.94695,     0.94795,     0.94895,     0.94995,     0.95095,     0.95195,     0.95295,     0.95395,     0.95495,     0.95596,     0.95696,     0.95796,     0.95896,     0.95996,\n",
              "           0.96096,     0.96196,     0.96296,     0.96396,     0.96496,     0.96597,     0.96697,     0.96797,     0.96897,     0.96997,     0.97097,     0.97197,     0.97297,     0.97397,     0.97497,     0.97598,     0.97698,     0.97798,     0.97898,     0.97998,     0.98098,     0.98198,     0.98298,     0.98398,\n",
              "           0.98498,     0.98599,     0.98699,     0.98799,     0.98899,     0.98999,     0.99099,     0.99199,     0.99299,     0.99399,     0.99499,       0.996,       0.997,       0.998,       0.999,           1]), array([[    0.99158,     0.99158,     0.99158,     0.99158,     0.99158,     0.99158,     0.98738,     0.98738,     0.98738,     0.98597,     0.98597,     0.98597,     0.98597,     0.98597,     0.98597,     0.98597,     0.98597,     0.98597,     0.98597,     0.98597,     0.98597,     0.98597,     0.98597,\n",
              "            0.98597,     0.98597,     0.98597,     0.98597,     0.98457,     0.98457,     0.98457,     0.98457,     0.98457,     0.98457,     0.98457,     0.98457,     0.98457,     0.98457,     0.98457,     0.98457,     0.98317,     0.98177,     0.98177,     0.98177,     0.98177,     0.98177,     0.98177,\n",
              "            0.98177,     0.98047,     0.97896,     0.97896,     0.97896,     0.97896,     0.97896,     0.97896,     0.97896,     0.97896,     0.97896,     0.97896,     0.97726,     0.97616,     0.97616,     0.97616,     0.97616,     0.97616,     0.97616,     0.97616,     0.97475,     0.97475,     0.97475,\n",
              "            0.97475,     0.97475,     0.97475,     0.97475,     0.97475,     0.97475,     0.97475,     0.97475,     0.97475,     0.97475,     0.97475,     0.97475,     0.97475,     0.97475,     0.97475,     0.97475,     0.97475,     0.97475,     0.97475,     0.97475,     0.97475,     0.97475,     0.97475,\n",
              "            0.97475,     0.97475,     0.97475,     0.97475,     0.97475,     0.97475,     0.97475,     0.97475,     0.97428,     0.97363,     0.97335,     0.97335,     0.97335,     0.97335,     0.97335,     0.97335,     0.97335,     0.97335,     0.97335,     0.97335,     0.97335,     0.97335,     0.97335,\n",
              "            0.97335,     0.97335,     0.97335,     0.97335,     0.97335,     0.97335,     0.97335,     0.97335,     0.97335,     0.97335,     0.97335,     0.97335,     0.97335,     0.97335,     0.97335,     0.97335,     0.97335,     0.97335,     0.97335,     0.97335,     0.97249,     0.97195,     0.97055,\n",
              "            0.97055,     0.97055,     0.97055,     0.97055,     0.97055,     0.97055,     0.97055,     0.97055,     0.97055,     0.97055,     0.97055,     0.97055,     0.97055,     0.97055,     0.97055,     0.97011,     0.96938,     0.96839,     0.96774,     0.96774,     0.96774,     0.96774,     0.96774,\n",
              "            0.96774,     0.96737,     0.96659,     0.96634,     0.96634,     0.96493,     0.96478,     0.96463,     0.96448,     0.96432,     0.96417,     0.96402,     0.96386,     0.96371,     0.96356,     0.96254,     0.96213,     0.96213,     0.96213,     0.96213,     0.96213,     0.96213,     0.96213,\n",
              "            0.96213,     0.96213,     0.96213,     0.96213,     0.96213,     0.96213,     0.96213,     0.96213,     0.96204,     0.96174,     0.96144,     0.96114,     0.96083,     0.96073,     0.96073,     0.96073,     0.96073,     0.96073,     0.96073,     0.96073,     0.96073,     0.96073,     0.96073,\n",
              "            0.96073,     0.96073,     0.96073,     0.96073,     0.96073,     0.96073,     0.96073,     0.96073,     0.96073,     0.96073,     0.96073,     0.96073,     0.96073,     0.96002,     0.95933,     0.95933,     0.95933,     0.95933,     0.95933,     0.95933,     0.95933,     0.95876,     0.95809,\n",
              "            0.95792,     0.95792,     0.95792,     0.95792,     0.95792,     0.95792,     0.95792,     0.95792,     0.95792,     0.95792,     0.95792,     0.95792,     0.95792,     0.95792,     0.95792,     0.95792,     0.95792,     0.95792,     0.95792,     0.95792,     0.95792,     0.95792,     0.95792,\n",
              "            0.95792,     0.95792,     0.95792,     0.95792,     0.95792,     0.95792,     0.95792,     0.95792,     0.95792,     0.95792,     0.95792,     0.95792,     0.95792,     0.95792,     0.95792,     0.95792,     0.95792,     0.95792,     0.95792,     0.95792,     0.95792,     0.95792,     0.95792,\n",
              "            0.95792,     0.95792,     0.95792,     0.95792,     0.95792,     0.95792,     0.95792,     0.95792,     0.95792,     0.95792,     0.95792,     0.95792,     0.95792,     0.95792,     0.95792,     0.95792,     0.95792,     0.95792,     0.95792,     0.95792,     0.95792,     0.95792,     0.95792,\n",
              "            0.95792,     0.95792,     0.95792,     0.95792,     0.95792,     0.95792,     0.95792,     0.95792,     0.95792,     0.95792,     0.95792,     0.95792,      0.9573,     0.95664,     0.95608,     0.95554,     0.95512,     0.95512,     0.95512,     0.95512,     0.95512,     0.95512,     0.95512,\n",
              "            0.95512,     0.95512,     0.95512,     0.95512,     0.95512,     0.95512,     0.95512,     0.95512,     0.95512,     0.95512,     0.95512,     0.95512,     0.95512,     0.95512,     0.95512,     0.95512,     0.95512,     0.95512,     0.95512,     0.95512,     0.95512,     0.95512,     0.95512,\n",
              "            0.95512,     0.95512,     0.95512,     0.95512,     0.95512,     0.95512,     0.95512,     0.95512,     0.95512,     0.95486,     0.95452,     0.95418,     0.95383,     0.95372,     0.95372,     0.95372,     0.95372,     0.95372,     0.95372,     0.95372,     0.95372,     0.95372,     0.95372,\n",
              "            0.95372,     0.95372,     0.95372,     0.95372,     0.95372,     0.95372,     0.95372,     0.95372,     0.95372,     0.95372,     0.95372,     0.95372,     0.95372,     0.95372,     0.95372,     0.95372,     0.95372,     0.95372,     0.95372,     0.95372,     0.95372,     0.95372,     0.95372,\n",
              "            0.95372,     0.95372,     0.95372,     0.95372,     0.95372,     0.95372,     0.95372,     0.95372,     0.95372,      0.9536,     0.95345,     0.95331,     0.95317,     0.95302,     0.95288,     0.95274,     0.95259,     0.95245,     0.95231,     0.95226,     0.95201,     0.95176,     0.95151,\n",
              "            0.95126,     0.95102,     0.95087,     0.95077,     0.95067,     0.95057,     0.95047,     0.95037,     0.95026,     0.95016,     0.95006,     0.94996,     0.94986,     0.94976,     0.94965,     0.94955,     0.94807,       0.948,     0.94793,     0.94786,     0.94778,     0.94771,     0.94764,\n",
              "            0.94757,      0.9475,     0.94742,     0.94735,     0.94728,     0.94721,     0.94714,     0.94706,     0.94699,     0.94692,     0.94685,     0.94678,      0.9467,      0.9467,      0.9467,      0.9467,     0.94633,     0.94595,     0.94556,      0.9453,      0.9453,      0.9453,      0.9453,\n",
              "             0.9453,      0.9453,      0.9453,      0.9453,      0.9453,      0.9453,      0.9453,      0.9453,      0.9453,     0.94525,     0.94515,     0.94505,     0.94495,     0.94486,     0.94476,     0.94466,     0.94456,     0.94446,     0.94436,     0.94427,     0.94417,     0.94407,     0.94397,\n",
              "             0.9439,      0.9439,      0.9439,     0.94378,     0.94361,     0.94344,     0.94327,      0.9431,     0.94293,     0.94276,     0.94259,      0.9425,      0.9425,      0.9425,      0.9425,      0.9425,      0.9425,      0.9425,      0.9425,      0.9425,     0.94239,     0.94227,     0.94216,\n",
              "            0.94205,     0.94193,     0.94182,      0.9417,     0.94159,     0.94147,     0.94136,     0.94124,     0.94113,     0.94101,     0.94089,     0.94077,     0.94065,     0.94053,     0.94041,     0.94029,     0.94017,     0.94005,     0.93993,     0.93981,     0.93969,     0.93937,     0.93906,\n",
              "            0.93875,     0.93843,     0.93807,     0.93766,     0.93725,     0.93689,     0.93689,     0.93689,     0.93689,     0.93689,     0.93548,     0.93548,     0.93548,     0.93548,     0.93548,     0.93548,     0.93548,     0.93432,     0.93398,     0.93388,     0.93377,     0.93367,     0.93356,\n",
              "            0.93346,     0.93335,     0.93325,     0.93314,     0.93304,     0.93293,     0.93283,     0.93272,     0.93268,     0.93268,     0.93115,     0.93082,      0.9305,     0.93018,     0.92977,     0.92843,     0.92825,     0.92808,     0.92791,     0.92773,     0.92756,     0.92739,     0.92721,\n",
              "            0.92698,     0.92642,     0.92586,     0.92567,     0.92567,     0.92498,     0.92426,     0.92426,     0.92367,     0.92285,     0.92274,     0.92263,     0.92252,     0.92241,     0.92231,      0.9222,     0.92209,     0.92198,     0.92187,     0.92176,     0.92165,     0.92154,     0.92146,\n",
              "            0.92146,     0.92121,     0.92084,     0.92048,     0.92011,     0.91973,     0.91935,     0.91897,     0.91865,     0.91865,     0.91865,     0.91865,     0.91865,     0.91865,     0.91865,     0.91865,     0.91865,     0.91865,     0.91865,     0.91865,     0.91865,     0.91865,     0.91865,\n",
              "            0.91865,     0.91865,     0.91865,     0.91865,     0.91865,     0.91865,     0.91865,     0.91865,     0.91865,      0.9183,      0.9176,     0.91725,     0.91725,     0.91725,     0.91682,     0.91611,     0.91304,     0.91304,     0.91304,     0.91282,     0.91198,     0.90869,     0.90832,\n",
              "            0.90796,      0.9076,     0.90743,     0.90743,     0.90702,     0.90649,     0.90586,     0.90471,     0.90371,     0.90312,     0.90262,     0.90211,     0.90167,      0.9013,     0.90093,     0.90056,     0.90042,     0.89974,     0.89865,     0.89811,      0.8976,     0.89748,     0.89736,\n",
              "            0.89724,     0.89711,     0.89699,     0.89687,     0.89675,     0.89662,      0.8965,     0.89638,     0.89626,     0.89481,     0.89481,     0.89481,     0.89481,     0.89481,     0.89433,     0.89282,     0.89173,     0.89066,     0.89007,     0.88952,       0.889,     0.88854,     0.88807,\n",
              "            0.88668,     0.88474,     0.88359,     0.88359,     0.88195,     0.88154,     0.88113,     0.88066,      0.8798,     0.87914,     0.87868,     0.87822,     0.87786,      0.8776,     0.87735,     0.87709,     0.87684,     0.87658,     0.87521,     0.87377,     0.87126,     0.86938,     0.86916,\n",
              "            0.86894,     0.86871,     0.86849,     0.86827,     0.86379,      0.8627,     0.86092,     0.86054,     0.86016,     0.85978,      0.8583,      0.8568,     0.85644,     0.85608,     0.85571,     0.85463,     0.85274,     0.85218,     0.85162,     0.85043,      0.8482,     0.84748,     0.84663,\n",
              "             0.8457,     0.84538,     0.84507,     0.84475,     0.84444,     0.84141,     0.83802,     0.83679,     0.83607,     0.83077,     0.82743,     0.82328,     0.82108,     0.82019,     0.81982,     0.81946,     0.81909,      0.8135,     0.81165,      0.8109,     0.80455,     0.80114,     0.79768,\n",
              "            0.79635,      0.7951,     0.79244,     0.79052,     0.78699,     0.78273,     0.78094,     0.78019,     0.77589,     0.77259,     0.76941,     0.76816,     0.76733,     0.76586,     0.76254,     0.75979,     0.75834,     0.75371,     0.75145,     0.74766,     0.74478,     0.73688,     0.73064,\n",
              "            0.72792,     0.72469,     0.72122,     0.71645,     0.71421,     0.71195,     0.71126,     0.70783,     0.70472,     0.69858,     0.69459,     0.69292,     0.68543,     0.68343,     0.68091,     0.67684,     0.67224,     0.66243,     0.65595,     0.65257,     0.65146,     0.64885,     0.64397,\n",
              "            0.63368,      0.6255,     0.61887,     0.61083,     0.60674,      0.6021,     0.59601,     0.58021,     0.56954,     0.54921,     0.53968,     0.52892,     0.51742,     0.50858,     0.49602,     0.48962,     0.48668,     0.48152,     0.47339,      0.4631,      0.4605,     0.44157,     0.42955,\n",
              "            0.42175,     0.41974,     0.41157,     0.39556,     0.38183,     0.36286,      0.3494,     0.34312,     0.32663,     0.31798,     0.31075,     0.29697,     0.28628,     0.27257,     0.26324,     0.25682,     0.24795,     0.24083,     0.23208,     0.22968,     0.22176,     0.21962,      0.2168,\n",
              "            0.20876,      0.1951,     0.18919,     0.18377,     0.17798,       0.171,     0.16787,     0.16466,     0.16141,     0.15511,     0.14934,     0.14373,      0.1358,     0.13379,     0.13212,     0.12793,     0.12598,     0.12433,     0.12201,     0.11898,     0.11799,     0.11422,      0.1102,\n",
              "            0.10647,     0.10355,     0.10091,    0.099771,    0.095291,    0.094491,    0.092607,    0.089508,    0.086502,    0.085202,    0.082099,    0.078189,    0.077023,    0.070921,    0.066993,     0.06649,    0.065987,     0.06406,    0.062249,    0.058481,     0.05754,    0.054122,    0.052895,\n",
              "           0.052188,    0.048992,    0.048666,    0.048341,    0.048015,    0.047689,    0.047517,    0.047347,    0.047177,    0.047006,    0.046836,    0.046665,    0.046495,    0.046325,    0.046184,    0.046052,    0.045921,    0.045789,    0.045657,    0.045526,    0.045394,    0.045263,    0.045131,\n",
              "           0.044999,    0.044872,    0.044781,     0.04469,    0.044599,    0.044508,    0.044417,    0.044326,    0.044235,    0.044144,    0.044053,    0.043962,    0.043871,     0.04378,    0.043689,    0.043598,    0.043507,    0.040918,    0.037798,    0.034699,    0.030603,     0.02649,     0.02422,\n",
              "           0.022165,    0.015961,   0.0090655,   0.0059524,   0.0050422,   0.0043098,   0.0036182,   0.0029333,           0,           0,           0,           0,           0,           0,           0,           0,           0,           0,           0,           0,           0,           0,           0,\n",
              "                  0,           0,           0,           0,           0,           0,           0,           0,           0,           0,           0,           0,           0,           0,           0,           0,           0,           0,           0,           0,           0,           0,           0,\n",
              "                  0,           0,           0,           0,           0,           0,           0,           0,           0,           0,           0]]), 'Confidence', 'Recall']]\n",
              "fitness: 0.7269379837681123\n",
              "keys: ['metrics/precision(B)', 'metrics/recall(B)', 'metrics/mAP50(B)', 'metrics/mAP50-95(B)']\n",
              "maps: array([    0.69848])\n",
              "names: {0: 'sheep'}\n",
              "plot: True\n",
              "results_dict: {'metrics/precision(B)': 0.9522640429729792, 'metrics/recall(B)': 0.9512645408584565, 'metrics/mAP50(B)': 0.9830285084766128, 'metrics/mAP50-95(B)': 0.6984834810227232, 'fitness': 0.7269379837681123}\n",
              "save_dir: PosixPath('pretrained/augmented_epoch202')\n",
              "speed: {'preprocess': 0.26418631995103387, 'inference': 21.297894602529574, 'loss': 0.0009427222262001712, 'postprocess': 1.6411311213624773}\n",
              "task: 'detect'"
            ]
          },
          "metadata": {},
          "execution_count": 7
        }
      ]
    },
    {
      "cell_type": "code",
      "source": [],
      "metadata": {
        "id": "wlYxFxY6iE6o"
      },
      "execution_count": null,
      "outputs": []
    }
  ]
}