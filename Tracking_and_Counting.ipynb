{
  "cells": [
    {
      "cell_type": "code",
      "execution_count": null,
      "metadata": {
        "id": "YFoiKGZscBSv"
      },
      "outputs": [],
      "source": [
        "!pip install ultralytics cvzone deep-sort-realtime gdown"
      ]
    },
    {
      "cell_type": "code",
      "execution_count": null,
      "metadata": {
        "id": "r-bbV2M5cIeE"
      },
      "outputs": [],
      "source": [
        "from ultralytics import YOLO\n",
        "import cv2\n",
        "from google.colab.patches import cv2_imshow\n",
        "import numpy as np\n",
        "import matplotlib.pyplot as plt"
      ]
    },
    {
      "cell_type": "code",
      "execution_count": null,
      "metadata": {
        "id": "PW30dAVacWhl"
      },
      "outputs": [],
      "source": [
        "!gdown 'https://drive.google.com/uc?id=14Ol1dOIzf2Ve9ZS0VyB1e0wXk-9y6sFj' -O augmented_20.pt\n",
        "!gdown 'https://drive.google.com/uc?id=1qgyo5Bwv-lOB0jme9m5tfQvMPyYiN-w7' -O 03.jpg\n",
        "!gdown 'https://drive.google.com/uc?id=1Yv9hKyOJ8x2OiJqOaOi_cdrJwPB1SfpG' -O sheep_farm.mp4\n",
        "model = YOLO('/content/augmented_20.pt')\n",
        "video_path = '/content/sheep_farm.mp4'\n",
        "output_path = '/content/sheepie_farm.mp4'"
      ]
    },
    {
      "cell_type": "code",
      "execution_count": null,
      "metadata": {
        "id": "xrgkkkUlplCJ"
      },
      "outputs": [],
      "source": [
        "from deep_sort_realtime.deepsort_tracker import DeepSort\n",
        "import cvzone\n",
        "class Tracking():\n",
        "  def __init__(self, model):\n",
        "    self.model = model\n",
        "\n",
        "    self.tracker = DeepSort(\n",
        "            max_age=3,\n",
        "            n_init=3,\n",
        "            nms_max_overlap=0.5,\n",
        "            max_cosine_distance=0.3,\n",
        "            nn_budget=None,\n",
        "            override_track_class=None,\n",
        "            embedder=\"mobilenet\",\n",
        "            half=True,\n",
        "            bgr=True,\n",
        "            embedder_gpu=True,\n",
        "            embedder_model_name=None,\n",
        "            embedder_wts=None,\n",
        "            polygon=False,\n",
        "            today=None\n",
        "        )\n",
        "    self.model.to('cuda')\n",
        "\n",
        "\n",
        "\n",
        "\n",
        "\n",
        "  def get_raw_detections(self, img):\n",
        "    '''\n",
        "    get raw_detections data for tracker of DeepSORT\n",
        "    '''\n",
        "    results = self.model(img)\n",
        "    detections = []\n",
        "    for result in results:\n",
        "        boxes = result.boxes\n",
        "        for box in boxes:\n",
        "            x1, y1, x2, y2 = box.xyxy[0]\n",
        "            x1, y1, x2, y2 = int(x1), int(y1), int(x2), int(y2)\n",
        "            w, h = x2 - x1, y2 - y1\n",
        "\n",
        "            cls = int(box.cls[0])\n",
        "            conf = float(box.conf[0])\n",
        "\n",
        "            #only predictions have the confidence score > 0.6 are remained\n",
        "            if conf > 0.6:\n",
        "                detections.append(([x1, y1, x2 - x1, y2 - y1], conf, cls))\n",
        "    return detections\n",
        "\n",
        "\n",
        "\n",
        "\n",
        "  def tracking_and_counting(self, img):\n",
        "\n",
        "    raw_detections = self.get_raw_detections(img)\n",
        "    tracks = self.tracker.update_tracks(raw_detections=raw_detections, frame=img)\n",
        "\n",
        "\n",
        "    for track in tracks:\n",
        "      track_id = track.track_id\n",
        "      ltrb = track.to_ltrb()\n",
        "      x1, y1, x2, y2 = ltrb\n",
        "      x1, y1, x2, y2 = int(x1), int(y1), int(x2), int(y2)\n",
        "      w, h = x2 - x1, y2 - y1\n",
        "\n",
        "      if not self.video:\n",
        "        #handle image-input situation\n",
        "        self.counting.add(track_id)\n",
        "      else:\n",
        "        if not track.is_confirmed(): continue\n",
        "\n",
        "        #each center point of sheep's head pass the line will increase the statistical result\n",
        "        passed = ((y2 + y1) / 2) >= ((self.height // 6) * 5)\n",
        "        if passed:\n",
        "          self.counting.add(track_id)\n",
        "\n",
        "      #draw bounding box and id of sheep's head\n",
        "      cvzone.putTextRect(img, f'ID:{track_id}', (x1+10, y1-10), scale=1, thickness=2, colorT=(0, 0, 0), colorR=(255, 255, 255))\n",
        "      cvzone.cornerRect(img, (x1, y1, w, h), l=5, rt=1, colorR=(0, 0, 255))\n",
        "\n",
        "    if self.video:\n",
        "      cv2.line(img, (0, (self.height // 6) * 5), (self.width, (self.height // 6) * 5), (0, 0, 190), 10)\n",
        "    cvzone.putTextRect(img, f'Counted:{len(self.counting)}', (50, 50), scale=4, thickness=2, colorT=(0, 0, 0), colorR=(255, 255, 255))\n",
        "    return img\n",
        "\n",
        "\n",
        "\n",
        "\n",
        "\n",
        "  def process(self, inp, outp, video=True):\n",
        "    self.video = video\n",
        "    #for image only\n",
        "    if not video:\n",
        "      #init counting engine\n",
        "      self.counting = set()\n",
        "      img = cv2.imread(inp)\n",
        "      img = self.tracking_and_counting(img)\n",
        "      cv2.imwrite(outp, img)\n",
        "      return\n",
        "\n",
        "    #for video\n",
        "\n",
        "    #setup video properties\n",
        "    cap = cv2.VideoCapture(inp)\n",
        "    fourcc = cv2.VideoWriter_fourcc(*'mp4v')\n",
        "    fps = (cap.get(cv2.CAP_PROP_FPS) // 3) * 2\n",
        "    self.width = int(cap.get(cv2.CAP_PROP_FRAME_WIDTH))\n",
        "    self.height = int(cap.get(cv2.CAP_PROP_FRAME_HEIGHT))\n",
        "    out = cv2.VideoWriter(outp, fourcc, fps, (self.width, self.height))\n",
        "\n",
        "    #init counting engine\n",
        "    self.counting = set()\n",
        "\n",
        "    while cap.isOpened():\n",
        "      ret, frame = cap.read()\n",
        "      if not ret: break\n",
        "      frame = self.tracking(frame)\n",
        "      out.write(frame)\n",
        "    out.release()\n",
        "    cap.release()"
      ]
    },
    {
      "cell_type": "code",
      "execution_count": null,
      "metadata": {
        "id": "6gQFCK_3qdUM"
      },
      "outputs": [],
      "source": [
        "tracking = Tracking(model)\n",
        "tracking.process('/content/03.jpg', '/content/03_p.jpg', video=False)\n",
        "tracking.process(video_path, output_path)"
      ]
    }
  ],
  "metadata": {
    "accelerator": "GPU",
    "colab": {
      "gpuType": "T4",
      "provenance": []
    },
    "kernelspec": {
      "display_name": "Python 3",
      "name": "python3"
    },
    "language_info": {
      "name": "python"
    }
  },
  "nbformat": 4,
  "nbformat_minor": 0
}